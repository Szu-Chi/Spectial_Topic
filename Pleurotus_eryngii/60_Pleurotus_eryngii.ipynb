{
 "cells": [
  {
   "cell_type": "code",
   "execution_count": 1,
   "metadata": {
    "collapsed": false
   },
   "outputs": [],
   "source": [
    "import numpy as np\n",
    "import h5py\n",
    "import cv2\n",
    "import glob\n",
    "import matplotlib.pyplot as plt\n",
    "import time\n",
    "import sys\n",
    "import tensorflow as tf\n",
    "from random import randint\n"
   ]
  },
  {
   "cell_type": "markdown",
   "metadata": {
    "collapsed": false
   },
   "source": [
    "# read file for `white` picture"
   ]
  },
  {
   "cell_type": "code",
   "execution_count": 2,
   "metadata": {
    "collapsed": false
   },
   "outputs": [
    {
     "name": "stdout",
     "output_type": "stream",
     "text": [
      "reading data of white...\n"
     ]
    },
    {
     "name": "stdout",
     "output_type": "stream",
     "text": [
      "reading data of white sucessful\n",
      "\n"
     ]
    }
   ],
   "source": [
    "def read_while_file():\n",
    "    print(\"reading data of white...\")\n",
    "    file_path='d:/Special_topic/pleurotus_eryngii/white/*'\n",
    "    file_name = glob.glob(file_path)\n",
    "    file_num = len(file_name)\n",
    "\n",
    "    data = np.array(file_num*[480*[640*[3*[None]]]])\n",
    "\n",
    "    for i in range(file_num):\n",
    "        data[i] = cv2.imread(file_name[i])\n",
    "\n",
    "    data = data.astype('uint8')\n",
    "\n",
    "    ## plot image for white data\n",
    "    # plt.figure(figsize=(10,5))\n",
    "    # for i in range(file_num):\n",
    "    #     plt.subplot(3,3,i+1)\n",
    "    #     plt.axis(\"off\")\n",
    "    #     plt.title(file_name[i])\n",
    "        # print(\"data[i-1].shpae: \",data[i-1].shape)\n",
    "        # plt.imshow(cv2.cvtColor(data[i], cv2.COLOR_BGR2RGB))\n",
    "    # plt.show()\n",
    "\n",
    "    print(\"reading data of white sucessful\\n\")\n",
    "    return data\n",
    "\n",
    "\n",
    "white_data = read_while_file()\n"
   ]
  },
  {
   "cell_type": "markdown",
   "metadata": {
    "collapsed": false
   },
   "source": [
    "# read file for `data` picture"
   ]
  },
  {
   "cell_type": "code",
   "execution_count": 3,
   "metadata": {
    "collapsed": false
   },
   "outputs": [
    {
     "name": "stdout",
     "output_type": "stream",
     "text": [
      "reading data....\n",
      "group_num =  5\n"
     ]
    },
    {
     "name": "stdout",
     "output_type": "stream",
     "text": [
      "data.shpae =  (5, 2, 6, 480, 640, 3)\n",
      "processing group 0 ...\n",
      "processing group 1 ...\n",
      "processing group 2 ...\n",
      "processing group 3 ...\n"
     ]
    },
    {
     "name": "stdout",
     "output_type": "stream",
     "text": [
      "processing group 4 ...\n",
      "\n",
      "reading data sucessful\n",
      "\n"
     ]
    }
   ],
   "source": [
    "def read_data_file():\n",
    "    print(\"reading data....\")\n",
    "    file_path='d:/Special_topic/pleurotus_eryngii/1030/*'\n",
    "    file_name = glob.glob(file_path)\n",
    "    group_num = 5 #len(file_name)//9\n",
    "    print(\"group_num = \", group_num)\n",
    "\n",
    "    ## [group_num][black&LED select][NumOfPicture][picture(480*640*3)]\n",
    "    data = np.array(group_num*[2*[6*[480*[640*[3*[None]]]]]])\n",
    "    print(\"data.shpae = \",data.shape)\n",
    "\n",
    "    for group in range(group_num):\n",
    "        print(\"processing group {} ...\".format(group))\n",
    "\n",
    "        for black in range(3):\n",
    "            data[group][0][black] = cv2.imread(file_name[group*9+black])\n",
    "\n",
    "        for LED in range(6):\n",
    "            data[group][1][LED] = cv2.imread(file_name[group*9+3+LED])\n",
    "\n",
    "    print(\"\\nreading data sucessful\\n\")\n",
    "    return data,group_num\n",
    "\n",
    "#=========================================================\n",
    "data, data_Gnum = read_data_file()\n"
   ]
  },
  {
   "cell_type": "code",
   "execution_count": 4,
   "metadata": {
    "collapsed": false
   },
   "outputs": [],
   "source": [
    "# solve div0 question\n",
    "def div0( a, b ):\n",
    "    \"\"\" ignore / 0, div0( [-1, 0, 1], 0 ) -> [0, 0, 0] \"\"\"\n",
    "    with np.errstate(divide='ignore', invalid='ignore'):\n",
    "        c = np.true_divide( a, b )\n",
    "        c[ ~ np.isfinite( c )] = 0  # -inf inf NaN\n",
    "    return c\n",
    "\n",
    "def print_info(img):\n",
    "    print(\"max =\",np.amax(img))\n",
    "    print(\"min =\",np.amin(img))\n",
    "    print(\"mean=\",np.mean(img))\n"
   ]
  },
  {
   "cell_type": "markdown",
   "metadata": {
    "collapsed": false
   },
   "source": [
    "# calculate reflectivity"
   ]
  },
  {
   "cell_type": "code",
   "execution_count": 5,
   "metadata": {
    "collapsed": false
   },
   "outputs": [
    {
     "name": "stdout",
     "output_type": "stream",
     "text": [
      "reflectivity.shape= (5, 6, 480, 640, 3)\n"
     ]
    },
    {
     "name": "stdout",
     "output_type": "stream",
     "text": [
      "\n",
      "processing group 0 ...\n",
      "processing group 1 ...\n"
     ]
    },
    {
     "name": "stdout",
     "output_type": "stream",
     "text": [
      "processing group 2 ...\n",
      "processing group 3 ...\n",
      "processing group 4 ...\n"
     ]
    },
    {
     "name": "stdout",
     "output_type": "stream",
     "text": [
      "process sucessful\n",
      "\n"
     ]
    }
   ],
   "source": [
    "# [group_num][NumOfPicture(LED)][picture(480*640*3)]\n",
    "reflectivity = np.array(data_Gnum*[6*[480*[640*[3*[0]]]]],dtype='float32')\n",
    "print(\"reflectivity.shape=\", reflectivity.shape)\n",
    "white_data = white_data.astype('float32')\n",
    "data = data.astype('float32')\n",
    "print()\n",
    "\n",
    "dark_30 = white_data[2]\n",
    "dark_40 = white_data[0]\n",
    "dark_100= white_data[1]\n",
    "# print(\"dark_100.shape=\",dark_100.shape)\n",
    "\n",
    "LED1_white = white_data[3]\n",
    "LED2_white = white_data[4]\n",
    "LED3_white = white_data[5]\n",
    "LED4_white = white_data[5]\n",
    "LED5_white = white_data[7]\n",
    "LED6_white = white_data[8]\n",
    "# print(\"LED6_white.shape=\",LED6_whdef array_divide(a,b):\n",
    "\n",
    "for Gnum in range(data_Gnum):\n",
    "    LED1 = data[Gnum][1][0]\n",
    "    LED2 = data[Gnum][1][1]\n",
    "    LED3 = data[Gnum][1][2]\n",
    "    LED4 = data[Gnum][1][3]\n",
    "    LED5 = data[Gnum][1][4]\n",
    "    LED6 = data[Gnum][1][5]\n",
    "    # print(\"LED6.shape=\",LED6.shape)\n",
    "\n",
    "    reflectivity[Gnum][0] = div0((LED1-dark_40) , (LED1_white-dark_40))\n",
    "    reflectivity[Gnum][1] = div0((LED2-dark_30) , (LED2_white-dark_30))\n",
    "    reflectivity[Gnum][2] = div0((LED3-dark_30) , (LED3_white-dark_30))\n",
    "    reflectivity[Gnum][3] = div0((LED4-dark_30) , (LED4_white-dark_30))\n",
    "    reflectivity[Gnum][4] = div0((LED5-dark_30) , (LED5_white-dark_30))\n",
    "    reflectivity[Gnum][5] = div0((LED6-dark_100), (LED6_white-dark_100))\n",
    "\n",
    "    # temp1 = (LED1-dark_30)\n",
    "    # temp2 = LED1_white-dark_30\n",
    "    # temp3 = div0(temp1,temp2)\n",
    "\n",
    "    # temp3[temp3<0] = 0\n",
    "    # temp3[temp3>1] = 1\n",
    "\n",
    "    print(\"processing group {} ...\".format(Gnum))\n",
    "\n",
    "reflectivity[reflectivity<0] = 0\n",
    "reflectivity[reflectivity>1] = 1\n",
    "print(\"process sucessful\\n\")\n"
   ]
  },
  {
   "cell_type": "code",
   "execution_count": null,
   "metadata": {
    "collapsed": false
   },
   "outputs": [],
   "source": [
    "def set_figure_size():\n",
    "    plt.figure(figsize=(20,10))\n",
    "\n",
    "# [group_num][NumOfPicture(LED)][picture(480*640*3)]\n",
    "color = ['Blue','Green','Red']\n",
    "for Gnum in range(data_Gnum):\n",
    "    print(\" group {} ==================================\".format(Gnum))\n",
    "    set_figure_size()\n",
    "    for i in range(1,7):\n",
    "        plt.subplot(1,6,i)\n",
    "        plt.axis(\"off\")\n",
    "        plt.title(\"LED{}, {}\".format(i,'true color'))\n",
    "        plt.imshow(cv2.cvtColor(reflectivity[Gnum][(i-1)//3], cv2.COLOR_BGR2RGB))\n",
    "    plt.show()\n",
    "\n",
    "    set_figure_size()\n",
    "    for i in range(1,7):\n",
    "        for j in range(1,4):\n",
    "            plt.subplot(3,6,i+(j-1)*6)\n",
    "            plt.axis(\"off\")\n",
    "            plt.title(\"LED{}, {}\".format(i,color[j-1]))\n",
    "            plt.imshow(reflectivity[Gnum][i-1][:,:,j-1], plt.cm.gray, vmax=1.0)\n",
    "    plt.show()\n"
   ]
  },
  {
   "cell_type": "markdown",
   "metadata": {
    "collapsed": false
   },
   "source": [
    "# ===================== temp ====================="
   ]
  },
  {
   "cell_type": "code",
   "execution_count": null,
   "metadata": {
    "collapsed": false
   },
   "outputs": [],
   "source": [
    "print(np.amin(reflectivity[0][0][:,:,0]))\n",
    "print(np.amax(reflectivity[0][0][:,:,0]))\n",
    "print(np.mean(reflectivity[0][0][:,:,0]))\n",
    "print()\n",
    "print(np.amin(reflectivity[0][0][:,:,1]))\n",
    "print(np.amax(reflectivity[0][0][:,:,1]))\n",
    "print(np.mean(reflectivity[0][0][:,:,1]))\n",
    "print()\n",
    "print(np.amin(reflectivity[0][0][:,:,2]))\n",
    "print(np.amax(reflectivity[0][0][:,:,2]))\n",
    "print(np.mean(reflectivity[0][0][:,:,2]))\n",
    "print()\n",
    "\n"
   ]
  },
  {
   "cell_type": "code",
   "execution_count": null,
   "metadata": {
    "collapsed": false
   },
   "outputs": [],
   "source": [
    "file_path = 'd:/Special_topic/Pleurotus_eryngii/1030/20191122_093419_LED1.png'\n",
    "temp = cv2.imread(file_path)\n",
    "\n",
    "plt.axis(\"off\")\n",
    "plt.imshow(cv2.cvtColor(temp,cv2.COLOR_BGR2RGB))\n",
    "plt.show()\n",
    "\n",
    "plt.figure(figsize=(20,9))\n",
    "plt.subplot(1,3,1)\n",
    "plt.axis(\"off\")\n",
    "plt.title('blue')\n",
    "plt.imshow(cv2.cvtColor(temp[:,:,0],cv2.COLOR_BGR2RGB),plt.cm.gray, vmax=255)\n",
    "\n",
    "plt.subplot(1,3,2)\n",
    "plt.axis(\"off\")\n",
    "plt.title('green')\n",
    "plt.imshow(cv2.cvtColor(temp[:,:,1],cv2.COLOR_BGR2RGB),plt.cm.gray, vmax=255)\n",
    "\n",
    "plt.subplot(1,3,3)\n",
    "plt.axis(\"off\")\n",
    "plt.title('red')\n",
    "plt.imshow(cv2.cvtColor(temp[:,:,2],cv2.COLOR_BGR2RGB),plt.cm.gray, vmax=255)\n",
    "plt.show()\n",
    "\n",
    "plt.axis(\"off\")\n",
    "plt.title('blue')\n",
    "plt.imshow(cv2.cvtColor(white_data[0][:,:,0],cv2.COLOR_BGR2RGB),plt.cm.gray, vmax=25)\n",
    "plt.show"
   ]
  },
  {
   "cell_type": "code",
   "execution_count": null,
   "metadata": {
    "collapsed": false
   },
   "outputs": [],
   "source": [
    "a = np.array([0,3,2,123],dtype='float32')\n",
    "b = np.array([0,4,0,23],dtype='float32')\n",
    "c = np.array([3,4,5,241],dtype='float32')\n",
    "d = np.array([5,0,-8.3,12.4],dtype='float32')\n",
    "temp1 = np.random.randint(80,size=(2,3,4))*np.random.random() - np.random.randint(100,size=(2,3,4))\n",
    "temp2 = np.random.randint(90,size=(2,3,4))*np.random.random() - np.random.randint(100,size=(2,3,4))\n",
    "print(type(temp1[0][0][0]))\n",
    "print(\"*\"*50)\n",
    "print(temp1)\n",
    "print(\"*\"*50)\n",
    "print(temp2)\n",
    "print(\"*\"*50)\n",
    "temp3 = div0(temp1,temp2)\n",
    "print(temp3)\n",
    "\n",
    "print_info(temp3)\n",
    "\n",
    "\n",
    "\n"
   ]
  },
  {
   "cell_type": "code",
   "execution_count": null,
   "metadata": {
    "collapsed": false
   },
   "outputs": [],
   "source": [
    "# plt.imshow(cv2.cvtColor(LED1_white,cv2.COLOR_BGR2RGB))\n",
    "# plt.imshow(cv2.cvtColor(dark_100,cv2.COLOR_BGR2RGB))\n",
    "\n",
    "plt.imshow(LED6_white.astype('uint8'))\n",
    "plt.show()\n"
   ]
  }
 ],
 "metadata": {
  "kernelspec": {
   "argv": [
    "C:/Users/Shawn/anaconda3/envs/tf-gpu\\python.exe",
    "-m",
    "ipykernel_launcher",
    "-f",
    "{connection_file}"
   ],
   "display_name": "Python 3",
   "env": null,
   "interrupt_mode": "signal",
   "language": "python",
   "metadata": null,
   "name": "python3"
  },
  "name": "60_Pleurotus_eryngii.ipynb"
 },
 "nbformat": 4,
 "nbformat_minor": 4
}
