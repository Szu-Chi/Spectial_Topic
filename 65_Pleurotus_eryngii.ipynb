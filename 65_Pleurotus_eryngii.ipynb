{
 "cells": [
  {
   "cell_type": "code",
   "execution_count": 1,
   "metadata": {
    "collapsed": false
   },
   "outputs": [],
   "source": [
    "import numpy as np\n",
    "import cv2\n",
    "import glob\n",
    "import matplotlib.pyplot as plt\n",
    "import matplotlib.animation as animation\n",
    "import time\n",
    "import sys\n",
    "import gc\n",
    "import tensorflow as tf\n",
    "from random import randint\n",
    "from sklearn.decomposition import PCA\n",
    "from sklearn.preprocessing import StandardScaler\n",
    "from sklearn import manifold, datasets\n",
    "from IPython.display import clear_output\n"
   ]
  },
  {
   "cell_type": "code",
   "execution_count": 2,
   "metadata": {
    "collapsed": false
   },
   "outputs": [
    {
     "name": "stdout",
     "output_type": "stream",
     "text": [
      "(480, 640, 3)\n"
     ]
    },
    {
     "data": {
      "image/png": "[encoded data removed]",
      "text/plain": [
       "<Figure size 216x216 with 1 Axes>"
      ]
     },
     "metadata": {
      "needs_background": "light"
     },
     "output_type": "display_data"
    },
    {
     "data": {
      "image/png": "[encoded data removed]",
      "text/plain": [
       "<Figure size 216x216 with 1 Axes>"
      ]
     },
     "metadata": {
      "needs_background": "light"
     },
     "output_type": "display_data"
    }
   ],
   "source": [
    "# read mask\n",
    "%matplotlib inline\n",
    "mask = np.array(cv2.imread('mask.png'))/255\n",
    "mask[mask>0] = 1\n",
    "print(mask.shape)\n",
    "plt.figure(figsize=(3,3))\n",
    "plt.imshow(mask,plt.cm.gray)\n",
    "plt.axis(\"off\");plt.show()\n",
    "\n",
    "plt.figure(figsize=(3,3))\n",
    "plt.imshow(mask[20:-85,120:-100],plt.cm.gray)\n",
    "plt.axis(\"off\");plt.show()\n",
    "\n",
    "## check mask's white is 1\n",
    "# temp = mask\n",
    "# temp[temp==1] = 0\n",
    "# plt.imshow(mask,plt.cm.gray)\n",
    "# plt.axis(\"off\");plt.show()"
   ]
  },
  {
   "cell_type": "markdown",
   "metadata": {
    "collapsed": false
   },
   "source": [
    "# read file for `white` picture"
   ]
  },
  {
   "cell_type": "code",
   "execution_count": 3,
   "metadata": {
    "collapsed": false
   },
   "outputs": [
    {
     "name": "stdout",
     "output_type": "stream",
     "text": [
      "reading data of white...\n"
     ]
    },
    {
     "name": "stdout",
     "output_type": "stream",
     "text": [
      "white_data.shape =  (9, 375, 420, 3)\n",
      "reading data of white sucessful\n",
      "\n"
     ]
    }
   ],
   "source": [
    "def read_white_file():\n",
    "    print(\"reading data of white...\")\n",
    "    file_path='d:/Special_topic/pleurotus_eryngii/white/*'\n",
    "    file_name = glob.glob(file_path)\n",
    "    file_num = len(file_name)\n",
    "\n",
    "    white_data = np.zeros((file_num,375,420,3),dtype=np.uint8)\n",
    "\n",
    "    for i in range(file_num):\n",
    "        white_data[i] = (cv2.imread(file_name[i]) * mask )[20:-85,120:-100]\n",
    "\n",
    "    print(\"white_data.shape = \",white_data.shape)\n",
    "    ## plot image for white data\n",
    "    # plt.figure(figsize=(10,5))\n",
    "    # for i in range(file_num):\n",
    "    #     plt.subplot(3,3,i+1)\n",
    "    #     plt.axis(\"off\")\n",
    "    #     plt.title(file_name[i])\n",
    "    #     plt.imshow(cv2.cvtColor(data[i], cv2.COLOR_BGR2RGB))\n",
    "    # plt.show()\n",
    "\n",
    "    print(\"reading data of white sucessful\\n\")\n",
    "    return white_data\n",
    "\n",
    "\n",
    "white_data = read_white_file()\n"
   ]
  },
  {
   "cell_type": "markdown",
   "metadata": {
    "collapsed": false
   },
   "source": [
    "# read file for `data` picture"
   ]
  },
  {
   "cell_type": "code",
   "execution_count": 4,
   "metadata": {
    "collapsed": false
   },
   "outputs": [
    {
     "name": "stdout",
     "output_type": "stream",
     "text": [
      "reading data....\n",
      "file_name number:  1296\n",
      "data all Group number:  144\n",
      "data_Gnum =  144\n",
      "data_black.shpae =  (144, 375, 420, 9)\n",
      "data.shpae =  (144, 375, 420, 18)\n",
      "Garbage collector: collected 4372 objects.\n",
      "processing group\n",
      "1/144\t"
     ]
    },
    {
     "name": "stdout",
     "output_type": "stream",
     "text": [
      "2/144\t"
     ]
    },
    {
     "name": "stdout",
     "output_type": "stream",
     "text": [
      "3/144\t4/144\t"
     ]
    },
    {
     "name": "stdout",
     "output_type": "stream",
     "text": [
      "5/144\t"
     ]
    },
    {
     "name": "stdout",
     "output_type": "stream",
     "text": [
      "6/144\t7/144\t"
     ]
    },
    {
     "name": "stdout",
     "output_type": "stream",
     "text": [
      "8/144\t"
     ]
    },
    {
     "name": "stdout",
     "output_type": "stream",
     "text": [
      "9/144\t10/144\t11/144\t"
     ]
    },
    {
     "name": "stdout",
     "output_type": "stream",
     "text": [
      "12/144\t13/144\t14/144\t"
     ]
    },
    {
     "name": "stdout",
     "output_type": "stream",
     "text": [
      "15/144\t16/144\t17/144\t"
     ]
    },
    {
     "name": "stdout",
     "output_type": "stream",
     "text": [
      "18/144\t19/144\t20/144\t"
     ]
    },
    {
     "name": "stdout",
     "output_type": "stream",
     "text": [
      "21/144\t22/144\t23/144\t24/144\t"
     ]
    },
    {
     "name": "stdout",
     "output_type": "stream",
     "text": [
      "25/144\t26/144\t27/144\t28/144\t"
     ]
    },
    {
     "name": "stdout",
     "output_type": "stream",
     "text": [
      "29/144\t30/144\t31/144\t"
     ]
    },
    {
     "name": "stdout",
     "output_type": "stream",
     "text": [
      "32/144\t33/144\t34/144\t"
     ]
    },
    {
     "name": "stdout",
     "output_type": "stream",
     "text": [
      "35/144\t36/144\t37/144\t"
     ]
    },
    {
     "name": "stdout",
     "output_type": "stream",
     "text": [
      "38/144\t39/144\t40/144\t41/144\t"
     ]
    },
    {
     "name": "stdout",
     "output_type": "stream",
     "text": [
      "42/144\t43/144\t44/144\t"
     ]
    },
    {
     "name": "stdout",
     "output_type": "stream",
     "text": [
      "45/144\t46/144\t47/144\t"
     ]
    },
    {
     "name": "stdout",
     "output_type": "stream",
     "text": [
      "48/144\t49/144\t50/144\t"
     ]
    },
    {
     "name": "stdout",
     "output_type": "stream",
     "text": [
      "51/144\t52/144\t53/144\t"
     ]
    },
    {
     "name": "stdout",
     "output_type": "stream",
     "text": [
      "54/144\t55/144\t56/144\t"
     ]
    },
    {
     "name": "stdout",
     "output_type": "stream",
     "text": [
      "57/144\t58/144\t59/144\t"
     ]
    },
    {
     "name": "stdout",
     "output_type": "stream",
     "text": [
      "60/144\t61/144\t62/144\t"
     ]
    },
    {
     "name": "stdout",
     "output_type": "stream",
     "text": [
      "63/144\t64/144\t65/144\t"
     ]
    },
    {
     "name": "stdout",
     "output_type": "stream",
     "text": [
      "66/144\t67/144\t68/144\t"
     ]
    },
    {
     "name": "stdout",
     "output_type": "stream",
     "text": [
      "69/144\t70/144\t71/144\t"
     ]
    },
    {
     "name": "stdout",
     "output_type": "stream",
     "text": [
      "72/144\t73/144\t74/144\t"
     ]
    },
    {
     "name": "stdout",
     "output_type": "stream",
     "text": [
      "75/144\t76/144\t77/144\t"
     ]
    },
    {
     "name": "stdout",
     "output_type": "stream",
     "text": [
      "78/144\t79/144\t80/144\t"
     ]
    },
    {
     "name": "stdout",
     "output_type": "stream",
     "text": [
      "81/144\t82/144\t83/144\t"
     ]
    },
    {
     "name": "stdout",
     "output_type": "stream",
     "text": [
      "84/144\t85/144\t86/144\t"
     ]
    },
    {
     "name": "stdout",
     "output_type": "stream",
     "text": [
      "87/144\t88/144\t89/144\t90/144\t"
     ]
    },
    {
     "name": "stdout",
     "output_type": "stream",
     "text": [
      "91/144\t92/144\t93/144\t"
     ]
    },
    {
     "name": "stdout",
     "output_type": "stream",
     "text": [
      "94/144\t95/144\t96/144\t"
     ]
    },
    {
     "name": "stdout",
     "output_type": "stream",
     "text": [
      "97/144\t98/144\t99/144\t"
     ]
    },
    {
     "name": "stdout",
     "output_type": "stream",
     "text": [
      "100/144\t101/144\t102/144\t"
     ]
    },
    {
     "name": "stdout",
     "output_type": "stream",
     "text": [
      "103/144\t104/144\t105/144\t"
     ]
    },
    {
     "name": "stdout",
     "output_type": "stream",
     "text": [
      "106/144\t107/144\t108/144\t"
     ]
    },
    {
     "name": "stdout",
     "output_type": "stream",
     "text": [
      "109/144\t110/144\t111/144\t"
     ]
    },
    {
     "name": "stdout",
     "output_type": "stream",
     "text": [
      "112/144\t113/144\t114/144\t"
     ]
    },
    {
     "name": "stdout",
     "output_type": "stream",
     "text": [
      "115/144\t116/144\t117/144\t"
     ]
    },
    {
     "name": "stdout",
     "output_type": "stream",
     "text": [
      "118/144\t119/144\t120/144\t"
     ]
    },
    {
     "name": "stdout",
     "output_type": "stream",
     "text": [
      "121/144\t122/144\t123/144\t"
     ]
    },
    {
     "name": "stdout",
     "output_type": "stream",
     "text": [
      "124/144\t125/144\t126/144\t127/144\t"
     ]
    },
    {
     "name": "stdout",
     "output_type": "stream",
     "text": [
      "128/144\t129/144\t130/144\t"
     ]
    },
    {
     "name": "stdout",
     "output_type": "stream",
     "text": [
      "131/144\t132/144\t133/144\t"
     ]
    },
    {
     "name": "stdout",
     "output_type": "stream",
     "text": [
      "134/144\t135/144\t136/144\t"
     ]
    },
    {
     "name": "stdout",
     "output_type": "stream",
     "text": [
      "137/144\t138/144\t139/144\t"
     ]
    },
    {
     "name": "stdout",
     "output_type": "stream",
     "text": [
      "140/144\t141/144\t142/144\t"
     ]
    },
    {
     "name": "stdout",
     "output_type": "stream",
     "text": [
      "143/144\t144/144\t"
     ]
    },
    {
     "name": "stdout",
     "output_type": "stream",
     "text": [
      "\n",
      "reading data sucessful\n",
      "\n",
      "data.type =  <class 'numpy.uint8'>\n"
     ]
    },
    {
     "name": "stdout",
     "output_type": "stream",
     "text": [
      "data max =  255\n"
     ]
    },
    {
     "name": "stdout",
     "output_type": "stream",
     "text": [
      "data max =  0\n"
     ]
    }
   ],
   "source": [
    "def read_data_file():\n",
    "    print(\"reading data....\")\n",
    "\n",
    "    ## read file path\n",
    "    ## file path 1030 1104 1108 1118 1122\n",
    "    file_path='d:/Special_topic/pleurotus_eryngii/*'\n",
    "    folder_name = glob.glob(file_path)[:5]\n",
    "    file_name=[]\n",
    "    for folder_name in folder_name:\n",
    "        count = 0\n",
    "        for fname in glob.glob(folder_name+\"/*\"):\n",
    "            file_name.append(fname)\n",
    "            count+=1\n",
    "            if(count==9*1):\n",
    "                pass\n",
    "                # break\n",
    "    print(\"file_name number: \",len(file_name))\n",
    "    print(\"data all Group number: \",len(file_name)//9)\n",
    "\n",
    "    data_Gnum = len(file_name)//9\n",
    "    print(\"data_Gnum = \", data_Gnum)\n",
    "\n",
    "    ## [data_Gnum][NumOfPicture][picture(480*640*wave)]\n",
    "    data_black = np.zeros((data_Gnum,375,420,9),dtype=np.uint8)\n",
    "    data       = np.zeros((data_Gnum,375,420,18),dtype=np.uint8)\n",
    "    print(\"data_black.shpae = \",data_black.shape)\n",
    "    print(\"data.shpae = \",data.shape)\n",
    "    collected = gc.collect()\n",
    "    print(\"Garbage collector: collected %d objects.\" % (collected))\n",
    "\n",
    "    print(\"processing group\")\n",
    "    for group in range(data_Gnum):\n",
    "        print(\"{}/{}\".format(group+1,data_Gnum),end=\"\\t\")\n",
    "\n",
    "        for black in range(3):\n",
    "            img = cv2.imread(file_name[group*9+black]) * mask\n",
    "            data_black[group][:,:,black*3:black*3+3] = img[20:-85,120:-100]\n",
    "\n",
    "        for LED in range(6):\n",
    "            img = cv2.imread(file_name[group*9+3+LED]) * mask\n",
    "            data[group][:,:,LED*3:LED*3+3] = img[20:-85,120:-100]\n",
    "\n",
    "    gc.collect()\n",
    "    print(\"\\nreading data sucessful\\n\")\n",
    "    return data, data_black, data_Gnum\n",
    "\n",
    "#=========================================================\n",
    "data, data_black, data_Gnum = read_data_file()\n",
    "print(\"data.type = \",type(data[0][0][0][0]))\n",
    "print(\"data max = \", np.amax(data))\n",
    "print(\"data max = \", np.amin(data))\n",
    "\n"
   ]
  },
  {
   "cell_type": "code",
   "execution_count": 5,
   "metadata": {
    "collapsed": false
   },
   "outputs": [
    {
     "name": "stdout",
     "output_type": "stream",
     "text": [
      "white_data.shape =  (9, 24, 24, 3)\n",
      "data.shape =  (144, 24, 24, 18)\n",
      "data_black.shape =  (144, 24, 24, 9)\n"
     ]
    },
    {
     "data": {
      "image/png": "[encoded data removed]",
      "text/plain": [
       "<Figure size 216x216 with 1 Axes>"
      ]
     },
     "metadata": {
      "needs_background": "light"
     },
     "output_type": "display_data"
    }
   ],
   "source": [
    "# Extract a small part of the data (8x8)\n",
    "size = 25\n",
    "size_d2 = size/2\n",
    "size_d2 = int(size_d2)\n",
    "white_data = white_data[:,188-size_d2:188+size_d2, 210-size_d2:210+size_d2]\n",
    "data = data[:,188-size_d2:188+size_d2, 210-size_d2:210+size_d2]\n",
    "data_black = data_black[:,188-size_d2:188+size_d2, 210-size_d2:210+size_d2]\n",
    "\n",
    "print(\"white_data.shape = \",white_data.shape)\n",
    "print(\"data.shape = \",data.shape)\n",
    "print(\"data_black.shape = \",data_black.shape)\n",
    "\n",
    "plt.figure(figsize=(3,3))\n",
    "plt.imshow(data[0][:, :, 0],plt.cm.gray)\n",
    "plt.axis(\"off\");plt.show()"
   ]
  },
  {
   "cell_type": "code",
   "execution_count": 6,
   "metadata": {
    "collapsed": false
   },
   "outputs": [
    {
     "name": "stdout",
     "output_type": "stream",
     "text": [
      "[ 0.  0. -0.]\n"
     ]
    }
   ],
   "source": [
    "# solve div0 question\n",
    "\n",
    "def div0(a,b):\n",
    "    b[b==0] = -1\n",
    "    c = a/b\n",
    "    c[c<0] = 0\n",
    "    return c\n",
    "\n",
    "def print_info(img):\n",
    "    print(\"max =\",np.amax(img))\n",
    "    print(\"min =\",np.amin(img))\n",
    "    print(\"mean=\",np.mean(img))\n",
    "\n",
    "a = np.array([1.,0.,0.], dtype='float')\n",
    "b = np.array([0.,1.,0.], dtype='float')\n",
    "c = div0(a,b)\n",
    "print(div0(a,b))"
   ]
  },
  {
   "cell_type": "markdown",
   "metadata": {
    "collapsed": false
   },
   "source": [
    "# calculate reflectivity"
   ]
  },
  {
   "cell_type": "code",
   "execution_count": 7,
   "metadata": {
    "collapsed": false
   },
   "outputs": [
    {
     "name": "stdout",
     "output_type": "stream",
     "text": [
      "reflectivity.shape= (144, 24, 24, 18)\n",
      "\n",
      "<class 'numpy.float64'>\n"
     ]
    }
   ],
   "source": [
    "## initialization\n",
    "# [data_Gnum][NumOfPicture(LED)][picture(480*640*3)]\n",
    "data = data.astype('float')\n",
    "white_data = white_data.astype('float')\n",
    "reflectivity = np.zeros_like(data, dtype='float')\n",
    "print(\"reflectivity.shape=\", reflectivity.shape)\n",
    "print()\n",
    "\n",
    "dark_30 = white_data[2]\n",
    "dark_40 = white_data[0]\n",
    "dark_100= white_data[1]\n",
    "# print(\"dark_100.shape=\",dark_100.shape)\n",
    "\n",
    "LED1_white = white_data[3]\n",
    "LED2_white = white_data[4]\n",
    "LED3_white = white_data[5]\n",
    "LED4_white = white_data[5]\n",
    "LED5_white = white_data[7]\n",
    "LED6_white = white_data[8]\n",
    "# print(\"LED6_white.shape=\",LED6_whdef array_divide(a,b):\n",
    "\n",
    "print(type(dark_30[0][0][0]))\n"
   ]
  },
  {
   "cell_type": "code",
   "execution_count": 8,
   "metadata": {
    "collapsed": false
   },
   "outputs": [
    {
     "name": "stdout",
     "output_type": "stream",
     "text": [
      "0/144\t"
     ]
    },
    {
     "name": "stdout",
     "output_type": "stream",
     "text": [
      "1/144\t2/144\t"
     ]
    },
    {
     "name": "stdout",
     "output_type": "stream",
     "text": [
      "3/144\t"
     ]
    },
    {
     "name": "stdout",
     "output_type": "stream",
     "text": [
      "4/144\t5/144\t"
     ]
    },
    {
     "name": "stdout",
     "output_type": "stream",
     "text": [
      "6/144\t"
     ]
    },
    {
     "name": "stdout",
     "output_type": "stream",
     "text": [
      "7/144\t8/144\t"
     ]
    },
    {
     "name": "stdout",
     "output_type": "stream",
     "text": [
      "9/144\t10/144\t11/144\t"
     ]
    },
    {
     "name": "stdout",
     "output_type": "stream",
     "text": [
      "12/144\t13/144\t14/144\t"
     ]
    },
    {
     "name": "stdout",
     "output_type": "stream",
     "text": [
      "15/144\t16/144\t17/144\t"
     ]
    },
    {
     "name": "stdout",
     "output_type": "stream",
     "text": [
      "18/144\t19/144\t20/144\t"
     ]
    },
    {
     "name": "stdout",
     "output_type": "stream",
     "text": [
      "21/144\t22/144\t23/144\t24/144\t"
     ]
    },
    {
     "name": "stdout",
     "output_type": "stream",
     "text": [
      "25/144\t26/144\t27/144\t28/144\t"
     ]
    },
    {
     "name": "stdout",
     "output_type": "stream",
     "text": [
      "29/144\t30/144\t31/144\t32/144\t"
     ]
    },
    {
     "name": "stdout",
     "output_type": "stream",
     "text": [
      "33/144\t34/144\t35/144\t"
     ]
    },
    {
     "name": "stdout",
     "output_type": "stream",
     "text": [
      "36/144\t37/144\t38/144\t39/144\t"
     ]
    },
    {
     "name": "stdout",
     "output_type": "stream",
     "text": [
      "40/144\t41/144\t42/144\t43/144\t"
     ]
    },
    {
     "name": "stdout",
     "output_type": "stream",
     "text": [
      "44/144\t45/144\t46/144\t47/144\t"
     ]
    },
    {
     "name": "stdout",
     "output_type": "stream",
     "text": [
      "48/144\t49/144\t50/144\t"
     ]
    },
    {
     "name": "stdout",
     "output_type": "stream",
     "text": [
      "51/144\t52/144\t53/144\t54/144\t"
     ]
    },
    {
     "name": "stdout",
     "output_type": "stream",
     "text": [
      "55/144\t56/144\t57/144\t58/144\t"
     ]
    },
    {
     "name": "stdout",
     "output_type": "stream",
     "text": [
      "59/144\t60/144\t61/144\t62/144\t"
     ]
    },
    {
     "name": "stdout",
     "output_type": "stream",
     "text": [
      "63/144\t64/144\t"
     ]
    },
    {
     "name": "stdout",
     "output_type": "stream",
     "text": [
      "65/144\t66/144\t67/144\t"
     ]
    },
    {
     "name": "stdout",
     "output_type": "stream",
     "text": [
      "68/144\t69/144\t70/144\t71/144\t"
     ]
    },
    {
     "name": "stdout",
     "output_type": "stream",
     "text": [
      "72/144\t73/144\t74/144\t"
     ]
    },
    {
     "name": "stdout",
     "output_type": "stream",
     "text": [
      "75/144\t76/144\t77/144\t"
     ]
    },
    {
     "name": "stdout",
     "output_type": "stream",
     "text": [
      "78/144\t79/144\t80/144\t"
     ]
    },
    {
     "name": "stdout",
     "output_type": "stream",
     "text": [
      "81/144\t82/144\t83/144\t"
     ]
    },
    {
     "name": "stdout",
     "output_type": "stream",
     "text": [
      "84/144\t85/144\t86/144\t"
     ]
    },
    {
     "name": "stdout",
     "output_type": "stream",
     "text": [
      "87/144\t88/144\t89/144\t"
     ]
    },
    {
     "name": "stdout",
     "output_type": "stream",
     "text": [
      "90/144\t91/144\t92/144\t"
     ]
    },
    {
     "name": "stdout",
     "output_type": "stream",
     "text": [
      "93/144\t"
     ]
    },
    {
     "name": "stdout",
     "output_type": "stream",
     "text": [
      "94/144\t95/144\t96/144\t"
     ]
    },
    {
     "name": "stdout",
     "output_type": "stream",
     "text": [
      "97/144\t98/144\t99/144\t"
     ]
    },
    {
     "name": "stdout",
     "output_type": "stream",
     "text": [
      "100/144\t101/144\t102/144\t"
     ]
    },
    {
     "name": "stdout",
     "output_type": "stream",
     "text": [
      "103/144\t104/144\t105/144\t"
     ]
    },
    {
     "name": "stdout",
     "output_type": "stream",
     "text": [
      "106/144\t107/144\t108/144\t"
     ]
    },
    {
     "name": "stdout",
     "output_type": "stream",
     "text": [
      "109/144\t110/144\t111/144\t"
     ]
    },
    {
     "name": "stdout",
     "output_type": "stream",
     "text": [
      "112/144\t113/144\t114/144\t115/144\t"
     ]
    },
    {
     "name": "stdout",
     "output_type": "stream",
     "text": [
      "116/144\t117/144\t118/144\t119/144\t"
     ]
    },
    {
     "name": "stdout",
     "output_type": "stream",
     "text": [
      "120/144\t121/144\t122/144\t"
     ]
    },
    {
     "name": "stdout",
     "output_type": "stream",
     "text": [
      "123/144\t124/144\t125/144\t"
     ]
    },
    {
     "name": "stdout",
     "output_type": "stream",
     "text": [
      "126/144\t127/144\t128/144\t"
     ]
    },
    {
     "name": "stdout",
     "output_type": "stream",
     "text": [
      "129/144\t130/144\t131/144\t"
     ]
    },
    {
     "name": "stdout",
     "output_type": "stream",
     "text": [
      "132/144\t133/144\t134/144\t"
     ]
    },
    {
     "name": "stdout",
     "output_type": "stream",
     "text": [
      "135/144\t136/144\t137/144\t"
     ]
    },
    {
     "name": "stdout",
     "output_type": "stream",
     "text": [
      "138/144\t139/144\t140/144\t"
     ]
    },
    {
     "name": "stdout",
     "output_type": "stream",
     "text": [
      "141/144\t142/144\t143/144\t\n",
      "process sucessful\n",
      "\n"
     ]
    }
   ],
   "source": [
    "# deal reflectivity\n",
    "for Gnum in range(data_Gnum):\n",
    "    shape = white_data.shape\n",
    "    LED = np.zeros(white_data.shape,dtype=np.float)\n",
    "    LED = LED[:6]\n",
    "    for i in range(6):\n",
    "        LED[i] = data[Gnum][:,:,i*3:i*3+3]\n",
    "\n",
    "    reflectivity[Gnum][:,:,0:3]   = div0((LED[0]-dark_40) , (LED1_white-dark_40))\n",
    "    reflectivity[Gnum][:,:,3:6]   = div0((LED[1]-dark_30) , (LED2_white-dark_30))\n",
    "    reflectivity[Gnum][:,:,6:9]   = div0((LED[2]-dark_30) , (LED3_white-dark_30))\n",
    "    reflectivity[Gnum][:,:,9:12]  = div0((LED[3]-dark_30) , (LED4_white-dark_30))\n",
    "    reflectivity[Gnum][:,:,12:15] = div0((LED[4]-dark_30) , (LED5_white-dark_30))\n",
    "    reflectivity[Gnum][:,:,15:]   = div0((LED[5]-dark_100), (LED6_white-dark_100))\n",
    "    gc.collect()\n",
    "\n",
    "    print(\"{}/{}\\t\".format(Gnum, data_Gnum),end=\"\")\n",
    "\n",
    "reflectivity[reflectivity<0] = 0\n",
    "reflectivity[reflectivity>1] = 1\n",
    "print(\"\\nprocess sucessful\\n\")\n"
   ]
  },
  {
   "cell_type": "code",
   "execution_count": 9,
   "metadata": {
    "collapsed": false
   },
   "outputs": [
    {
     "name": "stdout",
     "output_type": "stream",
     "text": [
      "Variable          Type        Data/Info\n",
      "---------------------------------------\n",
      "Gnum              int         143\n",
      "PCA               ABCMeta     <class 'sklearn.decomposition._pca.PCA'>\n",
      "StandardScaler    type        <class 'sklearn.preproces<...>ng._data.StandardScaler'>\n",
      "a                 ndarray     3: 3 elems, type `float64`, 24 bytes\n",
      "animation         module      <module 'matplotlib.anima<...>atplotlib\\\\animation.py'>\n",
      "b                 ndarray     3: 3 elems, type `float64`, 24 bytes\n",
      "c                 ndarray     3: 3 elems, type `float64`, 24 bytes\n",
      "clear_output      function    <function clear_output at 0x000001DE37578948>\n",
      "cv2               module      <module 'cv2.cv2' from 'C<...>\\cv2.cp37-win_amd64.pyd'>\n",
      "data_Gnum         int         144\n",
      "datasets          module      <module 'sklearn.datasets<...>\\\\datasets\\\\__init__.py'>\n",
      "div0              function    <function div0 at 0x000001DE45176948>\n",
      "gc                module      <module 'gc' (built-in)>\n",
      "glob              module      <module 'glob' from 'C:\\\\<...>s\\\\tf-gpu\\\\lib\\\\glob.py'>\n",
      "i                 int         5\n",
      "manifold          module      <module 'sklearn.manifold<...>\\\\manifold\\\\__init__.py'>\n",
      "mask              ndarray     480x640x3: 921600 elems, type `float64`, 7372800 bytes (7.03125 Mb)\n",
      "np                module      <module 'numpy' from 'C:\\<...>ges\\\\numpy\\\\__init__.py'>\n",
      "plt               module      <module 'matplotlib.pyplo<...>\\\\matplotlib\\\\pyplot.py'>\n",
      "print_info        function    <function print_info at 0x000001DE458F6678>\n",
      "randint           method      <bound method Random.rand<...>t at 0x000001DE36DB4008>>\n",
      "read_data_file    function    <function read_data_file at 0x000001DE458FE288>\n",
      "read_white_file   function    <function read_white_file at 0x000001DE3947BDC8>\n",
      "reflectivity      ndarray     144x24x24x18: 1492992 elems, type `float64`, 11943936 bytes (11.390625 Mb)\n",
      "shape             tuple       n=4\n",
      "size              int         25\n",
      "size_d2           int         12\n",
      "sys               module      <module 'sys' (built-in)>\n",
      "tf                module      <module 'tensorflow' from<...>tensorflow\\\\__init__.py'>\n",
      "time              module      <module 'time' (built-in)>\n"
     ]
    }
   ],
   "source": [
    "del LED\n",
    "del white_data, LED1_white, LED2_white, LED3_white, LED4_white, LED5_white, LED6_white\n",
    "del dark_100, dark_30, dark_40\n",
    "del data, data_black\n",
    "%whos"
   ]
  },
  {
   "cell_type": "code",
   "execution_count": 10,
   "metadata": {
    "collapsed": false
   },
   "outputs": [
    {
     "name": "stdout",
     "output_type": "stream",
     "text": [
      " group 0 ==================================\n"
     ]
    },
    {
     "data": {
      "image/png": "[encoded data removed]",
      "text/plain": [
       "<Figure size 1440x720 with 18 Axes>"
      ]
     },
     "metadata": {
      "needs_background": "light"
     },
     "output_type": "display_data"
    }
   ],
   "source": [
    "def set_figure_size():\n",
    "    plt.figure(figsize=(20,10))\n",
    "\n",
    "# [data_Gnum][NumOfPicture(LED)][picture(480*640*3)]\n",
    "for Gnum in range(data_Gnum):\n",
    "    print(\" group {} ==================================\".format(Gnum))\n",
    "\n",
    "    set_figure_size()\n",
    "    figure_index = 0\n",
    "    for col in range(6):\n",
    "        for row in range(3):\n",
    "            plt.subplot(3,6,col+1+row*6)\n",
    "            plt.axis(\"off\")\n",
    "            plt.title(\"LED{}\".format(figure_index))\n",
    "\n",
    "            # plt.imshow(data[Gnum][:,:,figure_index], plt.cm.gray, vmax=1.0)\n",
    "            plt.imshow(reflectivity[Gnum][:,:,figure_index], plt.cm.gray, vmax=1.0)\n",
    "            figure_index += 1\n",
    "    plt.show()\n",
    "    break\n"
   ]
  },
  {
   "cell_type": "markdown",
   "metadata": {
    "collapsed": false
   },
   "source": [
    "# del data witch we don't want"
   ]
  },
  {
   "cell_type": "code",
   "execution_count": 11,
   "metadata": {
    "collapsed": false
   },
   "outputs": [
    {
     "name": "stdout",
     "output_type": "stream",
     "text": [
      " group 0 ==================================\n"
     ]
    },
    {
     "data": {
      "image/png": "[encoded data removed]",
      "text/plain": [
       "<Figure size 1440x720 with 13 Axes>"
      ]
     },
     "metadata": {
      "needs_background": "light"
     },
     "output_type": "display_data"
    }
   ],
   "source": [
    "reflectivity_process = reflectivity\n",
    "del reflectivity\n",
    "reflectivity_process = np.delete(reflectivity_process,9,3)\n",
    "reflectivity_process = np.delete(reflectivity_process,6,3)\n",
    "reflectivity_process = np.delete(reflectivity_process,4,3)\n",
    "reflectivity_process = np.delete(reflectivity_process,3,3)\n",
    "reflectivity_process = np.delete(reflectivity_process,1,3)\n",
    "\n",
    "def set_figure_size():\n",
    "    plt.figure(figsize=(20,10))\n",
    "\n",
    "# [data_Gnum][NumOfPicture(LED)][picture(480*640*3)]\n",
    "for Gnum in range(data_Gnum):\n",
    "    if(Gnum==1):\n",
    "        break\n",
    "\n",
    "    print(\" group {} ==================================\".format(Gnum))\n",
    "    set_figure_size()\n",
    "    figure_index = 0\n",
    "    for col in range(6):\n",
    "        for row in range(3):\n",
    "            if(figure_index==13):\n",
    "                break\n",
    "            plt.subplot(3,6,col+1+row*6)\n",
    "            plt.axis(\"off\")\n",
    "            plt.title(\"LED{}\".format(figure_index))\n",
    "            plt.imshow(reflectivity_process[Gnum][:,:,figure_index], plt.cm.gray, vmax=1.0)\n",
    "            figure_index += 1\n",
    "    plt.show()\n"
   ]
  },
  {
   "cell_type": "markdown",
   "metadata": {
    "collapsed": false
   },
   "source": [
    "# let data to be a spectral curve"
   ]
  },
  {
   "cell_type": "code",
   "execution_count": 12,
   "metadata": {
    "collapsed": false
   },
   "outputs": [
    {
     "name": "stdout",
     "output_type": "stream",
     "text": [
      "(144, 24, 24, 13)\n",
      "(144, 24, 24, 13)\n",
      "(144, 13, 24, 24)\n",
      "(13, 144, 576)\n",
      "(13, 82944)\n",
      "(82944, 13)\n"
     ]
    }
   ],
   "source": [
    "print(reflectivity_process.shape)\n",
    "curve = reflectivity_process\n",
    "print(curve.shape)\n",
    "curve = curve.transpose(0,3,1,2)\n",
    "print(curve.shape)\n",
    "(group,band,x,y) = curve.shape\n",
    "curve = curve.reshape(group,band,x*y)\n",
    "curve = curve.transpose(1,0,2)\n",
    "print(curve.shape)\n",
    "(band,group,xy) = curve.shape\n",
    "curve = curve.reshape(band,group*xy)\n",
    "print(curve.shape)\n",
    "curve = curve.transpose(1,0)\n",
    "print(curve.shape)\n"
   ]
  },
  {
   "cell_type": "code",
   "execution_count": 13,
   "metadata": {
    "collapsed": false
   },
   "outputs": [
    {
     "name": "stdout",
     "output_type": "stream",
     "text": [
      "total is 82944\n",
      "0 1000 2000 3000 4000 5000 6000 "
     ]
    },
    {
     "name": "stdout",
     "output_type": "stream",
     "text": [
      "7000 "
     ]
    },
    {
     "name": "stdout",
     "output_type": "stream",
     "text": [
      "8000 9000 10000 11000 12000 13000 14000"
     ]
    },
    {
     "name": "stdout",
     "output_type": "stream",
     "text": [
      " 15000 16000 17000 18000 19000 20000 21000"
     ]
    },
    {
     "name": "stdout",
     "output_type": "stream",
     "text": [
      " 22000 23000 24000 25000 26000 27000 28000 29000 30000 31000 32000 33000 34000"
     ]
    },
    {
     "name": "stdout",
     "output_type": "stream",
     "text": [
      " 35000 36000 37000 38000 39000 40000 41000 42000 43000 "
     ]
    },
    {
     "name": "stdout",
     "output_type": "stream",
     "text": [
      "44000 45000 46000 47000 48000 49000 50000 51000 52000 53000 54000 55000 56000 57000"
     ]
    },
    {
     "name": "stdout",
     "output_type": "stream",
     "text": [
      " 58000 59000 60000 61000 62000 63000 64000 65000"
     ]
    },
    {
     "name": "stdout",
     "output_type": "stream",
     "text": [
      " 66000 67000 68000 69000 70000 71000 72000 73000 74000"
     ]
    },
    {
     "name": "stdout",
     "output_type": "stream",
     "text": [
      " 75000 76000 77000 78000 79000 80000 81000 82000 \n",
      "sucessful\n"
     ]
    }
   ],
   "source": [
    "# z-scroce\n",
    "print(\"total is {}\".format(curve.shape[0]))\n",
    "for data_n in range(curve.shape[0]):\n",
    "    m = np.mean(curve[data_n])\n",
    "    std = np.std(curve[data_n])\n",
    "    curve[data_n] = (curve[data_n]-m)/std\n",
    "    if data_n%1000 is 0:\n",
    "        print(data_n, end=' ')\n",
    "print(\"\\nsucessful\")"
   ]
  },
  {
   "cell_type": "code",
   "execution_count": 14,
   "metadata": {
    "collapsed": false
   },
   "outputs": [
    {
     "name": "stdout",
     "output_type": "stream",
     "text": [
      "82944\n"
     ]
    }
   ],
   "source": [
    "%matplotlib qt\n",
    "data_n = curve.shape[0]\n",
    "print(data_n)\n",
    "# colormap = plt.cm.rainbow(np.linspace(0, 1, data_n))\n",
    "# plt.ion()\n",
    "# plt.figure(figsize = (15,7))\n",
    "# plt.subplot(1,2,2)\n",
    "# for data_G in range(data_n):\n",
    "#     plt.plot(np.linspace(1,13,13),curve[data_G],color=colormap[data_G])\n",
    "\n",
    "# plt.subplot(1,2,1)\n",
    "# for data_G in range(data_Gnum):\n",
    "#     plt.plot(np.linspace(1,13,13),curve[data_G],color=colormap[data_G])\n",
    "#     plt.pause(0.001)\n",
    "\n",
    "# plt.show()"
   ]
  },
  {
   "cell_type": "markdown",
   "metadata": {
    "collapsed": false
   },
   "source": [
    "# t-SNE"
   ]
  },
  {
   "cell_type": "code",
   "execution_count": 36,
   "metadata": {
    "collapsed": false
   },
   "outputs": [
    {
     "name": "stdout",
     "output_type": "stream",
     "text": [
      "\n",
      "Process sucessful\n"
     ]
    }
   ],
   "source": [
    "n_components = 2\n",
    "perplexity = 20\n",
    "early_exaggeration = 15\n",
    "learning_rate = 10\n",
    "n_iter = 1000\n",
    "n_iter_without_progress = 300\n",
    "min_grad_norm = 1e-07\n",
    "metric = 'euclidean'\n",
    "init = 'pca'\n",
    "verbose = 1\n",
    "random_state = None\n",
    "method = 'barnes_hut'\n",
    "angle = 0.5\n",
    "n_jobs = None\n",
    "\n",
    "range_ = 1\n",
    "start = 400\n",
    "# data_norm_n = np.zeros((range_,data_n,2))\n",
    "# print(data_norm_n.shape)\n",
    "\n",
    "# print(\"Process...\")\n",
    "# for perplexity in range(start,start+range_):\n",
    "#     print(\"{}/{}\".format(perplexity-start+1,range_),end='\\t')\n",
    "#     tsne = manifold.TSNE(n_components=n_components, perplexity=perplexity, early_exaggeration=early_exaggeration,\\\n",
    "#                         learning_rate=learning_rate, n_iter=n_iter, n_iter_without_progress=n_iter_without_progress,\\\n",
    "#                         min_grad_norm=min_grad_norm, metric=metric, init=init, verbose=False,\\\n",
    "#                         random_state=random_state, method=method, angle= angle, n_jobs=n_jobs)\n",
    "#     tSNE_data = tsne.fit_transform(curve[:data_n])\n",
    "#     file_name = \"t-SNE_144_n{}_per{}_lr{}_iter{}\".format(n_components,perplexity,learning_rate,n_iter)\n",
    "\n",
    "#     # print(\"\\nOrg data dimension is {}\\n\\\n",
    "#     # Embedded data dimension is {}\".format(reflectivity_p_s.shape, tSNE_data.shape))\n",
    "\n",
    "#     data_min, data_max = tSNE_data.min(0), tSNE_data.max(0)\n",
    "#     data_norm = (tSNE_data - data_min) / (data_max - data_min)  # 归一化\n",
    "#     # print(data_norm.shape)\n",
    "#     data_norm_n[perplexity-start] = data_norm\n",
    "# print(\"\\nProcess sucessful\")\n",
    "\n",
    "tsne = manifold.TSNE(n_components=n_components, perplexity=perplexity, early_exaggeration=early_exaggeration,\\\n",
    "                    learning_rate=learning_rate, n_iter=n_iter, n_iter_without_progress=n_iter_without_progress,\\\n",
    "                    min_grad_norm=min_grad_norm, metric=metric, init=init, verbose=False,\\\n",
    "                    random_state=random_state, method=method, angle= angle, n_jobs=n_jobs)\n",
    "tSNE_data = tsne.fit_transform(curve)\n",
    "file_name = \"t-SNE_144_n{}_per{}_lr{}_iter{}\".format(n_components,perplexity,learning_rate,n_iter)\n",
    "\n",
    "# print(\"\\nOrg data dimension is {}\\n\\\n",
    "# Embedded data dimension is {}\".format(reflectivity_p_s.shape, tSNE_data.shape))\n",
    "\n",
    "data_min, data_max = tSNE_data.min(0), tSNE_data.max(0)\n",
    "data_norm = (tSNE_data - data_min) / (data_max - data_min)\n",
    "# print(data_norm.shape)\n",
    "print(\"\\nProcess sucessful\")"
   ]
  },
  {
   "cell_type": "markdown",
   "metadata": {
    "collapsed": false
   },
   "source": [
    "colormap = plt.cm.rainbow(np.linspace(0, 1, data_Gnum))\n",
    "plt.ion()\n",
    "for num in range(range_):\n",
    "    for i in range(data_n):\n",
    "        plt.text(data_norm_n[num,i, 0], data_norm_n[num,i, 1], str(i), color=colormap[i],\n",
    "                fontdict={'weight': 'bold', 'size': 9})\n",
    "    plt.xticks([]); plt.yticks([]); plt.title('perplexity = {} range={}~{}'.format(start+num,start,start+range_))\n",
    "    plt.pause(1)\n",
    "    plt.clf()\n",
    "\n"
   ]
  },
  {
   "cell_type": "code",
   "execution_count": 37,
   "metadata": {
    "collapsed": false
   },
   "outputs": [],
   "source": [
    "%matplotlib qt"
   ]
  },
  {
   "cell_type": "code",
   "execution_count": 38,
   "metadata": {
    "collapsed": false
   },
   "outputs": [],
   "source": [
    "# 2d with text\n",
    "%matplotlib qt\n",
    "colormap = plt.cm.rainbow(np.linspace(0, 1, data_norm.shape[0]))\n",
    "plt.figure(figsize = (20,10))\n",
    "plt.subplot(1,2,1)\n",
    "for i in range(data_norm.shape[0]//2):\n",
    "# for i in range(5):\n",
    "    plt.text(data_norm[i, 0], data_norm[i, 1], str(i), color=colormap[i],\n",
    "             fontdict={'weight': 'bold', 'size': 9})\n",
    "plt.xticks([]); plt.yticks([]);\n",
    "# plt.savefig('d:/Special_topic/program/t-SNE_result/{}.png'.format(file_name))\n",
    "# plt.show()"
   ]
  },
  {
   "cell_type": "code",
   "execution_count": 39,
   "metadata": {
    "collapsed": false
   },
   "outputs": [],
   "source": [
    "# 2d with text\n",
    "# %matplotlib qt\n",
    "# colormap = plt.cm.rainbow(np.linspace(0, 1, data_norm.shape[0]))\n",
    "# plt.figure(figsize = (10,10))\n",
    "plt.subplot(1,2,2)\n",
    "for i in range(44172 ,data_norm.shape[0]):\n",
    "    plt.text(data_norm[i, 0], data_norm[i, 1], str(i), color=colormap[i],\n",
    "             fontdict={'weight': 'bold', 'size': 9})\n",
    "plt.xticks([]); plt.yticks([]);\n",
    "# plt.savefig('d:/Special_topic/program/t-SNE_result/{}.png'.format(file_name))\n",
    "plt.show()\n"
   ]
  },
  {
   "cell_type": "markdown",
   "metadata": {
    "collapsed": false
   },
   "source": [
    "# 3D\n",
    "%matplotlib qt\n",
    "colormap = plt.cm.rainbow(np.linspace(0, 1, data_norm.shape[0]))\n",
    "plt.figure(figsize=(12, 12))\n",
    "ax = plt.subplot(111, projection='3d')\n",
    "for i in range(data_norm.shape[0]):\n",
    "    ax.text(data_norm[i,0], data_norm[i,1], data_norm[i,2],str(i), color=colormap[i])\n",
    "    # ax.scatter(data_norm[i,0], data_norm[i,1], data_norm[i,2],str(i), cmap=colormap[i])\n",
    "\n",
    "plt.savefig('d:/Special_topic/program/t-SNE_result/{}.png'.format(file_name))\n",
    "plt.show()\n"
   ]
  }
 ],
 "metadata": {
  "kernelspec": {
   "argv": [
    "C:/Users/Shawn/anaconda3/envs/tf-gpu\\python.exe",
    "-m",
    "ipykernel_launcher",
    "-f",
    "{connection_file}"
   ],
   "display_name": "Python 3",
   "env": null,
   "interrupt_mode": "signal",
   "language": "python",
   "metadata": null,
   "name": "python3"
  },
  "language_info": {
   "codemirror_mode": {
    "name": "ipython",
    "version": 3
   },
   "file_extension": ".py",
   "mimetype": "text/x-python",
   "name": "python",
   "nbconvert_exporter": "python",
   "pygments_lexer": "ipython3",
   "version": "3.7.7"
  },
  "name": "65_Pleurotus_eryngii.ipynb"
 },
 "nbformat": 4,
 "nbformat_minor": 4
}
