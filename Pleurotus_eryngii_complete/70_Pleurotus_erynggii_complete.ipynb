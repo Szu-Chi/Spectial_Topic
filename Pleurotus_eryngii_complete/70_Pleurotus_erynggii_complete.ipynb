{
 "cells": [
  {
   "cell_type": "markdown",
   "metadata": {
    "collapsed": false
   },
   "source": [
    "# import lib and test GPU of tensorflow\n"
   ]
  },
  {
   "cell_type": "code",
   "execution_count": 1,
   "metadata": {
    "collapsed": false
   },
   "outputs": [],
   "source": [
    "import numpy as np\n",
    "import cv2\n",
    "import glob\n",
    "import matplotlib.pyplot as plt\n",
    "import matplotlib.animation as animation\n",
    "import time\n",
    "import sys\n",
    "import gc\n",
    "import os\n",
    "import tensorflow as tf\n",
    "import h5py\n",
    "from random import randint\n",
    "from sklearn.decomposition import PCA\n",
    "from sklearn.preprocessing import StandardScaler\n",
    "from sklearn import manifold, datasets\n",
    "from IPython.display import clear_output\n",
    "from tsnecuda import TSNE\n",
    "#import tsnecuda\n",
    "#tsnecuda.test()\n"
   ]
  },
  {
   "cell_type": "code",
   "execution_count": 2,
   "metadata": {
    "collapsed": false
   },
   "outputs": [
    {
     "name": "stdout",
     "output_type": "stream",
     "text": [
      "pyqt5\n"
     ]
    }
   ],
   "source": [
    "os.environ[\"QT_API\"] = \"pyqt5\"\n",
    "print(os.environ.get('QT_API'))\n"
   ]
  },
  {
   "cell_type": "code",
   "execution_count": 3,
   "metadata": {
    "collapsed": false
   },
   "outputs": [],
   "source": [
    "%matplotlib qt\n"
   ]
  },
  {
   "cell_type": "code",
   "execution_count": 5,
   "metadata": {
    "collapsed": false
   },
   "outputs": [
    {
     "name": "stdout",
     "output_type": "stream",
     "text": [
      "tensorflow version:  2.1.0\n",
      "Num GPUs Available:  1\n",
      "Num CPUs Available:  1\n",
      "tf.test.is_Built_With_cuda =  True\n",
      "tf.test.is_gpu_available =  True\n"
     ]
    }
   ],
   "source": [
    "#test tesnsorflow\n",
    "print(\"tensorflow version: \",tf.__version__)\n",
    "print(\"Num GPUs Available: \", len(tf.config.experimental.list_physical_devices('GPU')))\n",
    "print(\"Num CPUs Available: \", len(tf.config.experimental.list_physical_devices('CPU')))\n",
    "# Returns whether TensorFlow was built with CUDA (GPU) support.\n",
    "print(\"tf.test.is_Built_With_cuda = \",tf.test.is_built_with_cuda())\n",
    "# RetUrns whether TensorFlow can access a GPU. (deprecated)\n",
    "print(\"tf.test.is_gpu_available = \",tf.test.is_gpu_available(cuda_only=False, min_cuda_compute_capability=None))\n"
   ]
  },
  {
   "cell_type": "markdown",
   "metadata": {
    "collapsed": false
   },
   "source": [
    "# Main program -------------->\n",
    "# build data path index\n"
   ]
  },
  {
   "cell_type": "code",
   "execution_count": 9,
   "metadata": {
    "collapsed": false
   },
   "outputs": [
    {
     "name": "stdout",
     "output_type": "stream",
     "text": [
      "build data path index.....\n",
      "build successful\n",
      "file_name_A number is  55\n",
      "file_name_B number is  48\n",
      "total data number is  103\n"
     ]
    }
   ],
   "source": [
    "def build_data_path_index():\n",
    "    print(\"build data path index.....\")\n",
    "\n",
    "    ## read file path\n",
    "    folder_path = '/home/shawn/DATA/Special_topic/Pleurotus_eryngii_complete/VL/Mat/*'\n",
    "    folder_path_list = sorted(glob.glob(folder_path))[1:] #excpet 20200507A\n",
    "    # print('\\n'.join(folder_name))\n",
    "    file_name = []\n",
    "    for path in folder_path_list: #folder_name_i = folder_name_index\n",
    "        file_name += sorted(glob.glob(path+'/*'))\n",
    "        # break\n",
    "\n",
    "    file_name_A = []\n",
    "    file_name_B = []\n",
    "    for name in file_name:\n",
    "        if name[83:84] is 'A':\n",
    "            file_name_A.append(name)\n",
    "        elif name[83:84] is 'B':\n",
    "            file_name_B.append(name)\n",
    "\n",
    "    print(\"build successful\")\n",
    "    return file_name_A, file_name_B\n",
    "\n",
    "file_name_A, file_name_B = build_data_path_index()\n",
    "# print('\\n'.join(file_name_A))\n",
    "# print('\\n'.join(file_name_B))\n",
    "FA_num = len(file_name_A)\n",
    "FB_num = len(file_name_B)\n",
    "total_num = len(file_name_A)+ len(file_name_B)\n",
    "print(\"file_name_A number is \", len(file_name_A))\n",
    "print(\"file_name_B number is \", len(file_name_B))\n",
    "print(\"total data number is \", len(file_name_A)+ len(file_name_B))\n"
   ]
  },
  {
   "cell_type": "markdown",
   "metadata": {
    "collapsed": false
   },
   "source": [
    "# test data"
   ]
  },
  {
   "cell_type": "code",
   "execution_count": 7,
   "metadata": {
    "collapsed": false
   },
   "outputs": [
    {
     "name": "stdout",
     "output_type": "stream",
     "text": [
      "i= 0\n"
     ]
    },
    {
     "name": "stdout",
     "output_type": "stream",
     "text": [
      "<class 'numpy.ndarray'>\n",
      "(10, 900, 1000)\n"
     ]
    }
   ],
   "source": [
    "num = 1\n",
    "data = np.zeros((num,300,900,1000), dtype=np.float64)\n",
    "for i in range(num):\n",
    "    print(\"i=\",i)\n",
    "    temp = h5py.File(file_name_A[0], 'r').get('cube')\n",
    "    data[i] = np.array(temp)\n",
    "data = data[0][0:10]\n",
    "print(type(data))\n",
    "print(data.shape)\n"
   ]
  },
  {
   "cell_type": "code",
   "execution_count": null,
   "metadata": {
    "collapsed": false
   },
   "outputs": [],
   "source": [
    "%matplotlib qt\n"
   ]
  },
  {
   "cell_type": "code",
   "execution_count": null,
   "metadata": {
    "collapsed": false
   },
   "outputs": [],
   "source": [
    "%matplotlib qt\n",
    "def set_figure_size():\n",
    "    plt.figure(figsize=(12,8))\n",
    "\n",
    "set_figure_size()\n",
    "\n",
    "# plt.subplot(1,3,1)\n",
    "plt.axis(\"off\")\n",
    "plt.imshow(data[9], plt.cm.gray, vmax=1.0)\n",
    "\n",
    "# plt.subplot(1,3,2)\n",
    "# plt.axis(\"off\")\n",
    "# plt.imshow(data[9][0:900,0:400], plt.cm.gray, vmax=1.0)\n",
    "\n",
    "# plt.subplot(1,3,3)\n",
    "# plt.axis(\"off\")\n",
    "# plt.imshow(data[9][0:150,0:250], plt.cm.gray, vmax=1.0)\n"
   ]
  },
  {
   "cell_type": "markdown",
   "metadata": {
    "collapsed": false
   },
   "source": [
    "# OSP"
   ]
  },
  {
   "cell_type": "code",
   "execution_count": null,
   "metadata": {
    "collapsed": false
   },
   "outputs": [],
   "source": [
    "def rho(arr):\n",
    "    sum=0\n",
    "    for i in arr:\n",
    "        sum += i**2\n",
    "    r = sum**0.5\n",
    "    return r\n",
    "def OSPfn(M, U):\n",
    "    (l, p) = M.shape\n",
    "    P_U = np.identity(l) - np.dot(U,np.linalg.pinv(U));\n",
    "    nu = np.zeros((p,1))\n",
    "    for i in range(p):\n",
    "        nu[i] = rho(P_U.dot(M[:,i]))\n",
    "    return nu\n"
   ]
  },
  {
   "cell_type": "code",
   "execution_count": null,
   "metadata": {
    "collapsed": false
   },
   "outputs": [],
   "source": [
    "print(data.shape)"
   ]
  },
  {
   "cell_type": "code",
   "execution_count": null,
   "metadata": {
    "collapsed": false
   },
   "outputs": [],
   "source": [
    "# change data([x*y][band]) to\n",
    "#        cube_arr([band][x*y])\n",
    "cube_arr = data\n",
    "(band, x, y) = cube_arr.shape\n",
    "cube_arr = cube_arr.reshape(band, x*y)\n",
    "print(cube_arr.shape)"
   ]
  },
  {
   "cell_type": "code",
   "execution_count": null,
   "metadata": {
    "collapsed": false
   },
   "outputs": [],
   "source": [
    "# select undesired or interfering signatures\n",
    "# U =              data[:,520,900]\n",
    "# U = np.stack((U, data[:,880,470]), axis=1)\n",
    "U =               data[:,150,850]\n",
    "U = np.vstack((U, data[:,355,850]))\n",
    "# U = np.vstack((U, data[:,300,850]))\n",
    "U = np.transpose(U)\n",
    "print(\"U.shpae = \", U.shape)\n",
    "print(\"cube_arr.shpae = \", cube_arr.shape)\n",
    "\n",
    "threshold = 0.2\n",
    "out = OSPfn(cube_arr, U).reshape((900,1000))\n",
    "# out[out>=threshold] = 1\n",
    "# out[out<threshold] = 0\n",
    "\n",
    "#show result\n",
    "set_figure_size()\n",
    "\n",
    "plt.subplot(1,2,1)\n",
    "plt.axis(\"off\")\n",
    "plt.imshow(data[3], plt.cm.gray, vmax=1.0)\n",
    "\n",
    "plt.subplot(1,2,2)\n",
    "plt.axis(\"off\")\n",
    "plt.imshow(out, plt.cm.gray)\n"
   ]
  },
  {
   "cell_type": "code",
   "execution_count": null,
   "metadata": {
    "collapsed": false
   },
   "outputs": [],
   "source": [
    "# del data\n",
    "%whos"
   ]
  }
 ],
 "metadata": {
  "kernelspec": {
   "argv": [
    "python",
    "-m",
    "ipykernel_launcher",
    "-f",
    "{connection_file}"
   ],
   "display_name": "Python 3",
   "env": null,
   "interrupt_mode": "signal",
   "language": "python",
   "metadata": null,
   "name": "python3"
  },
  "name": "70_Pleurotus_erynggii_complete.ipynb"
 },
 "nbformat": 4,
 "nbformat_minor": 4
}
