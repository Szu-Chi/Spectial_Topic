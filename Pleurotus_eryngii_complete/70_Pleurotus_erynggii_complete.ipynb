{
 "cells": [
  {
   "cell_type": "markdown",
   "metadata": {
    "collapsed": false
   },
   "source": [
    "# import lib and test GPU of tensorflow\n"
   ]
  },
  {
   "cell_type": "code",
   "execution_count": 16,
   "metadata": {
    "collapsed": false
   },
   "outputs": [],
   "source": [
    "import numpy as np\n",
    "import cv2\n",
    "import glob\n",
    "import matplotlib.pyplot as plt\n",
    "# import matplotlib.image as mping\n",
    "import matplotlib.animation as animation\n",
    "import time, datetime\n",
    "import sys\n",
    "import gc\n",
    "import os\n",
    "import tensorflow as tf\n",
    "import h5py\n",
    "from random import randint\n",
    "from sklearn.decomposition import PCA\n",
    "from sklearn.preprocessing import StandardScaler\n",
    "from sklearn import manifold, datasets\n",
    "from IPython.display import clear_output\n",
    "from tsnecuda import TSNE\n",
    "#import tsnecuda\n",
    "#tsnecuda.test()\n"
   ]
  },
  {
   "cell_type": "code",
   "execution_count": 2,
   "metadata": {
    "collapsed": false
   },
   "outputs": [
    {
     "name": "stdout",
     "output_type": "stream",
     "text": [
      "pyqt5\n"
     ]
    }
   ],
   "source": [
    "os.environ[\"QT_API\"] = \"pyqt5\"\n",
    "print(os.environ.get('QT_API'))\n"
   ]
  },
  {
   "cell_type": "code",
   "execution_count": 3,
   "metadata": {
    "collapsed": false
   },
   "outputs": [],
   "source": [
    "%matplotlib qt\n"
   ]
  },
  {
   "cell_type": "code",
   "execution_count": 4,
   "metadata": {
    "collapsed": false
   },
   "outputs": [
    {
     "name": "stdout",
     "output_type": "stream",
     "text": [
      "tensorflow version:  2.1.0\n",
      "Num GPUs Available:  1\n",
      "Num CPUs Available:  1\n",
      "tf.test.is_Built_With_cuda =  True\n",
      "WARNING:tensorflow:From <ipython-input-4-8ba2670e01b7>:8: is_gpu_available (from tensorflow.python.framework.test_util) is deprecated and will be removed in a future version.\n",
      "Instructions for updating:\n",
      "Use `tf.config.list_physical_devices('GPU')` instead.\n"
     ]
    },
    {
     "name": "stdout",
     "output_type": "stream",
     "text": [
      "tf.test.is_gpu_available =  True\n"
     ]
    }
   ],
   "source": [
    "#test tesnsorflow\n",
    "print(\"tensorflow version: \",tf.__version__)\n",
    "print(\"Num GPUs Available: \", len(tf.config.experimental.list_physical_devices('GPU')))\n",
    "print(\"Num CPUs Available: \", len(tf.config.experimental.list_physical_devices('CPU')))\n",
    "# Returns whether TensorFlow was built with CUDA (GPU) support.\n",
    "print(\"tf.test.is_Built_With_cuda = \",tf.test.is_built_with_cuda())\n",
    "# RetUrns whether TensorFlow can access a GPU. (deprecated)\n",
    "print(\"tf.test.is_gpu_available = \",tf.test.is_gpu_available(cuda_only=False, min_cuda_compute_capability=None))\n"
   ]
  },
  {
   "cell_type": "markdown",
   "metadata": {
    "collapsed": false
   },
   "source": [
    "# def function\n"
   ]
  },
  {
   "cell_type": "code",
   "execution_count": 5,
   "metadata": {
    "collapsed": false
   },
   "outputs": [],
   "source": [
    "def show_picture(img, figsizeX=6, figsizeY=4):\n",
    "    plt.figure(figsize=(figsizeY, figsizeX))\n",
    "    plt.axis(\"off\")\n",
    "    # plt.imshow(img, plt.cm.gray, vmax=1.0)\n",
    "    plt.imshow(img, plt.cm.gray)\n"
   ]
  },
  {
   "cell_type": "markdown",
   "metadata": {
    "collapsed": false
   },
   "source": [
    "# Main program -------------->\n",
    "# build data path index\n"
   ]
  },
  {
   "cell_type": "code",
   "execution_count": 6,
   "metadata": {
    "collapsed": false
   },
   "outputs": [],
   "source": [
    "def build_data_path_index():\n",
    "    print(\"build data path index.....\")\n",
    "    ## read file path\n",
    "    # folder_path = 'H:/mushroom/VL/Mat/*'                                             # Tommy windows\n",
    "    # folder_path = '/media/tommy/本機磁碟1/mushroom/VL/Mat/*'                          # Tommy Linux\n",
    "    folder_path = '/home/shawn/DATA/Special_topic/Pleurotus_eryngii_complete/VL/Mat/*' # Shawn Linux\n",
    "    folder_path_list = sorted(glob.glob(folder_path))[1:] #excpet 20200507A\n",
    "    # print('\\n'.join(folder_path_list))\n",
    "    file_name_p = []\n",
    "    for path in folder_path_list: #folder_name_i = folder_name_index\n",
    "        file_name_p += sorted(glob.glob(path+'/*'))\n",
    "        # break\n",
    "\n",
    "    file_name = [[],[]]\n",
    "    # category string\n",
    "    # CS=37 #Tommy Windows\n",
    "    # CS=53 #Tommy Linux\n",
    "    CS=83 #Shawn Linux\n",
    "    for name in file_name_p:\n",
    "        if name[CS] == 'A': #change to your index\n",
    "            file_name[0].append(name)\n",
    "        elif name[CS] == 'B':\n",
    "            file_name[1].append(name)\n",
    "\n",
    "    print(\"build successful\")\n",
    "    return file_name, CS\n"
   ]
  },
  {
   "cell_type": "code",
   "execution_count": 8,
   "metadata": {
    "collapsed": false
   },
   "outputs": [
    {
     "name": "stdout",
     "output_type": "stream",
     "text": [
      "build data path index.....\n",
      "build successful\n",
      "\n",
      "Rank A of number is  55\n",
      "Rank B of number is  48\n",
      "total data number is  103\n"
     ]
    }
   ],
   "source": [
    "# file_name : file_name[0] -----> rank of A\n",
    "#             file_name[1] -----> rank of B\n",
    "file_name, CS = build_data_path_index()\n",
    "\n",
    "print()\n",
    "print(\"Rank A of number is \", len(file_name[0]))\n",
    "print(\"Rank B of number is \", len(file_name[1]))\n",
    "TFnum = len(file_name[0]) +len(file_name[1]) # Total file number\n",
    "print(\"total data number is \", len(file_name[0]) +len(file_name[1]))\n"
   ]
  },
  {
   "cell_type": "markdown",
   "metadata": {
    "collapsed": false
   },
   "source": [
    "# del data to picture to observe Placement method\n"
   ]
  },
  {
   "cell_type": "raw",
   "metadata": {
    "collapsed": false
   },
   "source": [
    "data = np.zeros((300,900,1000), dtype=np.float64)\n",
    "for i in range(len(file_name[0])):\n",
    "    print(\"i={}/{}\".format(i,len(file_name[0])))\n",
    "    temp = h5py.File(file_name[0][i], 'r').get('cube')\n",
    "    data = np.array(temp)\n",
    "    data = data[100]\n",
    "\n",
    "    cv2.imwrite('/home/shawn/DATA/Special_topic/Pleurotus_eryngii_complete/observe_picbure/'+file_name[i][CS-4:-4]+'.png', data*256)\n",
    "\n",
    "print(type(data))\n",
    "print(data.shape)\n"
   ]
  },
  {
   "cell_type": "markdown",
   "metadata": {
    "collapsed": false
   },
   "source": [
    "# Process data\n",
    "OSP --> mask --> get Pleurotus_eryngii --> finish remove background\n"
   ]
  },
  {
   "cell_type": "code",
   "execution_count": 9,
   "metadata": {
    "collapsed": false
   },
   "outputs": [],
   "source": [
    "def select_U_value():\n",
    "    # select undesired or interfering signatures\n",
    "    U =               cube_arr[:,305,284]\n",
    "    U = np.vstack((U, cube_arr[:,680,440]))\n",
    "\n",
    "    U = np.transpose(U)\n",
    "    np.save('/home/shawn/DATA/Special_topic/program/Pleurotus_eryngii_complete/U_value.npy',U)\n",
    "    print(\"U.shpae = \", U.shape)\n",
    "\n",
    "def OSP_preprocess(data, select=70):\n",
    "    ## change data(band, y, x)to\n",
    "    ##        cube_arr([band][y*x])\n",
    "\n",
    "    ## $select how band will input to OSP\n",
    "\n",
    "    cube_arr = data[0]\n",
    "    cube_arr = cube_arr[np.newaxis,:]\n",
    "    (band, x, y) = data.shape\n",
    "    step = band/select\n",
    "    index = -1\n",
    "    for i in range(select):\n",
    "        index = index+step\n",
    "        # print(index)\n",
    "        cube_arr = np.concatenate((cube_arr, [data[round(index)]]), axis=0)\n",
    "\n",
    "    ## if youe need to reselect U_value uncomment it\n",
    "    # select_U_value(cube_arr)\n",
    "\n",
    "    (band, x, y) = cube_arr.shape\n",
    "    cube_arr = cube_arr.reshape(band, x*y)\n",
    "    return cube_arr\n",
    "\n",
    "\n",
    "def rho(arr):\n",
    "    sum=0\n",
    "    for i in arr:\n",
    "        sum += i**2\n",
    "    r = sum**0.5\n",
    "    return r\n",
    "def OSPfn(M, U):\n",
    "    (l, p) = M.shape\n",
    "    P_U = np.identity(l) - np.dot(U,np.linalg.pinv(U));\n",
    "    nu = np.zeros((p,1))\n",
    "    for i in range(p):\n",
    "        nu[i] = rho(P_U.dot(M[:,i]))\n",
    "    return nu\n"
   ]
  },
  {
   "cell_type": "code",
   "execution_count": 15,
   "metadata": {
    "collapsed": false
   },
   "outputs": [
    {
     "name": "stdout",
     "output_type": "stream",
     "text": [
      "processing....\n",
      "i=1/2 j= 3/55\t 0511A07_08.mat\t"
     ]
    },
    {
     "name": "stdout",
     "output_type": "stream",
     "text": [
      "OSP"
     ]
    },
    {
     "name": "stdout",
     "output_type": "stream",
     "text": [
      "get_mask\n",
      "processing successful\n",
      "(300, 850, 850)\n"
     ]
    }
   ],
   "source": [
    "def process_data():\n",
    "    U = np.load('/home/shawn/DATA/Special_topic/program/Pleurotus_eryngii_complete/U_value.npy')\n",
    "    print(\"processing....\")\n",
    "    for i in range(2):\n",
    "        for j in range(len(file_name[i])):\n",
    "            print(\"i={}/2 j={:2d}/{}\\t {}\\t\".format(i+1,j+1,len(file_name[i]),file_name[i][j][CS-4:]),end=\"\")\n",
    "            ## read data\n",
    "            temp = h5py.File(file_name[i][j], 'r').get('cube')\n",
    "            data = np.array(temp)\n",
    "            data = data[:, :820, :850]\n",
    "\n",
    "            ### OSP data\n",
    "            ## if you change value of select which in OSP_preprocess(), you must to reset U_value.npy manually\n",
    "            print(\"OSP\\t\", end=\"\")\n",
    "            cube_arr = OSP_preprocess(data)\n",
    "            out = OSPfn(cube_arr, U).reshape((820,850))\n",
    "            show_picture(out)\n",
    "\n",
    "            ### get mask\n",
    "            print(\"get_mask\", end=\"\")\n",
    "\n",
    "\n",
    "            print()\n",
    "            if(j==2):\n",
    "                break\n",
    "        break\n",
    "    print(\"processing successful\")\n",
    "    return data\n",
    "\n",
    "\n",
    "data = process_data()\n",
    "print(data.shape)\n"
   ]
  },
  {
   "cell_type": "code",
   "execution_count": 11,
   "metadata": {
    "collapsed": false
   },
   "outputs": [
    {
     "ename": "NameError",
     "evalue": "name 'data' is not defined",
     "output_type": "error",
     "traceback": [
      "\u001b[0;31m---------------------------------------------------------------------------\u001b[0m",
      "\u001b[0;31mNameError\u001b[0m                                 Traceback (most recent call last)",
      "\u001b[0;32m<ipython-input-11-05a4c0e71d83>\u001b[0m in \u001b[0;36m<module>\u001b[0;34m\u001b[0m\n\u001b[1;32m      1\u001b[0m \u001b[0mget_ipython\u001b[0m\u001b[0;34m(\u001b[0m\u001b[0;34m)\u001b[0m\u001b[0;34m.\u001b[0m\u001b[0mrun_line_magic\u001b[0m\u001b[0;34m(\u001b[0m\u001b[0;34m'matplotlib'\u001b[0m\u001b[0;34m,\u001b[0m \u001b[0;34m'qt'\u001b[0m\u001b[0;34m)\u001b[0m\u001b[0;34m\u001b[0m\u001b[0;34m\u001b[0m\u001b[0m\n\u001b[0;32m----> 2\u001b[0;31m \u001b[0mshow_picture\u001b[0m\u001b[0;34m(\u001b[0m\u001b[0mdata\u001b[0m\u001b[0;34m[\u001b[0m\u001b[0;36m100\u001b[0m\u001b[0;34m]\u001b[0m\u001b[0;34m)\u001b[0m\u001b[0;34m\u001b[0m\u001b[0;34m\u001b[0m\u001b[0m\n\u001b[0m",
      "\u001b[0;31mNameError\u001b[0m: name 'data' is not defined"
     ]
    }
   ],
   "source": [
    "%matplotlib qt\n",
    "show_picture(data[100])"
   ]
  },
  {
   "cell_type": "code",
   "execution_count": null,
   "metadata": {
    "collapsed": false
   },
   "outputs": [],
   "source": []
  }
 ],
 "metadata": {
  "kernelspec": {
   "argv": [
    "python",
    "-m",
    "ipykernel_launcher",
    "-f",
    "{connection_file}"
   ],
   "display_name": "Python 3",
   "env": null,
   "interrupt_mode": "signal",
   "language": "python",
   "metadata": null,
   "name": "python3"
  },
  "name": "70_Pleurotus_erynggii_complete.ipynb"
 },
 "nbformat": 4,
 "nbformat_minor": 4
}
