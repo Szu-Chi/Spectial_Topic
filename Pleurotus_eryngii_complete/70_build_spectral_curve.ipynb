{
 "cells": [
  {
   "cell_type": "markdown",
   "metadata": {
    "collapsed": false
   },
   "source": [
    "# import lib and test GPU of tensorflow\n"
   ]
  },
  {
   "cell_type": "code",
   "execution_count": null,
   "metadata": {
    "collapsed": false
   },
   "outputs": [],
   "source": [
    "import numpy as np\n",
    "import cv2\n",
    "import glob\n",
    "import matplotlib.pyplot as plt\n",
    "# import matplotlib.image as mping\n",
    "import matplotlib.animation as animation\n",
    "import time, datetime\n",
    "import sys\n",
    "import gc\n",
    "import os\n",
    "import tensorflow as tf\n",
    "import h5py\n",
    "from random import randint\n",
    "from sklearn.decomposition import PCA\n",
    "from sklearn.preprocessing import StandardScaler\n",
    "from sklearn import manifold, datasets\n",
    "from IPython.display import clear_output\n",
    "from tsnecuda import TSNE\n",
    "#import tsnecuda\n",
    "#tsnecuda.test()\n"
   ]
  },
  {
   "cell_type": "code",
   "execution_count": null,
   "metadata": {
    "collapsed": false
   },
   "outputs": [],
   "source": [
    "os.environ[\"QT_API\"] = \"pyqt5\"\n",
    "print(os.environ.get('QT_API'))\n"
   ]
  },
  {
   "cell_type": "code",
   "execution_count": null,
   "metadata": {
    "collapsed": false
   },
   "outputs": [],
   "source": [
    "%matplotlib qt\n"
   ]
  },
  {
   "cell_type": "code",
   "execution_count": null,
   "metadata": {
    "collapsed": false
   },
   "outputs": [],
   "source": [
    "#test tesnsorflow\n",
    "print(\"tensorflow version: \",tf.__version__)\n",
    "print(\"Num GPUs Available: \", len(tf.config.experimental.list_physical_devices('GPU')))\n",
    "print(\"Num CPUs Available: \", len(tf.config.experimental.list_physical_devices('CPU')))\n",
    "# Returns whether TensorFlow was built with CUDA (GPU) support.\n",
    "print(\"tf.test.is_Built_With_cuda = \",tf.test.is_built_with_cuda())\n",
    "# RetUrns whether TensorFlow can access a GPU. (deprecated)\n",
    "print(\"tf.test.is_gpu_available = \",tf.test.is_gpu_available(cuda_only=False, min_cuda_compute_capability=None))\n"
   ]
  },
  {
   "cell_type": "markdown",
   "metadata": {
    "collapsed": false
   },
   "source": [
    "# def function\n"
   ]
  },
  {
   "cell_type": "code",
   "execution_count": null,
   "metadata": {
    "collapsed": false
   },
   "outputs": [],
   "source": [
    "def show_picture(img, figsizeX=6, figsizeY=4):\n",
    "    # plt.figure(figsize=(figsizeY, figsizeX))\n",
    "    plt.axis(\"off\")\n",
    "    # plt.imshow(img, plt.cm.gray, vmax=1.0)\n",
    "    plt.imshow(img, plt.cm.gray)\n"
   ]
  },
  {
   "cell_type": "markdown",
   "metadata": {
    "collapsed": false
   },
   "source": [
    "# Main program -------------->\n",
    "# build data path index\n"
   ]
  },
  {
   "cell_type": "code",
   "execution_count": null,
   "metadata": {
    "collapsed": false
   },
   "outputs": [],
   "source": [
    "def build_data_path_index():\n",
    "    print(\"build data path index.....\")\n",
    "    ## read file path\n",
    "    # folder_path = 'H:/mushroom/VL/Mat/*'                                             # Tommy windows\n",
    "    # folder_path = '/media/tommy/本機磁碟1/mushroom/VL/Mat/*'                          # Tommy Linux\n",
    "    folder_path = '/home/shawn/DATA/Special_topic/Pleurotus_eryngii_complete/VL/Mat/*' # Shawn Linux\n",
    "    folder_path_list = sorted(glob.glob(folder_path))[1:] #excpet 20200507A\n",
    "    # print('\\n'.join(folder_path_list))\n",
    "    file_name_p = []\n",
    "    for path in folder_path_list: #folder_name_i = folder_name_index\n",
    "        file_name_p += sorted(glob.glob(path+'/*'))\n",
    "        # break\n",
    "\n",
    "    file_name = [[],[]]\n",
    "    # category string\n",
    "    # CS=37 #Tommy Windows\n",
    "    # CS=53 #Tommy Linux\n",
    "    CS=83 #Shawn Linux\n",
    "    for name in file_name_p:\n",
    "        if name[CS] == 'A': #change to your index\n",
    "            file_name[0].append(name)\n",
    "        elif name[CS] == 'B':\n",
    "            file_name[1].append(name)\n",
    "\n",
    "    print(\"build successful\")\n",
    "    return file_name, CS\n"
   ]
  },
  {
   "cell_type": "code",
   "execution_count": null,
   "metadata": {
    "collapsed": false
   },
   "outputs": [],
   "source": [
    "# file_name : file_name[0] -----> rank of A\n",
    "#             file_name[1] -----> rank of B\n",
    "file_name, CS = build_data_path_index()\n",
    "\n",
    "print()\n",
    "print(\"Rank A of number is \", len(file_name[0]))\n",
    "print(\"Rank B of number is \", len(file_name[1]))\n",
    "TFnum = len(file_name[0]) +len(file_name[1]) # Total file number\n",
    "print(\"total data number is \", TFnum)\n"
   ]
  },
  {
   "cell_type": "markdown",
   "metadata": {
    "collapsed": false
   },
   "source": [
    "# del data to picture to observe Placement method\n"
   ]
  },
  {
   "cell_type": "raw",
   "metadata": {
    "collapsed": false
   },
   "source": [
    "data = np.zeros((300,900,1000), dtype=np.float64)\n",
    "for i in range(len(file_name[0])):\n",
    "    print(\"i={}/{}\".format(i,len(file_name[0])))\n",
    "    temp = h5py.File(file_name[0][i], 'r').get('cube')\n",
    "    data = np.array(temp)\n",
    "    data = data[100]\n",
    "\n",
    "    cv2.imwrite('/home/shawn/DATA/Special_topic/Pleurotus_eryngii_complete/observe_picbure/'+file_name[i][CS-4:-4]+'.png', data*256)\n",
    "\n",
    "print(type(data))\n",
    "print(data.shape)\n"
   ]
  },
  {
   "cell_type": "markdown",
   "metadata": {
    "collapsed": false
   },
   "source": [
    "# define function of Process data\n"
   ]
  },
  {
   "cell_type": "code",
   "execution_count": null,
   "metadata": {
    "collapsed": false
   },
   "outputs": [],
   "source": [
    "def select_U_value():\n",
    "    # select undesired or interfering signatures\n",
    "    U =               cube_arr[:,305,284]\n",
    "    U = np.vstack((U, cube_arr[:,680,440]))\n",
    "\n",
    "    U = np.transpose(U)\n",
    "    np.save('/home/shawn/DATA/Special_topic/program/Pleurotus_eryngii_complete/U_value.npy',U)\n",
    "    print(\"U.shpae = \", U.shape)\n",
    "\n",
    "def OSP_preprocess(data, select=70):\n",
    "    ## change data(band, y, x)to\n",
    "    ##        cube_arr([band][y*x])\n",
    "\n",
    "    ## $select how band will input to OSP\n",
    "\n",
    "    cube_arr = data[0]\n",
    "    cube_arr = cube_arr[np.newaxis,:]\n",
    "    (band, x, y) = data.shape\n",
    "    step = band/select\n",
    "    index = -1\n",
    "    for i in range(select):\n",
    "        index = index+step\n",
    "        # print(index)\n",
    "        cube_arr = np.concatenate((cube_arr, [data[round(index)]]), axis=0)\n",
    "\n",
    "    ## if youe need to reselect U_value uncomment it\n",
    "    # select_U_value(cube_arr)\n",
    "\n",
    "    (band, x, y) = cube_arr.shape\n",
    "    cube_arr = cube_arr.reshape(band, x*y)\n",
    "    return cube_arr\n",
    "\n",
    "\n",
    "def rho(arr):\n",
    "    sum=0\n",
    "    for i in arr:\n",
    "        sum += i**2\n",
    "    r = sum**0.5\n",
    "    return r\n",
    "def OSPfn(M, U):\n",
    "    (l, p) = M.shape\n",
    "    P_U = np.identity(l) - np.dot(U,np.linalg.pinv(U));\n",
    "    nu = np.zeros((p,1))\n",
    "    for i in range(p):\n",
    "        nu[i] = rho(P_U.dot(M[:,i]))\n",
    "    return nu\n",
    "\n",
    "def read_data(file_name, crop_x, crop_y, i, j):\n",
    "    temp = h5py.File(file_name[i][j], 'r').get('cube')\n",
    "    data = np.array(temp)\n",
    "    data = data[:, :crop_y, :crop_x]\n",
    "    return data\n",
    "\n",
    "def get_contours(file_name, osp_out, data, crop_x, crop_y, CS, i, j):\n",
    "\n",
    "    NumOPE = int(file_name[i][j][-6:-4]) - int(file_name[i][j][-9:-7]) +1 # number of Pleurotus eryngii in this cube\n",
    "    mask=(osp_out/np.max(osp_out))>0.4\n",
    "\n",
    "    KV = 9 # kernel Value\n",
    "    while(True): # prevent KV too low to let mask quantity higher or less then PE\n",
    "        # print(\"KV = \", KV)\n",
    "        blurred =cv2.medianBlur(np.float32(mask), 5)\n",
    "        kernel = np.ones((KV,KV),np.uint8)\n",
    "        blurred=cv2.morphologyEx(blurred, cv2.MORPH_OPEN, kernel)\n",
    "\n",
    "        blurred = np.array(blurred,np.uint8)\n",
    "        blurred=np.clip(blurred, 0, 255)\n",
    "        contours, _ = cv2.findContours(blurred, cv2.RETR_EXTERNAL, cv2.CHAIN_APPROX_NONE)\n",
    "        if(KV >= 35):\n",
    "            build_mask_and_save(data, contours, crop_x, crop_y, CS, i, j)\n",
    "            print('\\n\\t\\t\\t\\ti={},j={},KV={}, len(contours)={}, NumOPE={}'.format(i,j,KV, len(contours), NumOPE), end=\"\\t\\t\\t\\t\")\n",
    "            return 0\n",
    "            # raise UserWarning('i={},j={},KV={}, len(contours)={}, NumOPE={}'.format(i,j,KV, len(contours), NumOPE))\n",
    "        if(len(contours) != NumOPE): # prevent KV too low to let mask quantity higher or less then PE\n",
    "            KV += 2\n",
    "        else:\n",
    "            break\n",
    "    return contours\n",
    "\n",
    "def build_mask_and_save(data, contours, crop_x, crop_y, CS, i, j):\n",
    "\n",
    "    plt.clf()\n",
    "    plt.subplot(2,6,1)\n",
    "    plt.title(file_name[i][j][CS-4:])\n",
    "    show_picture(data[150])\n",
    "\n",
    "    temp = np.copy(data[150])\n",
    "    temp[temp<0] = 0\n",
    "    temp *= (255/np.max(temp))\n",
    "    # cv2.imwrite('/home/shawn/DATA/Special_topic/Pleurotus_eryngii_complete/mask/{}.png'.format(file_name[i][j][CS-4:-4]),temp)\n",
    "\n",
    "    for contours_i in range(len(contours)):\n",
    "        clone=np.zeros([crop_y,crop_x],dtype=np.int16)\n",
    "        clone=cv2.drawContours(clone, [contours[contours_i]], contourIdx=-1, color=(255,255,255), thickness=-1)\n",
    "        clone//=255\n",
    "\n",
    "        plt.subplot(2,6,contours_i+2)\n",
    "        plt.title(file_name[i][j][CS-4:-4]+\"_{:d}\".format(contours_i))\n",
    "        show_picture(clone)\n",
    "\n",
    "        (band, x, y) = data.shape\n",
    "\n",
    "        ## calculate mean of band for all PE and save it\n",
    "        spectral_vaule_arr = np.zeros(300)\n",
    "        for band_i in range(band):\n",
    "            spectral_vaule_arr[band_i] = np.sum(data[band_i]*clone)/np.count_nonzero(clone)\n",
    "        path = \"/home/shawn/DATA/Special_topic/Pleurotus_eryngii_complete/spectral_curve/\"+file_name[i][j][CS-4:-4]+\"_{:d}.npy\".format(contours_i)\n",
    "        np.save(path, spectral_vaule_arr)\n",
    "\n",
    "        plt.subplot(2,6,contours_i+8)\n",
    "        plt.title(file_name[i][j][CS-4:-4]+\"_{:d}\".format(contours_i))\n",
    "        plt.plot(np.arange(0,300,dtype=np.int16), spectral_vaule_arr)\n",
    "\n",
    "        plt.savefig('/home/shawn/DATA/Special_topic/Pleurotus_eryngii_complete/mask/{}.png'.format(file_name[i][j][CS-4:-4]))\n",
    "\n"
   ]
  },
  {
   "cell_type": "code",
   "execution_count": null,
   "metadata": {
    "collapsed": false
   },
   "outputs": [],
   "source": [
    "def process_data(TFnum, file_name, CS, U, crop_x, crop_y, i, j, fault_count):\n",
    "    # U = np.load('/home/shawn/DATA/Special_topic/program/Pleurotus_eryngii_complete/U_value.npy')\n",
    "    # crop_x = 850\n",
    "    # crop_y = 820\n",
    "    # ST = datetime.datetime.now()\n",
    "    # print(\"processing.... Start time =\",ST.strftime(\"%H:%M:%S\"))\n",
    "\n",
    "    print(\"i={}/2 j={:2d}/{}\".format(i+1,j+1,len(file_name[i])),end=\"\\t\") # display progress rate\n",
    "    ST = datetime.datetime.now()\n",
    "\n",
    "    ### ========== read data ==========\n",
    "    print(\"read_{}\".format(file_name[i][j][CS-4:]),end=\"\\t\")\n",
    "    data = read_data(file_name, crop_x, crop_y, i, j)\n",
    "\n",
    "    ### ========== OSP data ==========\n",
    "    ## if you change value of select which in OSP_preprocess(), you must to reset U_value.npy manually\n",
    "    print(\"OSP\", end=\"\\t\")\n",
    "    cube_arr = OSP_preprocess(data)\n",
    "    osp_out = OSPfn(cube_arr, U).reshape((crop_y,crop_x))\n",
    "\n",
    "    ### ========== get contours ==========\n",
    "    print(\"get_contours\", end=\"\\t\")\n",
    "    contours = get_contours(file_name, osp_out, data, crop_x, crop_y, CS, i, j)\n",
    "\n",
    "    if contours==0:\n",
    "        fault_count += 1\n",
    "    else:\n",
    "        ### ========== build mask_and save ==========\n",
    "        print(\"build_mask_and_save\", end=\"\\t\")\n",
    "        build_mask_and_save(data, contours, crop_x, crop_y, CS, i, j)\n",
    "\n",
    "    ET = datetime.datetime.now()\n",
    "    print(\"ET:\",ET.strftime(\"%H:%M:%S\"),end='\\t')\n",
    "    print(\"Exec.:\",ET-ST, end='\\t')\n",
    "    print(\"ETC:\",(ST+(ET-ST)*(TFnum)).strftime(\"%H:%M:%S\"))\n",
    "    TFnum -=1\n",
    "    return fault_count, TFnum\n",
    "\n",
    "\n"
   ]
  },
  {
   "cell_type": "markdown",
   "metadata": {
    "collapsed": false
   },
   "source": [
    "# Process Data\n"
   ]
  },
  {
   "cell_type": "code",
   "execution_count": null,
   "metadata": {
    "collapsed": false
   },
   "outputs": [],
   "source": [
    "# fullscreen fig manually\n",
    "plt.subplot(1,1,1)\n",
    "plt.show()\n"
   ]
  },
  {
   "cell_type": "code",
   "execution_count": null,
   "metadata": {
    "collapsed": false
   },
   "outputs": [],
   "source": [
    "if __name__ == '__main__':\n",
    "    i_start = 0\n",
    "    j_start = 0\n",
    "\n",
    "    U = np.load('/home/shawn/DATA/Special_topic/program/Pleurotus_eryngii_complete/U_value.npy')\n",
    "    crop_x = 850\n",
    "    crop_y = 820\n",
    "    ST = datetime.datetime.now()\n",
    "    print(\"processing.... Start time =\",ST.strftime(\"%H:%M:%S\"))\n",
    "\n",
    "    fault_count = 0\n",
    "    for i in range(i_start, 2):\n",
    "        for j in range(j_start, len(file_name[i])):\n",
    "            fault_count, TFnum = process_data(TFnum, file_name, CS, U, crop_x, crop_y, i, j, fault_count)\n",
    "            plt.show()\n",
    "\n",
    "    print(\"\\nprocessing successful\")\n",
    "    print('fault_count = ', fault_count)\n"
   ]
  },
  {
   "cell_type": "markdown",
   "metadata": {
    "collapsed": false
   },
   "source": [
    "# test\n"
   ]
  },
  {
   "cell_type": "code",
   "execution_count": null,
   "metadata": {
    "collapsed": false
   },
   "outputs": [],
   "source": [
    "## test npy\n",
    "arr = np.load(path)\n",
    "plt.plot(np.arange(0,300,dtype=np.int16), arr)\n"
   ]
  }
 ],
 "metadata": {
  "kernelspec": {
   "argv": [
    "python",
    "-m",
    "ipykernel_launcher",
    "-f",
    "{connection_file}"
   ],
   "display_name": "Python 3",
   "env": null,
   "interrupt_mode": "signal",
   "language": "python",
   "metadata": null,
   "name": "python3"
  },
  "name": "70_build_spectral_curve.ipynb"
 },
 "nbformat": 4,
 "nbformat_minor": 4
}
