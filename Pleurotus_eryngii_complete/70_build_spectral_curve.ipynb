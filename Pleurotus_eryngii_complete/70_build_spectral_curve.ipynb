{
 "cells": [
  {
   "cell_type": "markdown",
   "metadata": {
    "collapsed": false
   },
   "source": [
    "# import lib and test GPU of tensorflow\n"
   ]
  },
  {
   "cell_type": "code",
   "execution_count": 1,
   "metadata": {
    "collapsed": false
   },
   "outputs": [],
   "source": [
    "import numpy as np\n",
    "import cv2\n",
    "import glob\n",
    "import matplotlib.pyplot as plt\n",
    "# import matplotlib.image as mping\n",
    "import matplotlib.animation as animation\n",
    "import time, datetime\n",
    "import sys\n",
    "import gc\n",
    "import os\n",
    "import tensorflow as tf\n",
    "import h5py\n",
    "from random import randint\n",
    "from sklearn.decomposition import PCA\n",
    "from sklearn.preprocessing import StandardScaler\n",
    "from sklearn import manifold, datasets\n",
    "from IPython.display import clear_output\n",
    "from tsnecuda import TSNE\n",
    "#import tsnecuda\n",
    "#tsnecuda.test()\n"
   ]
  },
  {
   "cell_type": "code",
   "execution_count": 2,
   "metadata": {
    "collapsed": false
   },
   "outputs": [
    {
     "name": "stdout",
     "output_type": "stream",
     "text": [
      "pyqt5\n"
     ]
    }
   ],
   "source": [
    "os.environ[\"QT_API\"] = \"pyqt5\"\n",
    "print(os.environ.get('QT_API'))\n"
   ]
  },
  {
   "cell_type": "code",
   "execution_count": 3,
   "metadata": {
    "collapsed": false
   },
   "outputs": [],
   "source": [
    "%matplotlib qt\n"
   ]
  },
  {
   "cell_type": "code",
   "execution_count": 4,
   "metadata": {
    "collapsed": false
   },
   "outputs": [
    {
     "name": "stdout",
     "output_type": "stream",
     "text": [
      "tensorflow version:  2.1.0\n",
      "Num GPUs Available:  1\n",
      "Num CPUs Available:  1\n",
      "tf.test.is_Built_With_cuda =  True\n",
      "WARNING:tensorflow:From <ipython-input-4-8ba2670e01b7>:8: is_gpu_available (from tensorflow.python.framework.test_util) is deprecated and will be removed in a future version.\n",
      "Instructions for updating:\n",
      "Use `tf.config.list_physical_devices('GPU')` instead.\n"
     ]
    },
    {
     "name": "stdout",
     "output_type": "stream",
     "text": [
      "tf.test.is_gpu_available =  True\n"
     ]
    }
   ],
   "source": [
    "#test tesnsorflow\n",
    "print(\"tensorflow version: \",tf.__version__)\n",
    "print(\"Num GPUs Available: \", len(tf.config.experimental.list_physical_devices('GPU')))\n",
    "print(\"Num CPUs Available: \", len(tf.config.experimental.list_physical_devices('CPU')))\n",
    "# Returns whether TensorFlow was built with CUDA (GPU) support.\n",
    "print(\"tf.test.is_Built_With_cuda = \",tf.test.is_built_with_cuda())\n",
    "# RetUrns whether TensorFlow can access a GPU. (deprecated)\n",
    "print(\"tf.test.is_gpu_available = \",tf.test.is_gpu_available(cuda_only=False, min_cuda_compute_capability=None))\n"
   ]
  },
  {
   "cell_type": "markdown",
   "metadata": {
    "collapsed": false
   },
   "source": [
    "# def function\n"
   ]
  },
  {
   "cell_type": "code",
   "execution_count": 5,
   "metadata": {
    "collapsed": false
   },
   "outputs": [],
   "source": [
    "def show_picture(img, figsizeX=6, figsizeY=4):\n",
    "    # plt.figure(figsize=(figsizeY, figsizeX))\n",
    "    plt.axis(\"off\")\n",
    "    # plt.imshow(img, plt.cm.gray, vmax=1.0)\n",
    "    plt.imshow(img, plt.cm.gray)\n"
   ]
  },
  {
   "cell_type": "markdown",
   "metadata": {
    "collapsed": false
   },
   "source": [
    "# Main program -------------->\n",
    "# build data path index\n"
   ]
  },
  {
   "cell_type": "code",
   "execution_count": 6,
   "metadata": {
    "collapsed": false
   },
   "outputs": [],
   "source": [
    "def build_data_path_index():\n",
    "    print(\"build data path index.....\")\n",
    "    ## read file path\n",
    "    # folder_path = 'H:/mushroom/VL/Mat/*'                                             # Tommy windows\n",
    "    # folder_path = '/media/tommy/本機磁碟1/mushroom/VL/Mat/*'                          # Tommy Linux\n",
    "    folder_path = '/home/shawn/DATA/Special_topic/Pleurotus_eryngii_complete/VL/Mat/*' # Shawn Linux\n",
    "    folder_path_list = sorted(glob.glob(folder_path))[1:] #excpet 20200507A\n",
    "    # print('\\n'.join(folder_path_list))\n",
    "    file_name_p = []\n",
    "    for path in folder_path_list: #folder_name_i = folder_name_index\n",
    "        file_name_p += sorted(glob.glob(path+'/*'))\n",
    "        # break\n",
    "\n",
    "    file_name = [[],[]]\n",
    "    # category string\n",
    "    # CS=37 #Tommy Windows\n",
    "    # CS=53 #Tommy Linux\n",
    "    CS=83 #Shawn Linux\n",
    "    for name in file_name_p:\n",
    "        if name[CS] == 'A': #change to your index\n",
    "            file_name[0].append(name)\n",
    "        elif name[CS] == 'B':\n",
    "            file_name[1].append(name)\n",
    "\n",
    "    print(\"build successful\")\n",
    "    return file_name, CS\n"
   ]
  },
  {
   "cell_type": "code",
   "execution_count": 7,
   "metadata": {
    "collapsed": false
   },
   "outputs": [
    {
     "name": "stdout",
     "output_type": "stream",
     "text": [
      "build data path index.....\n",
      "build successful\n",
      "\n",
      "Rank A of number is  55\n",
      "Rank B of number is  48\n",
      "total data number is  103\n"
     ]
    }
   ],
   "source": [
    "# file_name : file_name[0] -----> rank of A\n",
    "#             file_name[1] -----> rank of B\n",
    "file_name, CS = build_data_path_index()\n",
    "\n",
    "print()\n",
    "print(\"Rank A of number is \", len(file_name[0]))\n",
    "print(\"Rank B of number is \", len(file_name[1]))\n",
    "TFnum = len(file_name[0]) +len(file_name[1]) # Total file number\n",
    "print(\"total data number is \", TFnum)\n"
   ]
  },
  {
   "cell_type": "markdown",
   "metadata": {
    "collapsed": false
   },
   "source": [
    "# del data to picture to observe Placement method\n"
   ]
  },
  {
   "cell_type": "raw",
   "metadata": {
    "collapsed": false
   },
   "source": [
    "data = np.zeros((300,900,1000), dtype=np.float64)\n",
    "for i in range(len(file_name[0])):\n",
    "    print(\"i={}/{}\".format(i,len(file_name[0])))\n",
    "    temp = h5py.File(file_name[0][i], 'r').get('cube')\n",
    "    data = np.array(temp)\n",
    "    data = data[100]\n",
    "\n",
    "    cv2.imwrite('/home/shawn/DATA/Special_topic/Pleurotus_eryngii_complete/observe_picbure/'+file_name[i][CS-4:-4]+'.png', data*256)\n",
    "\n",
    "print(type(data))\n",
    "print(data.shape)\n"
   ]
  },
  {
   "cell_type": "markdown",
   "metadata": {
    "collapsed": false
   },
   "source": [
    "# define function of Process data\n"
   ]
  },
  {
   "cell_type": "code",
   "execution_count": 8,
   "metadata": {
    "collapsed": false
   },
   "outputs": [],
   "source": [
    "def select_U_value():\n",
    "    # select undesired or interfering signatures\n",
    "    U =               cube_arr[:,305,284]\n",
    "    U = np.vstack((U, cube_arr[:,680,440]))\n",
    "\n",
    "    U = np.transpose(U)\n",
    "    np.save('/home/shawn/DATA/Special_topic/program/Pleurotus_eryngii_complete/U_value.npy',U)\n",
    "    print(\"U.shpae = \", U.shape)\n",
    "\n",
    "def OSP_preprocess(data, select=70):\n",
    "    ## change data(band, y, x)to\n",
    "    ##        cube_arr([band][y*x])\n",
    "\n",
    "    ## $select how band will input to OSP\n",
    "\n",
    "    cube_arr = data[0]\n",
    "    cube_arr = cube_arr[np.newaxis,:]\n",
    "    (band, x, y) = data.shape\n",
    "    step = band/select\n",
    "    index = -1\n",
    "    for i in range(select):\n",
    "        index = index+step\n",
    "        # print(index)\n",
    "        cube_arr = np.concatenate((cube_arr, [data[round(index)]]), axis=0)\n",
    "\n",
    "    ## if youe need to reselect U_value uncomment it\n",
    "    # select_U_value(cube_arr)\n",
    "\n",
    "    (band, x, y) = cube_arr.shape\n",
    "    cube_arr = cube_arr.reshape(band, x*y)\n",
    "    return cube_arr\n",
    "\n",
    "\n",
    "def rho(arr):\n",
    "    sum=0\n",
    "    for i in arr:\n",
    "        sum += i**2\n",
    "    r = sum**0.5\n",
    "    return r\n",
    "def OSPfn(M, U):\n",
    "    (l, p) = M.shape\n",
    "    P_U = np.identity(l) - np.dot(U,np.linalg.pinv(U));\n",
    "    nu = np.zeros((p,1))\n",
    "    for i in range(p):\n",
    "        nu[i] = rho(P_U.dot(M[:,i]))\n",
    "    return nu\n",
    "\n",
    "def read_data(file_name, crop_x, crop_y, i, j):\n",
    "    temp = h5py.File(file_name[i][j], 'r').get('cube')\n",
    "    data = np.array(temp)\n",
    "    data = data[:, :crop_y, :crop_x]\n",
    "    return data\n",
    "\n",
    "def get_contours(file_name, osp_out, data, crop_x, crop_y, CS, i, j):\n",
    "\n",
    "    NumOPE = int(file_name[i][j][-6:-4]) - int(file_name[i][j][-9:-7]) +1 # number of Pleurotus eryngii in this cube\n",
    "    mask=(osp_out/np.max(osp_out))>0.4\n",
    "\n",
    "    KV = 9 # kernel Value\n",
    "    while(True): # prevent KV too low to let mask quantity higher or less then PE\n",
    "        # print(\"KV = \", KV)\n",
    "        blurred =cv2.medianBlur(np.float32(mask), 5)\n",
    "        kernel = np.ones((KV,KV),np.uint8)\n",
    "        blurred=cv2.morphologyEx(blurred, cv2.MORPH_OPEN, kernel)\n",
    "\n",
    "        blurred = np.array(blurred,np.uint8)\n",
    "        blurred=np.clip(blurred, 0, 255)\n",
    "        contours, _ = cv2.findContours(blurred, cv2.RETR_EXTERNAL, cv2.CHAIN_APPROX_NONE)\n",
    "        if(KV >= 35):\n",
    "            build_mask_and_save(data, contours, crop_x, crop_y, CS, i, j)\n",
    "            print('\\n\\t\\t\\t\\ti={},j={},KV={}, len(contours)={}, NumOPE={}'.format(i,j,KV, len(contours), NumOPE), end=\"\\t\\t\\t\\t\")\n",
    "            return 0\n",
    "            # raise UserWarning('i={},j={},KV={}, len(contours)={}, NumOPE={}'.format(i,j,KV, len(contours), NumOPE))\n",
    "        if(len(contours) != NumOPE): # prevent KV too low to let mask quantity higher or less then PE\n",
    "            KV += 2\n",
    "        else:\n",
    "            break\n",
    "    return contours\n",
    "\n",
    "def build_mask_and_save(data, contours, crop_x, crop_y, CS, i, j):\n",
    "\n",
    "    plt.clf()\n",
    "    plt.subplot(2,6,1)\n",
    "    plt.title(file_name[i][j][CS-4:])\n",
    "    show_picture(data[150])\n",
    "\n",
    "    for contours_i in range(len(contours)):\n",
    "        clone=np.zeros([crop_y,crop_x],dtype=np.int16)\n",
    "        clone=cv2.drawContours(clone, [contours[contours_i]], contourIdx=-1, color=(255,255,255), thickness=-1)\n",
    "        clone//=255\n",
    "\n",
    "        plt.subplot(2,6,contours_i+2)\n",
    "        plt.title(file_name[i][j][CS-4:-4]+\"_{:d}\".format(contours_i))\n",
    "        show_picture(clone)\n",
    "\n",
    "        (band, x, y) = data.shape\n",
    "\n",
    "        ## calculate mean of band for all PE and save it\n",
    "        spectral_vaule_arr = np.zeros(300)\n",
    "        for band_i in range(band):\n",
    "            spectral_vaule_arr[band_i] = np.sum(data[band_i]*clone)/np.count_nonzero(clone)\n",
    "        path = \"/home/shawn/DATA/Special_topic/Pleurotus_eryngii_complete/spectral_curve/\"+file_name[i][j][CS-4:-4]+\"_{:d}.npy\".format(contours_i)\n",
    "        np.save(path, spectral_vaule_arr)\n",
    "\n",
    "        plt.subplot(2,6,contours_i+8)\n",
    "        plt.title(file_name[i][j][CS-4:-4]+\"_{:d}\".format(contours_i))\n",
    "        plt.plot(np.arange(0,300,dtype=np.int16), spectral_vaule_arr)\n",
    "\n",
    "        plt.savefig('/home/shawn/DATA/Special_topic/Pleurotus_eryngii_complete/mask/{}.png'.format(file_name[i][j][CS-4:-4]))\n",
    "\n"
   ]
  },
  {
   "cell_type": "code",
   "execution_count": 9,
   "metadata": {
    "collapsed": false
   },
   "outputs": [],
   "source": [
    "def process_data(TFnum, file_name, CS, U, crop_x, crop_y, i, j, fault_count):\n",
    "    # U = np.load('/home/shawn/DATA/Special_topic/program/Pleurotus_eryngii_complete/U_value.npy')\n",
    "    # crop_x = 850\n",
    "    # crop_y = 820\n",
    "    # ST = datetime.datetime.now()\n",
    "    # print(\"processing.... Start time =\",ST.strftime(\"%H:%M:%S\"))\n",
    "\n",
    "    print(\"i={}/2 j={:2d}/{}\".format(i+1,j+1,len(file_name[i])),end=\"\\t\") # display progress rate\n",
    "    ST = datetime.datetime.now()\n",
    "\n",
    "    ### ========== read data ==========\n",
    "    print(\"read_{}\".format(file_name[i][j][CS-4:]),end=\"\\t\")\n",
    "    data = read_data(file_name, crop_x, crop_y, i, j)\n",
    "\n",
    "    ### ========== OSP data ==========\n",
    "    ## if you change value of select which in OSP_preprocess(), you must to reset U_value.npy manually\n",
    "    print(\"OSP\", end=\"\\t\")\n",
    "    cube_arr = OSP_preprocess(data)\n",
    "    osp_out = OSPfn(cube_arr, U).reshape((crop_y,crop_x))\n",
    "\n",
    "    ### ========== get contours ==========\n",
    "    print(\"get_contours\", end=\"\\t\")\n",
    "    contours = get_contours(file_name, osp_out, data, crop_x, crop_y, CS, i, j)\n",
    "\n",
    "    if contours==0:\n",
    "        fault_count += 1\n",
    "    else:\n",
    "        ### ========== build mask_and save ==========\n",
    "        print(\"build_mask_and_save\", end=\"\\t\")\n",
    "        build_mask_and_save(data, contours, crop_x, crop_y, CS, i, j)\n",
    "\n",
    "    ET = datetime.datetime.now()\n",
    "    print(\"ET:\",ET.strftime(\"%H:%M:%S\"),end='\\t')\n",
    "    print(\"Exec.:\",ET-ST, end='\\t')\n",
    "    print(\"ETC:\",(ST+(ET-ST)*(TFnum)).strftime(\"%H:%M:%S\"))\n",
    "    TFnum -=1\n",
    "    return fault_count, TFnum\n",
    "\n",
    "\n"
   ]
  },
  {
   "cell_type": "markdown",
   "metadata": {
    "collapsed": false
   },
   "source": [
    "# Process Data\n"
   ]
  },
  {
   "cell_type": "code",
   "execution_count": 10,
   "metadata": {
    "collapsed": false
   },
   "outputs": [],
   "source": [
    "# fullscreen fig manually\n",
    "plt.subplot(1,1,1)\n",
    "plt.show()\n"
   ]
  },
  {
   "cell_type": "code",
   "execution_count": 11,
   "metadata": {
    "collapsed": false
   },
   "outputs": [
    {
     "name": "stdout",
     "output_type": "stream",
     "text": [
      "processing.... Start time = 17:11:27\n",
      "i=1/2 j= 1/55\tread_0511A01_03.mat\t"
     ]
    },
    {
     "name": "stdout",
     "output_type": "stream",
     "text": [
      "OSP\t"
     ]
    },
    {
     "name": "stdout",
     "output_type": "stream",
     "text": [
      "get_contours\tbuild_mask_and_save\t"
     ]
    },
    {
     "name": "stdout",
     "output_type": "stream",
     "text": [
      "ET: 17:12:13\tExec.: 0:00:46.048597\tETC: 18:30:30\n",
      "i=1/2 j= 2/55\tread_0511A04_06.mat\t"
     ]
    },
    {
     "name": "stdout",
     "output_type": "stream",
     "text": [
      "OSP\t"
     ]
    },
    {
     "name": "stdout",
     "output_type": "stream",
     "text": [
      "get_contours\t"
     ]
    },
    {
     "name": "stdout",
     "output_type": "stream",
     "text": [
      "\n",
      "\t\t\t\ti=0,j=1,KV=35, len(contours)=4, NumOPE=3\t\t\t\tET: 17:13:04\tExec.: 0:00:51.205476\tETC: 18:39:16\n",
      "i=1/2 j= 3/55\tread_0511A07_08.mat\t"
     ]
    },
    {
     "name": "stdout",
     "output_type": "stream",
     "text": [
      "OSP\t"
     ]
    },
    {
     "name": "stdout",
     "output_type": "stream",
     "text": [
      "get_contours\t"
     ]
    },
    {
     "name": "stdout",
     "output_type": "stream",
     "text": [
      "\n",
      "\t\t\t\ti=0,j=2,KV=35, len(contours)=3, NumOPE=2\t\t\t\tET: 17:13:48\tExec.: 0:00:44.223328\tETC: 18:27:31\n",
      "i=1/2 j= 4/55\tread_0511A10_12.mat\t"
     ]
    },
    {
     "name": "stdout",
     "output_type": "stream",
     "text": [
      "OSP\t"
     ]
    },
    {
     "name": "stdout",
     "output_type": "stream",
     "text": [
      "get_contours\tbuild_mask_and_save\t"
     ]
    },
    {
     "name": "stdout",
     "output_type": "stream",
     "text": [
      "ET: 17:14:41\tExec.: 0:00:52.786229\tETC: 18:41:47\n",
      "i=1/2 j= 5/55\tread_0511A13_15.mat\t"
     ]
    },
    {
     "name": "stdout",
     "output_type": "stream",
     "text": [
      "OSP\t"
     ]
    },
    {
     "name": "stdout",
     "output_type": "stream",
     "text": [
      "get_contours\tbuild_mask_and_save\t"
     ]
    },
    {
     "name": "stdout",
     "output_type": "stream",
     "text": [
      "ET: 17:15:37\tExec.: 0:00:55.495883\tETC: 18:46:15\n",
      "i=1/2 j= 6/55\tread_0511A16_18.mat\t"
     ]
    },
    {
     "name": "stdout",
     "output_type": "stream",
     "text": [
      "OSP\t"
     ]
    },
    {
     "name": "stdout",
     "output_type": "stream",
     "text": [
      "get_contours\tbuild_mask_and_save\t"
     ]
    },
    {
     "name": "stdout",
     "output_type": "stream",
     "text": [
      "ET: 17:16:32\tExec.: 0:00:54.705933\tETC: 18:44:58\n",
      "i=1/2 j= 7/55\tread_0511A19_20.mat\t"
     ]
    },
    {
     "name": "stdout",
     "output_type": "stream",
     "text": [
      "OSP\t"
     ]
    },
    {
     "name": "stdout",
     "output_type": "stream",
     "text": [
      "get_contours\tbuild_mask_and_save\t"
     ]
    },
    {
     "name": "stdout",
     "output_type": "stream",
     "text": [
      "ET: 17:17:22\tExec.: 0:00:50.900281\tETC: 18:38:49\n",
      "i=1/2 j= 8/55\tread_0514A01_03.mat\t"
     ]
    },
    {
     "name": "stdout",
     "output_type": "stream",
     "text": [
      "OSP\t"
     ]
    },
    {
     "name": "stdout",
     "output_type": "stream",
     "text": [
      "get_contours\tbuild_mask_and_save\t"
     ]
    },
    {
     "name": "stdout",
     "output_type": "stream",
     "text": [
      "ET: 17:18:19\tExec.: 0:00:56.199924\tETC: 18:47:18\n",
      "i=1/2 j= 9/55\tread_0514A04_06.mat\t"
     ]
    },
    {
     "name": "stdout",
     "output_type": "stream",
     "text": [
      "OSP\t"
     ]
    },
    {
     "name": "stdout",
     "output_type": "stream",
     "text": [
      "get_contours\tbuild_mask_and_save\t"
     ]
    },
    {
     "name": "stdout",
     "output_type": "stream",
     "text": [
      "ET: 17:19:11\tExec.: 0:00:51.968335\tETC: 18:40:36\n",
      "i=1/2 j=10/55\tread_0514A07_09.mat\t"
     ]
    },
    {
     "name": "stdout",
     "output_type": "stream",
     "text": [
      "OSP\t"
     ]
    },
    {
     "name": "stdout",
     "output_type": "stream",
     "text": [
      "get_contours\tbuild_mask_and_save\t"
     ]
    },
    {
     "name": "stdout",
     "output_type": "stream",
     "text": [
      "ET: 17:20:08\tExec.: 0:00:57.014907\tETC: 18:48:30\n",
      "i=1/2 j=11/55\tread_0514A10_12.mat\t"
     ]
    },
    {
     "name": "stdout",
     "output_type": "stream",
     "text": [
      "OSP\t"
     ]
    },
    {
     "name": "stdout",
     "output_type": "stream",
     "text": [
      "get_contours\tbuild_mask_and_save\t"
     ]
    },
    {
     "name": "stdout",
     "output_type": "stream",
     "text": [
      "ET: 17:21:01\tExec.: 0:00:53.613904\tETC: 18:43:14\n",
      "i=1/2 j=12/55\tread_0514A13_15.mat\t"
     ]
    },
    {
     "name": "stdout",
     "output_type": "stream",
     "text": [
      "OSP\t"
     ]
    },
    {
     "name": "stdout",
     "output_type": "stream",
     "text": [
      "get_contours\tbuild_mask_and_save\t"
     ]
    },
    {
     "name": "stdout",
     "output_type": "stream",
     "text": [
      "ET: 17:21:55\tExec.: 0:00:53.167347\tETC: 18:42:33\n",
      "i=1/2 j=13/55\tread_0514A16_18.mat\t"
     ]
    },
    {
     "name": "stdout",
     "output_type": "stream",
     "text": [
      "OSP\t"
     ]
    },
    {
     "name": "stdout",
     "output_type": "stream",
     "text": [
      "get_contours\tbuild_mask_and_save\t"
     ]
    },
    {
     "name": "stdout",
     "output_type": "stream",
     "text": [
      "ET: 17:22:47\tExec.: 0:00:52.151030\tETC: 18:41:00\n",
      "i=1/2 j=14/55\tread_0516A01_03.mat\t"
     ]
    },
    {
     "name": "stdout",
     "output_type": "stream",
     "text": [
      "OSP\t"
     ]
    },
    {
     "name": "stdout",
     "output_type": "stream",
     "text": [
      "get_contours\tbuild_mask_and_save\t"
     ]
    },
    {
     "name": "stdout",
     "output_type": "stream",
     "text": [
      "ET: 17:23:43\tExec.: 0:00:56.393287\tETC: 18:47:22\n",
      "i=1/2 j=15/55\tread_0516A04_06.mat\t"
     ]
    },
    {
     "name": "stdout",
     "output_type": "stream",
     "text": [
      "OSP\t"
     ]
    },
    {
     "name": "stdout",
     "output_type": "stream",
     "text": [
      "get_contours\tbuild_mask_and_save\t"
     ]
    },
    {
     "name": "stdout",
     "output_type": "stream",
     "text": [
      "ET: 17:24:42\tExec.: 0:00:58.687777\tETC: 18:50:46\n",
      "i=1/2 j=16/55\tread_0516A07_09.mat\t"
     ]
    },
    {
     "name": "stdout",
     "output_type": "stream",
     "text": [
      "OSP\t"
     ]
    },
    {
     "name": "stdout",
     "output_type": "stream",
     "text": [
      "get_contours\tbuild_mask_and_save\t"
     ]
    },
    {
     "name": "stdout",
     "output_type": "stream",
     "text": [
      "ET: 17:25:35\tExec.: 0:00:53.396540\tETC: 18:43:01\n",
      "i=1/2 j=17/55\tread_0516A10_12.mat\t"
     ]
    },
    {
     "name": "stdout",
     "output_type": "stream",
     "text": [
      "OSP\t"
     ]
    },
    {
     "name": "stdout",
     "output_type": "stream",
     "text": [
      "get_contours\tbuild_mask_and_save\t"
     ]
    },
    {
     "name": "stdout",
     "output_type": "stream",
     "text": [
      "ET: 17:26:31\tExec.: 0:00:55.487666\tETC: 18:46:03\n",
      "i=1/2 j=18/55\tread_0516A13_15.mat\t"
     ]
    },
    {
     "name": "stdout",
     "output_type": "stream",
     "text": [
      "OSP\t"
     ]
    },
    {
     "name": "stdout",
     "output_type": "stream",
     "text": [
      "get_contours\tbuild_mask_and_save\t"
     ]
    },
    {
     "name": "stdout",
     "output_type": "stream",
     "text": [
      "ET: 17:27:40\tExec.: 0:01:08.794830\tETC: 19:05:07\n",
      "i=1/2 j=19/55\tread_0516A16_18.mat\t"
     ]
    },
    {
     "name": "stdout",
     "output_type": "stream",
     "text": [
      "OSP\t"
     ]
    },
    {
     "name": "stdout",
     "output_type": "stream",
     "text": [
      "get_contours\tbuild_mask_and_save\t"
     ]
    },
    {
     "name": "stdout",
     "output_type": "stream",
     "text": [
      "ET: 17:28:39\tExec.: 0:00:59.540312\tETC: 18:52:01\n",
      "i=1/2 j=20/55\tread_0516A19_20.mat\t"
     ]
    },
    {
     "name": "stdout",
     "output_type": "stream",
     "text": [
      "OSP\t"
     ]
    },
    {
     "name": "stdout",
     "output_type": "stream",
     "text": [
      "get_contours\tbuild_mask_and_save\t"
     ]
    },
    {
     "name": "stdout",
     "output_type": "stream",
     "text": [
      "ET: 17:29:31\tExec.: 0:00:51.592572\tETC: 18:40:53\n",
      "i=1/2 j=21/55\tread_0521A01_03.mat\t"
     ]
    },
    {
     "name": "stdout",
     "output_type": "stream",
     "text": [
      "OSP\t"
     ]
    },
    {
     "name": "stdout",
     "output_type": "stream",
     "text": [
      "get_contours\tbuild_mask_and_save\t"
     ]
    },
    {
     "name": "stdout",
     "output_type": "stream",
     "text": [
      "ET: 17:30:26\tExec.: 0:00:55.094848\tETC: 18:45:44\n",
      "i=1/2 j=22/55\tread_0521A04_06.mat\t"
     ]
    },
    {
     "name": "stdout",
     "output_type": "stream",
     "text": [
      "OSP\t"
     ]
    },
    {
     "name": "stdout",
     "output_type": "stream",
     "text": [
      "get_contours\tbuild_mask_and_save\t"
     ]
    },
    {
     "name": "stdout",
     "output_type": "stream",
     "text": [
      "ET: 17:31:24\tExec.: 0:00:57.694008\tETC: 18:49:17\n",
      "i=1/2 j=23/55\tread_0521A07_09.mat\t"
     ]
    },
    {
     "name": "stdout",
     "output_type": "stream",
     "text": [
      "OSP\t"
     ]
    },
    {
     "name": "stdout",
     "output_type": "stream",
     "text": [
      "get_contours\tbuild_mask_and_save\t"
     ]
    },
    {
     "name": "stdout",
     "output_type": "stream",
     "text": [
      "ET: 17:32:24\tExec.: 0:00:59.886328\tETC: 18:52:15\n",
      "i=1/2 j=24/55\tread_0521A10_12.mat\t"
     ]
    },
    {
     "name": "stdout",
     "output_type": "stream",
     "text": [
      "OSP\t"
     ]
    },
    {
     "name": "stdout",
     "output_type": "stream",
     "text": [
      "get_contours\t"
     ]
    },
    {
     "name": "stdout",
     "output_type": "stream",
     "text": [
      "\n",
      "\t\t\t\ti=0,j=23,KV=35, len(contours)=4, NumOPE=3\t\t\t\tET: 17:33:31\tExec.: 0:01:06.857500\tETC: 19:01:32\n",
      "i=1/2 j=25/55\tread_0521A13_15.mat\t"
     ]
    },
    {
     "name": "stdout",
     "output_type": "stream",
     "text": [
      "OSP\t"
     ]
    },
    {
     "name": "stdout",
     "output_type": "stream",
     "text": [
      "get_contours\tbuild_mask_and_save\t"
     ]
    },
    {
     "name": "stdout",
     "output_type": "stream",
     "text": [
      "ET: 17:34:28\tExec.: 0:00:57.502548\tETC: 18:49:13\n",
      "i=1/2 j=26/55\tread_0521A16_18.mat\t"
     ]
    },
    {
     "name": "stdout",
     "output_type": "stream",
     "text": [
      "OSP\t"
     ]
    },
    {
     "name": "stdout",
     "output_type": "stream",
     "text": [
      "get_contours\tbuild_mask_and_save\t"
     ]
    },
    {
     "name": "stdout",
     "output_type": "stream",
     "text": [
      "ET: 17:35:25\tExec.: 0:00:56.648789\tETC: 18:48:07\n",
      "i=1/2 j=27/55\tread_0521A19_20.mat\t"
     ]
    },
    {
     "name": "stdout",
     "output_type": "stream",
     "text": [
      "OSP\t"
     ]
    },
    {
     "name": "stdout",
     "output_type": "stream",
     "text": [
      "get_contours\t"
     ]
    },
    {
     "name": "stdout",
     "output_type": "stream",
     "text": [
      "\n",
      "\t\t\t\ti=0,j=26,KV=35, len(contours)=3, NumOPE=2\t\t\t\tET: 17:36:24\tExec.: 0:00:59.046573\tETC: 18:51:12\n",
      "i=1/2 j=28/55\tread_0523A01_03.mat\t"
     ]
    },
    {
     "name": "stdout",
     "output_type": "stream",
     "text": [
      "OSP\t"
     ]
    },
    {
     "name": "stdout",
     "output_type": "stream",
     "text": [
      "get_contours\tbuild_mask_and_save\t"
     ]
    },
    {
     "name": "stdout",
     "output_type": "stream",
     "text": [
      "ET: 17:37:22\tExec.: 0:00:58.010523\tETC: 18:49:53\n",
      "i=1/2 j=29/55\tread_0523A04_06.mat\t"
     ]
    },
    {
     "name": "stdout",
     "output_type": "stream",
     "text": [
      "OSP\t"
     ]
    },
    {
     "name": "stdout",
     "output_type": "stream",
     "text": [
      "get_contours\t"
     ]
    },
    {
     "name": "stdout",
     "output_type": "stream",
     "text": [
      "\n",
      "\t\t\t\ti=0,j=28,KV=35, len(contours)=5, NumOPE=3\t\t\t\tET: 17:38:22\tExec.: 0:01:00.179987\tETC: 18:52:36\n",
      "i=1/2 j=30/55\tread_0523A07_09.mat\t"
     ]
    },
    {
     "name": "stdout",
     "output_type": "stream",
     "text": [
      "OSP\t"
     ]
    },
    {
     "name": "stdout",
     "output_type": "stream",
     "text": [
      "get_contours\tbuild_mask_and_save\t"
     ]
    },
    {
     "name": "stdout",
     "output_type": "stream",
     "text": [
      "ET: 17:39:20\tExec.: 0:00:57.847766\tETC: 18:49:43\n",
      "i=1/2 j=31/55\tread_0523A10_12.mat\t"
     ]
    },
    {
     "name": "stdout",
     "output_type": "stream",
     "text": [
      "OSP\t"
     ]
    },
    {
     "name": "stdout",
     "output_type": "stream",
     "text": [
      "get_contours\tbuild_mask_and_save\t"
     ]
    },
    {
     "name": "stdout",
     "output_type": "stream",
     "text": [
      "ET: 17:40:15\tExec.: 0:00:54.953386\tETC: 18:46:12\n",
      "i=1/2 j=32/55\tread_0523A13_15.mat\t"
     ]
    },
    {
     "name": "stdout",
     "output_type": "stream",
     "text": [
      "OSP\t"
     ]
    },
    {
     "name": "stdout",
     "output_type": "stream",
     "text": [
      "get_contours\tbuild_mask_and_save\t"
     ]
    },
    {
     "name": "stdout",
     "output_type": "stream",
     "text": [
      "ET: 17:41:14\tExec.: 0:00:59.230218\tETC: 18:51:20\n",
      "i=1/2 j=33/55\tread_0523A16_18.mat\t"
     ]
    },
    {
     "name": "stdout",
     "output_type": "stream",
     "text": [
      "OSP\t"
     ]
    },
    {
     "name": "stdout",
     "output_type": "stream",
     "text": [
      "get_contours\tbuild_mask_and_save\t"
     ]
    },
    {
     "name": "stdout",
     "output_type": "stream",
     "text": [
      "ET: 17:42:09\tExec.: 0:00:54.814307\tETC: 18:46:06\n",
      "i=1/2 j=34/55\tread_0523A19_20.mat\t"
     ]
    },
    {
     "name": "stdout",
     "output_type": "stream",
     "text": [
      "OSP\t"
     ]
    },
    {
     "name": "stdout",
     "output_type": "stream",
     "text": [
      "get_contours\tbuild_mask_and_save\t"
     ]
    },
    {
     "name": "stdout",
     "output_type": "stream",
     "text": [
      "ET: 17:43:03\tExec.: 0:00:53.600123\tETC: 18:44:41\n",
      "i=1/2 j=35/55\tread_0528A010_12.mat\t"
     ]
    },
    {
     "name": "stdout",
     "output_type": "stream",
     "text": [
      "OSP\t"
     ]
    },
    {
     "name": "stdout",
     "output_type": "stream",
     "text": [
      "get_contours\tbuild_mask_and_save\t"
     ]
    },
    {
     "name": "stdout",
     "output_type": "stream",
     "text": [
      "ET: 17:44:53\tExec.: 0:01:49.594410\tETC: 19:49:05\n",
      "i=1/2 j=36/55\tread_0528A013_15.mat\t"
     ]
    },
    {
     "name": "stdout",
     "output_type": "stream",
     "text": [
      "OSP\t"
     ]
    },
    {
     "name": "stdout",
     "output_type": "stream",
     "text": [
      "get_contours\tbuild_mask_and_save\t"
     ]
    },
    {
     "name": "stdout",
     "output_type": "stream",
     "text": [
      "ET: 17:45:53\tExec.: 0:00:59.966266\tETC: 18:52:50\n",
      "i=1/2 j=37/55\tread_0528A016_18.mat\t"
     ]
    },
    {
     "name": "stdout",
     "output_type": "stream",
     "text": [
      "OSP\t"
     ]
    },
    {
     "name": "stdout",
     "output_type": "stream",
     "text": [
      "get_contours\tbuild_mask_and_save\t"
     ]
    },
    {
     "name": "stdout",
     "output_type": "stream",
     "text": [
      "ET: 17:46:47\tExec.: 0:00:54.483799\tETC: 18:46:43\n",
      "i=1/2 j=38/55\tread_0528A019_20.mat\t"
     ]
    },
    {
     "name": "stdout",
     "output_type": "stream",
     "text": [
      "OSP\t"
     ]
    },
    {
     "name": "stdout",
     "output_type": "stream",
     "text": [
      "get_contours\tbuild_mask_and_save\t"
     ]
    },
    {
     "name": "stdout",
     "output_type": "stream",
     "text": [
      "ET: 17:47:46\tExec.: 0:00:58.771272\tETC: 18:51:26\n",
      "i=1/2 j=39/55\tread_0528A01_03.mat\t"
     ]
    },
    {
     "name": "stdout",
     "output_type": "stream",
     "text": [
      "OSP\t"
     ]
    },
    {
     "name": "stdout",
     "output_type": "stream",
     "text": [
      "get_contours\tbuild_mask_and_save\t"
     ]
    },
    {
     "name": "stdout",
     "output_type": "stream",
     "text": [
      "ET: 17:48:46\tExec.: 0:00:59.931981\tETC: 18:52:41\n",
      "i=1/2 j=40/55\tread_0528A04_06.mat\t"
     ]
    },
    {
     "name": "stdout",
     "output_type": "stream",
     "text": [
      "OSP\t"
     ]
    },
    {
     "name": "stdout",
     "output_type": "stream",
     "text": [
      "get_contours\tbuild_mask_and_save\t"
     ]
    },
    {
     "name": "stdout",
     "output_type": "stream",
     "text": [
      "ET: 17:49:42\tExec.: 0:00:55.653956\tETC: 18:48:08\n",
      "i=1/2 j=41/55\tread_0528A07_09.mat\t"
     ]
    },
    {
     "name": "stdout",
     "output_type": "stream",
     "text": [
      "OSP\t"
     ]
    },
    {
     "name": "stdout",
     "output_type": "stream",
     "text": [
      "get_contours\tbuild_mask_and_save\t"
     ]
    },
    {
     "name": "stdout",
     "output_type": "stream",
     "text": [
      "ET: 17:50:38\tExec.: 0:00:55.968972\tETC: 18:48:28\n",
      "i=1/2 j=42/55\tread_0530A01_03.mat\t"
     ]
    },
    {
     "name": "stdout",
     "output_type": "stream",
     "text": [
      "OSP\t"
     ]
    },
    {
     "name": "stdout",
     "output_type": "stream",
     "text": [
      "get_contours\tbuild_mask_and_save\t"
     ]
    },
    {
     "name": "stdout",
     "output_type": "stream",
     "text": [
      "ET: 17:51:38\tExec.: 0:01:00.567920\tETC: 18:53:13\n",
      "i=1/2 j=43/55\tread_0530A04_06.mat\t"
     ]
    },
    {
     "name": "stdout",
     "output_type": "stream",
     "text": [
      "OSP\t"
     ]
    },
    {
     "name": "stdout",
     "output_type": "stream",
     "text": [
      "get_contours\tbuild_mask_and_save\t"
     ]
    },
    {
     "name": "stdout",
     "output_type": "stream",
     "text": [
      "ET: 17:52:35\tExec.: 0:00:56.692754\tETC: 18:49:16\n",
      "i=1/2 j=44/55\tread_0530A07_09.mat\t"
     ]
    },
    {
     "name": "stdout",
     "output_type": "stream",
     "text": [
      "OSP\t"
     ]
    },
    {
     "name": "stdout",
     "output_type": "stream",
     "text": [
      "get_contours\tbuild_mask_and_save\t"
     ]
    },
    {
     "name": "stdout",
     "output_type": "stream",
     "text": [
      "ET: 17:53:31\tExec.: 0:00:56.486148\tETC: 18:49:04\n",
      "i=1/2 j=45/55\tread_0530A10_12.mat\t"
     ]
    },
    {
     "name": "stdout",
     "output_type": "stream",
     "text": [
      "OSP\t"
     ]
    },
    {
     "name": "stdout",
     "output_type": "stream",
     "text": [
      "get_contours\tbuild_mask_and_save\t"
     ]
    },
    {
     "name": "stdout",
     "output_type": "stream",
     "text": [
      "ET: 17:54:33\tExec.: 0:01:01.271839\tETC: 18:53:46\n",
      "i=1/2 j=46/55\tread_0530A13_15.mat\t"
     ]
    },
    {
     "name": "stdout",
     "output_type": "stream",
     "text": [
      "OSP\t"
     ]
    },
    {
     "name": "stdout",
     "output_type": "stream",
     "text": [
      "get_contours\tbuild_mask_and_save\t"
     ]
    },
    {
     "name": "stdout",
     "output_type": "stream",
     "text": [
      "ET: 17:55:34\tExec.: 0:01:00.949150\tETC: 18:53:28\n",
      "i=1/2 j=47/55\tread_0530A16_18.mat\t"
     ]
    },
    {
     "name": "stdout",
     "output_type": "stream",
     "text": [
      "OSP\t"
     ]
    },
    {
     "name": "stdout",
     "output_type": "stream",
     "text": [
      "get_contours\tbuild_mask_and_save\t"
     ]
    },
    {
     "name": "stdout",
     "output_type": "stream",
     "text": [
      "ET: 17:56:31\tExec.: 0:00:57.176079\tETC: 18:49:53\n",
      "i=1/2 j=48/55\tread_0530A19_20.mat\t"
     ]
    },
    {
     "name": "stdout",
     "output_type": "stream",
     "text": [
      "OSP\t"
     ]
    },
    {
     "name": "stdout",
     "output_type": "stream",
     "text": [
      "get_contours\tbuild_mask_and_save\t"
     ]
    },
    {
     "name": "stdout",
     "output_type": "stream",
     "text": [
      "ET: 17:57:30\tExec.: 0:00:59.015386\tETC: 18:51:36\n",
      "i=1/2 j=49/55\tread_0601A01_03.mat\t"
     ]
    },
    {
     "name": "stdout",
     "output_type": "stream",
     "text": [
      "OSP\t"
     ]
    },
    {
     "name": "stdout",
     "output_type": "stream",
     "text": [
      "get_contours\tbuild_mask_and_save\t"
     ]
    },
    {
     "name": "stdout",
     "output_type": "stream",
     "text": [
      "ET: 17:58:32\tExec.: 0:01:01.569856\tETC: 18:53:56\n",
      "i=1/2 j=50/55\tread_0601A04_06.mat\t"
     ]
    },
    {
     "name": "stdout",
     "output_type": "stream",
     "text": [
      "OSP\t"
     ]
    },
    {
     "name": "stdout",
     "output_type": "stream",
     "text": [
      "get_contours\tbuild_mask_and_save\t"
     ]
    },
    {
     "name": "stdout",
     "output_type": "stream",
     "text": [
      "ET: 17:59:33\tExec.: 0:01:00.882370\tETC: 18:53:19\n",
      "i=1/2 j=51/55\tread_0601A07_09.mat\t"
     ]
    },
    {
     "name": "stdout",
     "output_type": "stream",
     "text": [
      "OSP\t"
     ]
    },
    {
     "name": "stdout",
     "output_type": "stream",
     "text": [
      "get_contours\tbuild_mask_and_save\t"
     ]
    },
    {
     "name": "stdout",
     "output_type": "stream",
     "text": [
      "ET: 18:00:31\tExec.: 0:00:58.220723\tETC: 18:50:58\n",
      "i=1/2 j=52/55\tread_0601A10_12.mat\t"
     ]
    },
    {
     "name": "stdout",
     "output_type": "stream",
     "text": [
      "OSP\t"
     ]
    },
    {
     "name": "stdout",
     "output_type": "stream",
     "text": [
      "get_contours\tbuild_mask_and_save\t"
     ]
    },
    {
     "name": "stdout",
     "output_type": "stream",
     "text": [
      "ET: 18:01:30\tExec.: 0:00:59.337546\tETC: 18:51:56\n",
      "i=1/2 j=53/55\tread_0601A13_15.mat\t"
     ]
    },
    {
     "name": "stdout",
     "output_type": "stream",
     "text": [
      "OSP\t"
     ]
    },
    {
     "name": "stdout",
     "output_type": "stream",
     "text": [
      "get_contours\tbuild_mask_and_save\t"
     ]
    },
    {
     "name": "stdout",
     "output_type": "stream",
     "text": [
      "ET: 18:02:33\tExec.: 0:01:02.267183\tETC: 18:54:26\n",
      "i=1/2 j=54/55\tread_0601A16_18.mat\t"
     ]
    },
    {
     "name": "stdout",
     "output_type": "stream",
     "text": [
      "OSP\t"
     ]
    },
    {
     "name": "stdout",
     "output_type": "stream",
     "text": [
      "get_contours\tbuild_mask_and_save\t"
     ]
    },
    {
     "name": "stdout",
     "output_type": "stream",
     "text": [
      "ET: 18:03:31\tExec.: 0:00:58.104909\tETC: 18:50:58\n",
      "i=1/2 j=55/55\tread_0601A19_20.mat\t"
     ]
    },
    {
     "name": "stdout",
     "output_type": "stream",
     "text": [
      "OSP\t"
     ]
    },
    {
     "name": "stdout",
     "output_type": "stream",
     "text": [
      "get_contours\tbuild_mask_and_save\t"
     ]
    },
    {
     "name": "stdout",
     "output_type": "stream",
     "text": [
      "ET: 18:04:32\tExec.: 0:01:01.201317\tETC: 18:53:30\n",
      "i=2/2 j= 1/48\tread_0511B01_03.mat\t"
     ]
    },
    {
     "name": "stdout",
     "output_type": "stream",
     "text": [
      "OSP\t"
     ]
    },
    {
     "name": "stdout",
     "output_type": "stream",
     "text": [
      "get_contours\tbuild_mask_and_save\t"
     ]
    },
    {
     "name": "stdout",
     "output_type": "stream",
     "text": [
      "ET: 18:05:28\tExec.: 0:00:56.414988\tETC: 18:49:40\n",
      "i=2/2 j= 2/48\tread_0511B04_06.mat\t"
     ]
    },
    {
     "name": "stdout",
     "output_type": "stream",
     "text": [
      "OSP\t"
     ]
    },
    {
     "name": "stdout",
     "output_type": "stream",
     "text": [
      "get_contours\tbuild_mask_and_save\t"
     ]
    },
    {
     "name": "stdout",
     "output_type": "stream",
     "text": [
      "ET: 18:06:23\tExec.: 0:00:54.151741\tETC: 18:47:54\n",
      "i=2/2 j= 3/48\tread_0511B07_09.mat\t"
     ]
    },
    {
     "name": "stdout",
     "output_type": "stream",
     "text": [
      "OSP\t"
     ]
    },
    {
     "name": "stdout",
     "output_type": "stream",
     "text": [
      "get_contours\tbuild_mask_and_save\t"
     ]
    },
    {
     "name": "stdout",
     "output_type": "stream",
     "text": [
      "ET: 18:07:15\tExec.: 0:00:52.090892\tETC: 18:46:19\n",
      "i=2/2 j= 4/48\tread_0511B10_12.mat\t"
     ]
    },
    {
     "name": "stdout",
     "output_type": "stream",
     "text": [
      "OSP\t"
     ]
    },
    {
     "name": "stdout",
     "output_type": "stream",
     "text": [
      "get_contours\tbuild_mask_and_save\t"
     ]
    },
    {
     "name": "stdout",
     "output_type": "stream",
     "text": [
      "ET: 18:08:11\tExec.: 0:00:56.350238\tETC: 18:49:31\n",
      "i=2/2 j= 5/48\tread_0511B13_15.mat\t"
     ]
    },
    {
     "name": "stdout",
     "output_type": "stream",
     "text": [
      "OSP\t"
     ]
    },
    {
     "name": "stdout",
     "output_type": "stream",
     "text": [
      "get_contours\tbuild_mask_and_save\t"
     ]
    },
    {
     "name": "stdout",
     "output_type": "stream",
     "text": [
      "ET: 18:09:07\tExec.: 0:00:55.429060\tETC: 18:48:50\n",
      "i=2/2 j= 6/48\tread_0511B19_20.mat\t"
     ]
    },
    {
     "name": "stdout",
     "output_type": "stream",
     "text": [
      "OSP\t"
     ]
    },
    {
     "name": "stdout",
     "output_type": "stream",
     "text": [
      "get_contours\tbuild_mask_and_save\t"
     ]
    },
    {
     "name": "stdout",
     "output_type": "stream",
     "text": [
      "ET: 18:10:01\tExec.: 0:00:54.405419\tETC: 18:48:06\n",
      "i=2/2 j= 7/48\tread_0516B01_03.mat\t"
     ]
    },
    {
     "name": "stdout",
     "output_type": "stream",
     "text": [
      "OSP\t"
     ]
    },
    {
     "name": "stdout",
     "output_type": "stream",
     "text": [
      "get_contours\tbuild_mask_and_save\t"
     ]
    },
    {
     "name": "stdout",
     "output_type": "stream",
     "text": [
      "ET: 18:10:58\tExec.: 0:00:56.953318\tETC: 18:49:53\n",
      "i=2/2 j= 8/48\tread_0516B04_06.mat\t"
     ]
    },
    {
     "name": "stdout",
     "output_type": "stream",
     "text": [
      "OSP\t"
     ]
    },
    {
     "name": "stdout",
     "output_type": "stream",
     "text": [
      "get_contours\t"
     ]
    },
    {
     "name": "stdout",
     "output_type": "stream",
     "text": [
      "\n",
      "\t\t\t\ti=1,j=7,KV=35, len(contours)=3, NumOPE=3\t\t\t\tET: 18:11:56\tExec.: 0:00:57.861075\tETC: 18:50:30\n",
      "i=2/2 j= 9/48\tread_0516B07_09.mat\t"
     ]
    },
    {
     "name": "stdout",
     "output_type": "stream",
     "text": [
      "OSP\t"
     ]
    },
    {
     "name": "stdout",
     "output_type": "stream",
     "text": [
      "get_contours\tbuild_mask_and_save\t"
     ]
    },
    {
     "name": "stdout",
     "output_type": "stream",
     "text": [
      "ET: 18:12:54\tExec.: 0:00:57.886874\tETC: 18:50:31\n",
      "i=2/2 j=10/48\tread_0516B10_12.mat\t"
     ]
    },
    {
     "name": "stdout",
     "output_type": "stream",
     "text": [
      "OSP\t"
     ]
    },
    {
     "name": "stdout",
     "output_type": "stream",
     "text": [
      "get_contours\tbuild_mask_and_save\t"
     ]
    },
    {
     "name": "stdout",
     "output_type": "stream",
     "text": [
      "ET: 18:13:51\tExec.: 0:00:57.309759\tETC: 18:50:09\n",
      "i=2/2 j=11/48\tread_0516B13_15.mat\t"
     ]
    },
    {
     "name": "stdout",
     "output_type": "stream",
     "text": [
      "OSP\t"
     ]
    },
    {
     "name": "stdout",
     "output_type": "stream",
     "text": [
      "get_contours\tbuild_mask_and_save\t"
     ]
    },
    {
     "name": "stdout",
     "output_type": "stream",
     "text": [
      "ET: 18:14:52\tExec.: 0:01:00.555138\tETC: 18:52:12\n",
      "i=2/2 j=12/48\tread_0516B16_18.mat\t"
     ]
    },
    {
     "name": "stdout",
     "output_type": "stream",
     "text": [
      "OSP\t"
     ]
    },
    {
     "name": "stdout",
     "output_type": "stream",
     "text": [
      "get_contours\t"
     ]
    },
    {
     "name": "stdout",
     "output_type": "stream",
     "text": [
      "\n",
      "\t\t\t\ti=1,j=11,KV=35, len(contours)=4, NumOPE=3\t\t\t\tET: 18:15:50\tExec.: 0:00:58.470263\tETC: 18:50:55\n",
      "i=2/2 j=13/48\tread_0516B19_21.mat\t"
     ]
    },
    {
     "name": "stdout",
     "output_type": "stream",
     "text": [
      "OSP\t"
     ]
    },
    {
     "name": "stdout",
     "output_type": "stream",
     "text": [
      "get_contours\tbuild_mask_and_save\t"
     ]
    },
    {
     "name": "stdout",
     "output_type": "stream",
     "text": [
      "ET: 18:16:45\tExec.: 0:00:54.427326\tETC: 18:48:30\n",
      "i=2/2 j=14/48\tread_0521B01_03.mat\t"
     ]
    },
    {
     "name": "stdout",
     "output_type": "stream",
     "text": [
      "OSP\t"
     ]
    },
    {
     "name": "stdout",
     "output_type": "stream",
     "text": [
      "get_contours\tbuild_mask_and_save\t"
     ]
    },
    {
     "name": "stdout",
     "output_type": "stream",
     "text": [
      "ET: 18:17:44\tExec.: 0:00:59.509960\tETC: 18:51:28\n",
      "i=2/2 j=15/48\tread_0521B04_06.mat\t"
     ]
    },
    {
     "name": "stdout",
     "output_type": "stream",
     "text": [
      "OSP\t"
     ]
    },
    {
     "name": "stdout",
     "output_type": "stream",
     "text": [
      "get_contours\tbuild_mask_and_save\t"
     ]
    },
    {
     "name": "stdout",
     "output_type": "stream",
     "text": [
      "ET: 18:18:47\tExec.: 0:01:02.123042\tETC: 18:52:57\n",
      "i=2/2 j=16/48\tread_0521B07_09.mat\t"
     ]
    },
    {
     "name": "stdout",
     "output_type": "stream",
     "text": [
      "OSP\t"
     ]
    },
    {
     "name": "stdout",
     "output_type": "stream",
     "text": [
      "get_contours\tbuild_mask_and_save\t"
     ]
    },
    {
     "name": "stdout",
     "output_type": "stream",
     "text": [
      "ET: 18:19:44\tExec.: 0:00:57.593368\tETC: 18:50:27\n",
      "i=2/2 j=17/48\tread_0521B10_12.mat\t"
     ]
    },
    {
     "name": "stdout",
     "output_type": "stream",
     "text": [
      "OSP\t"
     ]
    },
    {
     "name": "stdout",
     "output_type": "stream",
     "text": [
      "get_contours\tbuild_mask_and_save\t"
     ]
    },
    {
     "name": "stdout",
     "output_type": "stream",
     "text": [
      "ET: 18:20:42\tExec.: 0:00:57.529071\tETC: 18:50:25\n",
      "i=2/2 j=18/48\tread_0521B13_15.mat\t"
     ]
    },
    {
     "name": "stdout",
     "output_type": "stream",
     "text": [
      "OSP\t"
     ]
    },
    {
     "name": "stdout",
     "output_type": "stream",
     "text": [
      "get_contours\tbuild_mask_and_save\t"
     ]
    },
    {
     "name": "stdout",
     "output_type": "stream",
     "text": [
      "ET: 18:21:37\tExec.: 0:00:54.966086\tETC: 18:49:06\n",
      "i=2/2 j=19/48\tread_0521B16_18.mat\t"
     ]
    },
    {
     "name": "stdout",
     "output_type": "stream",
     "text": [
      "OSP\t"
     ]
    },
    {
     "name": "stdout",
     "output_type": "stream",
     "text": [
      "get_contours\tbuild_mask_and_save\t"
     ]
    },
    {
     "name": "stdout",
     "output_type": "stream",
     "text": [
      "ET: 18:22:30\tExec.: 0:00:53.389010\tETC: 18:48:19\n",
      "i=2/2 j=20/48\tread_0521B19_20.mat\t"
     ]
    },
    {
     "name": "stdout",
     "output_type": "stream",
     "text": [
      "OSP\t"
     ]
    },
    {
     "name": "stdout",
     "output_type": "stream",
     "text": [
      "get_contours\tbuild_mask_and_save\t"
     ]
    },
    {
     "name": "stdout",
     "output_type": "stream",
     "text": [
      "ET: 18:23:24\tExec.: 0:00:53.300315\tETC: 18:48:16\n",
      "i=2/2 j=21/48\tread_0523B01_03.mat\t"
     ]
    },
    {
     "name": "stdout",
     "output_type": "stream",
     "text": [
      "OSP\t"
     ]
    },
    {
     "name": "stdout",
     "output_type": "stream",
     "text": [
      "get_contours\t"
     ]
    },
    {
     "name": "stdout",
     "output_type": "stream",
     "text": [
      "\n",
      "\t\t\t\ti=1,j=20,KV=35, len(contours)=5, NumOPE=3\t\t\t\tET: 18:24:21\tExec.: 0:00:57.435215\tETC: 18:50:12\n",
      "i=2/2 j=22/48\tread_0523B04_06.mat\t"
     ]
    },
    {
     "name": "stdout",
     "output_type": "stream",
     "text": [
      "OSP\t"
     ]
    },
    {
     "name": "stdout",
     "output_type": "stream",
     "text": [
      "get_contours\tbuild_mask_and_save\t"
     ]
    },
    {
     "name": "stdout",
     "output_type": "stream",
     "text": [
      "ET: 18:25:20\tExec.: 0:00:58.959046\tETC: 18:50:53\n",
      "i=2/2 j=23/48\tread_0523B07_09.mat\t"
     ]
    },
    {
     "name": "stdout",
     "output_type": "stream",
     "text": [
      "OSP\t"
     ]
    },
    {
     "name": "stdout",
     "output_type": "stream",
     "text": [
      "get_contours\tbuild_mask_and_save\t"
     ]
    },
    {
     "name": "stdout",
     "output_type": "stream",
     "text": [
      "ET: 18:26:16\tExec.: 0:00:55.543301\tETC: 18:49:24\n",
      "i=2/2 j=24/48\tread_0523B10_12.mat\t"
     ]
    },
    {
     "name": "stdout",
     "output_type": "stream",
     "text": [
      "OSP\t"
     ]
    },
    {
     "name": "stdout",
     "output_type": "stream",
     "text": [
      "get_contours\tbuild_mask_and_save\t"
     ]
    },
    {
     "name": "stdout",
     "output_type": "stream",
     "text": [
      "ET: 18:27:16\tExec.: 0:01:00.208886\tETC: 18:51:21\n",
      "i=2/2 j=25/48\tread_0523B13_15.mat\t"
     ]
    },
    {
     "name": "stdout",
     "output_type": "stream",
     "text": [
      "OSP\t"
     ]
    },
    {
     "name": "stdout",
     "output_type": "stream",
     "text": [
      "get_contours\tbuild_mask_and_save\t"
     ]
    },
    {
     "name": "stdout",
     "output_type": "stream",
     "text": [
      "ET: 18:28:13\tExec.: 0:00:57.324172\tETC: 18:50:12\n",
      "i=2/2 j=26/48\tread_0523B16_18.mat\t"
     ]
    },
    {
     "name": "stdout",
     "output_type": "stream",
     "text": [
      "OSP\t"
     ]
    },
    {
     "name": "stdout",
     "output_type": "stream",
     "text": [
      "get_contours\tbuild_mask_and_save\t"
     ]
    },
    {
     "name": "stdout",
     "output_type": "stream",
     "text": [
      "ET: 18:29:09\tExec.: 0:00:55.656201\tETC: 18:49:33\n",
      "i=2/2 j=27/48\tread_0523B19_20.mat\t"
     ]
    },
    {
     "name": "stdout",
     "output_type": "stream",
     "text": [
      "OSP\t"
     ]
    },
    {
     "name": "stdout",
     "output_type": "stream",
     "text": [
      "get_contours\tbuild_mask_and_save\t"
     ]
    },
    {
     "name": "stdout",
     "output_type": "stream",
     "text": [
      "ET: 18:30:07\tExec.: 0:00:57.509603\tETC: 18:50:14\n",
      "i=2/2 j=28/48\tread_0528B01_03.mat\t"
     ]
    },
    {
     "name": "stdout",
     "output_type": "stream",
     "text": [
      "OSP\t"
     ]
    },
    {
     "name": "stdout",
     "output_type": "stream",
     "text": [
      "get_contours\tbuild_mask_and_save\t"
     ]
    },
    {
     "name": "stdout",
     "output_type": "stream",
     "text": [
      "ET: 18:31:06\tExec.: 0:00:59.069049\tETC: 18:50:47\n",
      "i=2/2 j=29/48\tread_0528B04_06.mat\t"
     ]
    },
    {
     "name": "stdout",
     "output_type": "stream",
     "text": [
      "OSP\t"
     ]
    },
    {
     "name": "stdout",
     "output_type": "stream",
     "text": [
      "get_contours\tbuild_mask_and_save\t"
     ]
    },
    {
     "name": "stdout",
     "output_type": "stream",
     "text": [
      "ET: 18:32:01\tExec.: 0:00:55.309998\tETC: 18:49:32\n",
      "i=2/2 j=30/48\tread_0528B07_09.mat\t"
     ]
    },
    {
     "name": "stdout",
     "output_type": "stream",
     "text": [
      "OSP\t"
     ]
    },
    {
     "name": "stdout",
     "output_type": "stream",
     "text": [
      "get_contours\tbuild_mask_and_save\t"
     ]
    },
    {
     "name": "stdout",
     "output_type": "stream",
     "text": [
      "ET: 18:32:58\tExec.: 0:00:56.701530\tETC: 18:49:58\n",
      "i=2/2 j=31/48\tread_0528B10_12.mat\t"
     ]
    },
    {
     "name": "stdout",
     "output_type": "stream",
     "text": [
      "OSP\t"
     ]
    },
    {
     "name": "stdout",
     "output_type": "stream",
     "text": [
      "get_contours\tbuild_mask_and_save\t"
     ]
    },
    {
     "name": "stdout",
     "output_type": "stream",
     "text": [
      "ET: 18:33:54\tExec.: 0:00:55.806526\tETC: 18:49:42\n",
      "i=2/2 j=32/48\tread_0528B13_15.mat\t"
     ]
    },
    {
     "name": "stdout",
     "output_type": "stream",
     "text": [
      "OSP\t"
     ]
    },
    {
     "name": "stdout",
     "output_type": "stream",
     "text": [
      "get_contours\tbuild_mask_and_save\t"
     ]
    },
    {
     "name": "stdout",
     "output_type": "stream",
     "text": [
      "ET: 18:34:49\tExec.: 0:00:55.642437\tETC: 18:49:40\n",
      "i=2/2 j=33/48\tread_0528B16_18.mat\t"
     ]
    },
    {
     "name": "stdout",
     "output_type": "stream",
     "text": [
      "OSP\t"
     ]
    },
    {
     "name": "stdout",
     "output_type": "stream",
     "text": [
      "get_contours\t"
     ]
    },
    {
     "name": "stdout",
     "output_type": "stream",
     "text": [
      "\n",
      "\t\t\t\ti=1,j=32,KV=35, len(contours)=4, NumOPE=3\t\t\t\tET: 18:35:52\tExec.: 0:01:02.365480\tETC: 18:51:27\n",
      "i=2/2 j=34/48\tread_0528B19_20.mat\t"
     ]
    },
    {
     "name": "stdout",
     "output_type": "stream",
     "text": [
      "OSP\t"
     ]
    },
    {
     "name": "stdout",
     "output_type": "stream",
     "text": [
      "get_contours\tbuild_mask_and_save\t"
     ]
    },
    {
     "name": "stdout",
     "output_type": "stream",
     "text": [
      "ET: 18:36:50\tExec.: 0:00:58.545355\tETC: 18:50:30\n",
      "i=2/2 j=35/48\tread_0530B01_03.mat\t"
     ]
    },
    {
     "name": "stdout",
     "output_type": "stream",
     "text": [
      "OSP\t"
     ]
    },
    {
     "name": "stdout",
     "output_type": "stream",
     "text": [
      "get_contours\tbuild_mask_and_save\t"
     ]
    },
    {
     "name": "stdout",
     "output_type": "stream",
     "text": [
      "ET: 18:37:52\tExec.: 0:01:01.462869\tETC: 18:51:11\n",
      "i=2/2 j=36/48\tread_0530B04_06.mat\t"
     ]
    },
    {
     "name": "stdout",
     "output_type": "stream",
     "text": [
      "OSP\t"
     ]
    },
    {
     "name": "stdout",
     "output_type": "stream",
     "text": [
      "get_contours\tbuild_mask_and_save\t"
     ]
    },
    {
     "name": "stdout",
     "output_type": "stream",
     "text": [
      "ET: 18:38:54\tExec.: 0:01:01.983463\tETC: 18:51:18\n",
      "i=2/2 j=37/48\tread_0530B07_09.mat\t"
     ]
    },
    {
     "name": "stdout",
     "output_type": "stream",
     "text": [
      "OSP\t"
     ]
    },
    {
     "name": "stdout",
     "output_type": "stream",
     "text": [
      "get_contours\tbuild_mask_and_save\t"
     ]
    },
    {
     "name": "stdout",
     "output_type": "stream",
     "text": [
      "ET: 18:39:52\tExec.: 0:00:58.261927\tETC: 18:50:33\n",
      "i=2/2 j=38/48\tread_0530B10_12.mat\t"
     ]
    },
    {
     "name": "stdout",
     "output_type": "stream",
     "text": [
      "OSP\t"
     ]
    },
    {
     "name": "stdout",
     "output_type": "stream",
     "text": [
      "get_contours\tbuild_mask_and_save\t"
     ]
    },
    {
     "name": "stdout",
     "output_type": "stream",
     "text": [
      "ET: 18:40:53\tExec.: 0:01:00.686106\tETC: 18:51:00\n",
      "i=2/2 j=39/48\tread_0530B13_15.mat\t"
     ]
    },
    {
     "name": "stdout",
     "output_type": "stream",
     "text": [
      "OSP\t"
     ]
    },
    {
     "name": "stdout",
     "output_type": "stream",
     "text": [
      "get_contours\tbuild_mask_and_save\t"
     ]
    },
    {
     "name": "stdout",
     "output_type": "stream",
     "text": [
      "ET: 18:41:50\tExec.: 0:00:57.349227\tETC: 18:50:26\n",
      "i=2/2 j=40/48\tread_0530B16_18.mat\t"
     ]
    },
    {
     "name": "stdout",
     "output_type": "stream",
     "text": [
      "OSP\t"
     ]
    },
    {
     "name": "stdout",
     "output_type": "stream",
     "text": [
      "get_contours\t"
     ]
    },
    {
     "name": "stdout",
     "output_type": "stream",
     "text": [
      "\n",
      "\t\t\t\ti=1,j=39,KV=35, len(contours)=3, NumOPE=3\t\t\t\tET: 18:42:51\tExec.: 0:01:01.010994\tETC: 18:50:59\n",
      "i=2/2 j=41/48\tread_0530B19_20.mat\t"
     ]
    },
    {
     "name": "stdout",
     "output_type": "stream",
     "text": [
      "OSP\t"
     ]
    },
    {
     "name": "stdout",
     "output_type": "stream",
     "text": [
      "get_contours\tbuild_mask_and_save\t"
     ]
    },
    {
     "name": "stdout",
     "output_type": "stream",
     "text": [
      "ET: 18:43:51\tExec.: 0:00:59.943299\tETC: 18:50:51\n",
      "i=2/2 j=42/48\tread_0601B01_03.mat\t"
     ]
    },
    {
     "name": "stdout",
     "output_type": "stream",
     "text": [
      "OSP\t"
     ]
    },
    {
     "name": "stdout",
     "output_type": "stream",
     "text": [
      "get_contours\t"
     ]
    },
    {
     "name": "stdout",
     "output_type": "stream",
     "text": [
      "\n",
      "\t\t\t\ti=1,j=41,KV=35, len(contours)=4, NumOPE=3\t\t\t\tET: 18:44:51\tExec.: 0:00:59.449835\tETC: 18:50:48\n",
      "i=2/2 j=43/48\tread_0601B04_06.mat\t"
     ]
    },
    {
     "name": "stdout",
     "output_type": "stream",
     "text": [
      "OSP\t"
     ]
    },
    {
     "name": "stdout",
     "output_type": "stream",
     "text": [
      "get_contours\tbuild_mask_and_save\t"
     ]
    },
    {
     "name": "stdout",
     "output_type": "stream",
     "text": [
      "ET: 18:45:51\tExec.: 0:01:00.141940\tETC: 18:50:52\n",
      "i=2/2 j=44/48\tread_0601B07_09.mat\t"
     ]
    },
    {
     "name": "stdout",
     "output_type": "stream",
     "text": [
      "OSP\t"
     ]
    },
    {
     "name": "stdout",
     "output_type": "stream",
     "text": [
      "get_contours\tbuild_mask_and_save\t"
     ]
    },
    {
     "name": "stdout",
     "output_type": "stream",
     "text": [
      "ET: 18:46:50\tExec.: 0:00:58.582286\tETC: 18:50:44\n",
      "i=2/2 j=45/48\tread_0601B10_12.mat\t"
     ]
    },
    {
     "name": "stdout",
     "output_type": "stream",
     "text": [
      "OSP\t"
     ]
    },
    {
     "name": "stdout",
     "output_type": "stream",
     "text": [
      "get_contours\tbuild_mask_and_save\t"
     ]
    },
    {
     "name": "stdout",
     "output_type": "stream",
     "text": [
      "ET: 18:47:49\tExec.: 0:00:59.030063\tETC: 18:50:46\n",
      "i=2/2 j=46/48\tread_0601B13_15.mat\t"
     ]
    },
    {
     "name": "stdout",
     "output_type": "stream",
     "text": [
      "OSP\t"
     ]
    },
    {
     "name": "stdout",
     "output_type": "stream",
     "text": [
      "get_contours\tbuild_mask_and_save\t"
     ]
    },
    {
     "name": "stdout",
     "output_type": "stream",
     "text": [
      "ET: 18:48:49\tExec.: 0:01:00.433907\tETC: 18:50:50\n",
      "i=2/2 j=47/48\tread_0601B16_18.mat\t"
     ]
    },
    {
     "name": "stdout",
     "output_type": "stream",
     "text": [
      "OSP\t"
     ]
    },
    {
     "name": "stdout",
     "output_type": "stream",
     "text": [
      "get_contours\tbuild_mask_and_save\t"
     ]
    },
    {
     "name": "stdout",
     "output_type": "stream",
     "text": [
      "ET: 18:49:54\tExec.: 0:01:04.395973\tETC: 18:50:58\n",
      "i=2/2 j=48/48\tread_0601B19_20.mat\t"
     ]
    },
    {
     "name": "stdout",
     "output_type": "stream",
     "text": [
      "OSP\t"
     ]
    },
    {
     "name": "stdout",
     "output_type": "stream",
     "text": [
      "get_contours\tbuild_mask_and_save\t"
     ]
    },
    {
     "name": "stdout",
     "output_type": "stream",
     "text": [
      "ET: 18:50:53\tExec.: 0:00:59.083131\tETC: 18:50:53\n",
      "\n",
      "processing successful\n",
      "fault_count =  11\n"
     ]
    }
   ],
   "source": [
    "if __name__ == '__main__':\n",
    "    i_start = 0\n",
    "    j_start = 0\n",
    "\n",
    "    U = np.load('/home/shawn/DATA/Special_topic/program/Pleurotus_eryngii_complete/U_value.npy')\n",
    "    crop_x = 850\n",
    "    crop_y = 820\n",
    "    ST = datetime.datetime.now()\n",
    "    print(\"processing.... Start time =\",ST.strftime(\"%H:%M:%S\"))\n",
    "\n",
    "    fault_count = 0\n",
    "    for i in range(i_start, 2):\n",
    "        for j in range(j_start, len(file_name[i])):\n",
    "            fault_count, TFnum = process_data(TFnum, file_name, CS, U, crop_x, crop_y, i, j, fault_count)\n",
    "            plt.show()\n",
    "\n",
    "    print(\"\\nprocessing successful\")\n",
    "    print('fault_count = ', fault_count)\n"
   ]
  },
  {
   "cell_type": "markdown",
   "metadata": {
    "collapsed": false
   },
   "source": [
    "# test\n"
   ]
  },
  {
   "cell_type": "code",
   "execution_count": null,
   "metadata": {
    "collapsed": false
   },
   "outputs": [],
   "source": [
    "## test npy\n",
    "arr = np.load(path)\n",
    "plt.plot(np.arange(0,300,dtype=np.int16), arr)\n"
   ]
  }
 ],
 "metadata": {
  "kernelspec": {
   "argv": [
    "python",
    "-m",
    "ipykernel_launcher",
    "-f",
    "{connection_file}"
   ],
   "display_name": "Python 3",
   "env": null,
   "interrupt_mode": "signal",
   "language": "python",
   "metadata": null,
   "name": "python3"
  },
  "name": "70_build_spectral_curve.ipynb"
 },
 "nbformat": 4,
 "nbformat_minor": 4
}
