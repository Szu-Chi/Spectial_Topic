{
 "cells": [
  {
   "cell_type": "markdown",
   "metadata": {
    "collapsed": false
   },
   "source": [
    "# import lib and test GPU of tensorflow\n"
   ]
  },
  {
   "cell_type": "code",
   "execution_count": 1,
   "metadata": {
    "collapsed": false
   },
   "outputs": [],
   "source": [
    "import numpy as np\n",
    "import cv2\n",
    "import glob\n",
    "import matplotlib.pyplot as plt\n",
    "# import matplotlib.image as mping\n",
    "import matplotlib.animation as animation\n",
    "import time, datetime\n",
    "import sys\n",
    "import gc\n",
    "import os\n",
    "import tensorflow as tf\n",
    "import h5py\n",
    "from random import randint\n",
    "from sklearn.decomposition import PCA\n",
    "from sklearn.preprocessing import StandardScaler\n",
    "from sklearn import manifold, datasets\n",
    "from IPython.display import clear_output\n",
    "from tsnecuda import TSNE\n",
    "#import tsnecuda\n",
    "#tsnecuda.test()\n"
   ]
  },
  {
   "cell_type": "code",
   "execution_count": 28,
   "metadata": {
    "collapsed": false
   },
   "outputs": [
    {
     "name": "stdout",
     "output_type": "stream",
     "text": [
      "/home/shawn/anaconda3/envs/tf-gpu/lib/python3.7/site-packages/tsnecuda/__init__.py\n"
     ]
    }
   ],
   "source": [
    "# os.environ[\"QT_API\"] = \"pyqt5\"\n",
    "# print(os.environ.get('QT_API'))\n",
    "import tsnecuda\n",
    "print(tsnecuda.__file__)\n"
   ]
  },
  {
   "cell_type": "code",
   "execution_count": 3,
   "metadata": {
    "collapsed": false
   },
   "outputs": [],
   "source": [
    "%matplotlib qt\n"
   ]
  },
  {
   "cell_type": "code",
   "execution_count": 4,
   "metadata": {
    "collapsed": false
   },
   "outputs": [
    {
     "name": "stdout",
     "output_type": "stream",
     "text": [
      "tensorflow version:  2.1.0\n",
      "Num GPUs Available:  1\n",
      "Num CPUs Available:  1\n",
      "tf.test.is_Built_With_cuda =  True\n",
      "WARNING:tensorflow:From <ipython-input-4-8ba2670e01b7>:8: is_gpu_available (from tensorflow.python.framework.test_util) is deprecated and will be removed in a future version.\n",
      "Instructions for updating:\n",
      "Use `tf.config.list_physical_devices('GPU')` instead.\n"
     ]
    },
    {
     "name": "stdout",
     "output_type": "stream",
     "text": [
      "tf.test.is_gpu_available =  True\n"
     ]
    }
   ],
   "source": [
    "#test tesnsorflow\n",
    "print(\"tensorflow version: \",tf.__version__)\n",
    "print(\"Num GPUs Available: \", len(tf.config.experimental.list_physical_devices('GPU')))\n",
    "print(\"Num CPUs Available: \", len(tf.config.experimental.list_physical_devices('CPU')))\n",
    "# Returns whether TensorFlow was built with CUDA (GPU) support.\n",
    "print(\"tf.test.is_Built_With_cuda = \",tf.test.is_built_with_cuda())\n",
    "# RetUrns whether TensorFlow can access a GPU. (deprecated)\n",
    "print(\"tf.test.is_gpu_available = \",tf.test.is_gpu_available(cuda_only=False, min_cuda_compute_capability=None))\n"
   ]
  },
  {
   "cell_type": "markdown",
   "metadata": {
    "collapsed": false
   },
   "source": [
    "# Main program -------------->\n",
    "# read data(.npy)\n"
   ]
  },
  {
   "cell_type": "code",
   "execution_count": 5,
   "metadata": {
    "collapsed": false
   },
   "outputs": [],
   "source": [
    "def read_data_and_build_data_label():\n",
    "    folder_path = '/home/shawn/DATA/Special_topic/Pleurotus_eryngii_complete/spectral_curve_v1/A/*' # Shawn Linux\n",
    "\n",
    "    file_name = sorted(glob.glob(folder_path))\n",
    "    # print('\\n'.join(file_name))\n",
    "    data_n = len(file_name)\n",
    "    # print(data_n)\n",
    "\n",
    "    ## 0511 --> 0\n",
    "    ## 0601 --> 8\n",
    "    label_value = 0\n",
    "    data_label = np.zeros(data_n, dtype=np.int8)\n",
    "    check = file_name[0][-16:-12]\n",
    "    for i in range(data_n):\n",
    "        if file_name[i][-16:-12] != check:\n",
    "            label_value += 1\n",
    "            check = file_name[i][-16:-12]\n",
    "        data_label[i] = label_value\n",
    "\n",
    "    ## check label\n",
    "    # for i in range(data_n):\n",
    "    #     print(\"{}\\t{}\".format(data_label[i], file_name[i][-16:-12]))\n",
    "\n",
    "    data = np.zeros((data_n,300))\n",
    "    for i in range(data_n):\n",
    "        data[i] = np.load(file_name[i])\n",
    "\n",
    "    return data_n, data_label, data\n",
    "\n",
    "data_n, data_label, data = read_data_and_build_data_label()\n"
   ]
  },
  {
   "cell_type": "code",
   "execution_count": 17,
   "metadata": {
    "collapsed": false
   },
   "outputs": [],
   "source": [
    "def show_spectral_curve(data_label, data):\n",
    "    colormap = plt.cm.rainbow(np.linspace(0, 1, data_label[-1]+1))\n",
    "\n",
    "    plt.ion()\n",
    "    plt.xlim(0,300)\n",
    "    plt.ylim(0,1.5)\n",
    "    plt.xticks(np.arange(0, 300, 50))\n",
    "\n",
    "    for i in range(data_n):\n",
    "        plt.plot(np.arange(0,300,1),data[i],color=colormap[data_label[i]])\n",
    "        plt.pause(0.001)\n",
    "\n",
    "    plt.show()\n",
    "\n",
    "show_spectral_curve(data_label, data)"
   ]
  },
  {
   "cell_type": "markdown",
   "metadata": {
    "collapsed": false
   },
   "source": [
    "# t-SNE\n"
   ]
  },
  {
   "cell_type": "code",
   "execution_count": 84,
   "metadata": {
    "collapsed": false
   },
   "outputs": [
    {
     "data": {
      "text/plain": [
       "<function matplotlib.pyplot.show(*args, **kw)>"
      ]
     },
     "execution_count": 84,
     "metadata": {},
     "output_type": "execute_result"
    }
   ],
   "source": [
    "n_components = 2\n",
    "perplexity = 11\n",
    "early_exaggeration = 20\n",
    "learning_rate = 150\n",
    "n_iter = 2000\n",
    "n_iter_without_progress = 300\n",
    "min_grad_norm = 1e-3\n",
    "metric = 'euclidean'\n",
    "init = 'random'\n",
    "verbose = 1\n",
    "\n",
    "range_ = 1\n",
    "start = 400\n",
    "\n",
    "data_embedded = TSNE(perplexity=perplexity, learning_rate=learning_rate, n_iter=n_iter, verbose=1).fit_transform(data)\n",
    "\n",
    "# show data\n",
    "colormap = plt.cm.rainbow(np.linspace(0, 1, data_label[-1]+1))\n",
    "\n",
    "plt.clf()\n",
    "plt.subplot(1,1,1)\n",
    "for i in range(data_n):\n",
    "    plt.scatter(data_embedded[i][0], data_embedded[i][1], color=colormap[data_label[i]])\n",
    "plt.show"
   ]
  },
  {
   "cell_type": "markdown",
   "metadata": {
    "collapsed": false
   },
   "source": [
    "# test\n"
   ]
  },
  {
   "cell_type": "code",
   "execution_count": null,
   "metadata": {
    "collapsed": false
   },
   "outputs": [],
   "source": [
    "print(data[1].shape)\n",
    "print(data.shape)\n",
    "plt.plot(np.arange(0,300,dtype=np.int16), data[3])"
   ]
  },
  {
   "cell_type": "code",
   "execution_count": null,
   "metadata": {
    "collapsed": false
   },
   "outputs": [],
   "source": []
  }
 ],
 "metadata": {
  "kernelspec": {
   "argv": [
    "python",
    "-m",
    "ipykernel_launcher",
    "-f",
    "{connection_file}"
   ],
   "display_name": "Python 3",
   "env": null,
   "interrupt_mode": "signal",
   "language": "python",
   "metadata": null,
   "name": "python3"
  },
  "name": "71_tSNE_shawn.ipynb"
 },
 "nbformat": 4,
 "nbformat_minor": 4
}
