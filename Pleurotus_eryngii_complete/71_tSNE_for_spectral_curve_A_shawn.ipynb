{
 "cells": [
  {
   "cell_type": "markdown",
   "metadata": {
    "collapsed": false
   },
   "source": [
    "# import lib and test GPU of tensorflow\n"
   ]
  },
  {
   "cell_type": "code",
   "execution_count": 1,
   "metadata": {
    "collapsed": false
   },
   "outputs": [],
   "source": [
    "import numpy as np\n",
    "import cv2\n",
    "import glob\n",
    "import matplotlib.pyplot as plt\n",
    "from matplotlib.lines import Line2D\n",
    "# import matplotlib.image as mping\n",
    "import matplotlib.animation as animation\n",
    "import time, datetime\n",
    "import sys\n",
    "import gc\n",
    "import os\n",
    "import tensorflow as tf\n",
    "import h5py\n",
    "from random import randint\n",
    "from sklearn.decomposition import PCA\n",
    "from sklearn.preprocessing import StandardScaler\n",
    "from sklearn import manifold, datasets\n",
    "from IPython.display import clear_output\n",
    "from tsnecuda import TSNE\n",
    "#import tsnecuda\n",
    "#tsnecuda.test()\n"
   ]
  },
  {
   "cell_type": "code",
   "execution_count": 2,
   "metadata": {
    "collapsed": false
   },
   "outputs": [
    {
     "name": "stdout",
     "output_type": "stream",
     "text": [
      "/home/shawn/anaconda3/envs/tf-gpu/lib/python3.7/site-packages/tsnecuda/__init__.py\n"
     ]
    }
   ],
   "source": [
    "# os.environ[\"QT_API\"] = \"pyqt5\"\n",
    "# print(os.environ.get('QT_API'))\n",
    "import tsnecuda\n",
    "print(tsnecuda.__file__)\n"
   ]
  },
  {
   "cell_type": "code",
   "execution_count": 3,
   "metadata": {
    "collapsed": false
   },
   "outputs": [],
   "source": [
    "%matplotlib qt\n"
   ]
  },
  {
   "cell_type": "code",
   "execution_count": 4,
   "metadata": {
    "collapsed": false
   },
   "outputs": [
    {
     "name": "stdout",
     "output_type": "stream",
     "text": [
      "tensorflow version:  2.1.0\n",
      "Num GPUs Available:  1\n",
      "Num CPUs Available:  1\n",
      "tf.test.is_Built_With_cuda =  True\n",
      "WARNING:tensorflow:From <ipython-input-4-8ba2670e01b7>:8: is_gpu_available (from tensorflow.python.framework.test_util) is deprecated and will be removed in a future version.\n",
      "Instructions for updating:\n",
      "Use `tf.config.list_physical_devices('GPU')` instead.\n"
     ]
    },
    {
     "name": "stdout",
     "output_type": "stream",
     "text": [
      "tf.test.is_gpu_available =  True\n"
     ]
    }
   ],
   "source": [
    "#test tesnsorflow\n",
    "print(\"tensorflow version: \",tf.__version__)\n",
    "print(\"Num GPUs Available: \", len(tf.config.experimental.list_physical_devices('GPU')))\n",
    "print(\"Num CPUs Available: \", len(tf.config.experimental.list_physical_devices('CPU')))\n",
    "# Returns whether TensorFlow was built with CUDA (GPU) support.\n",
    "print(\"tf.test.is_Built_With_cuda = \",tf.test.is_built_with_cuda())\n",
    "# RetUrns whether TensorFlow can access a GPU. (deprecated)\n",
    "print(\"tf.test.is_gpu_available = \",tf.test.is_gpu_available(cuda_only=False, min_cuda_compute_capability=None))\n"
   ]
  },
  {
   "cell_type": "markdown",
   "metadata": {
    "collapsed": false
   },
   "source": [
    "# Main program -------------->\n",
    "# read data(.npy)\n"
   ]
  },
  {
   "cell_type": "code",
   "execution_count": 27,
   "metadata": {
    "collapsed": false
   },
   "outputs": [
    {
     "name": "stdout",
     "output_type": "stream",
     "text": [
      "0511\n",
      "[0 0 0 0 0 0 0 0 0 0 0 0 0 0 0 0 0 0 0 1 1 1 1 1 1 1 1 1 1 1 1 1 1 1 1 1 1\n",
      " 2 2 2 2 2 2 2 2 2 2 2 2 2 2 2 2 2 2 2 2 3 3 3 3 3 3 3 3 3 3 3 3 3 3 3 3 3\n",
      " 3 3 3 3 3 4 4 4 4 4 4 4 4 4 4 4 4 4 4 4 4 4 4 4 4 5 5 5 5 5 5 5 5 5 5 5 5\n",
      " 5 5 5 5 5 5 5 5 6 6 6 6 6 6 6 6 6 6 6 6 6 6 6 6 6 6 6 6 7 7 7 7 7 7 7 7 7\n",
      " 7 7 7 7 7 7 7 7 7 7 7]\n",
      "read data successfull\n"
     ]
    }
   ],
   "source": [
    "def read_data_and_build_data_label():\n",
    "    folder_path = '/home/shawn/DATA/Special_topic/Pleurotus_eryngii_complete/spectral_curve_v1/A/*' # Shawn Linux\n",
    "\n",
    "    file_name = sorted(glob.glob(folder_path))\n",
    "    # print('\\n'.join(file_name))\n",
    "    data_n = len(file_name)\n",
    "    # print(data_n)\n",
    "\n",
    "    ## 0511 --> 0\n",
    "    ## 0601 --> 8\n",
    "    label_value = 0\n",
    "    data_label = np.zeros(data_n, dtype=np.int8)\n",
    "    check = file_name[0][78:82]\n",
    "    print(check)\n",
    "    for i in range(data_n):\n",
    "        if file_name[i][78:82] != check:\n",
    "            # print(check)\n",
    "            label_value += 1\n",
    "            check = file_name[i][78:82]\n",
    "        data_label[i] = label_value\n",
    "    print(data_label)\n",
    "\n",
    "    # # check label\n",
    "    # for i in range(data_n):\n",
    "    #     print(\"{}\\t{}\".format(data_label[i], file_name[i][-16:-12]))\n",
    "\n",
    "    data = np.zeros((data_n,300))\n",
    "    for i in range(data_n):\n",
    "        data[i] = np.load(file_name[i])\n",
    "\n",
    "    print(\"read data successfull\")\n",
    "    return data_n, data_label, data\n",
    "\n",
    "data_n, data_label, data = read_data_and_build_data_label()\n"
   ]
  },
  {
   "cell_type": "markdown",
   "metadata": {
    "collapsed": false
   },
   "source": [
    "# z-scroce\n"
   ]
  },
  {
   "cell_type": "code",
   "execution_count": 28,
   "metadata": {
    "collapsed": false
   },
   "outputs": [
    {
     "name": "stdout",
     "output_type": "stream",
     "text": [
      "total is 159\n",
      "sucessful\n"
     ]
    }
   ],
   "source": [
    "# z-scroce\n",
    "print(\"total is {}\".format(data_n))\n",
    "for data_i in range(data_n):\n",
    "    m = np.mean(data[data_i])\n",
    "    std = np.std(data[data_i])\n",
    "    data[data_i] = (data[data_i]-m)/std\n",
    "print(\"sucessful\")"
   ]
  },
  {
   "cell_type": "markdown",
   "metadata": {
    "collapsed": false
   },
   "source": [
    "# select data\n"
   ]
  },
  {
   "cell_type": "code",
   "execution_count": 29,
   "metadata": {
    "collapsed": false
   },
   "outputs": [
    {
     "name": "stdout",
     "output_type": "stream",
     "text": [
      "(159, 300)\n",
      "(159, 240)\n"
     ]
    }
   ],
   "source": [
    "print(data.shape)\n",
    "data_v1 = np.delete(data, np.s_[270:300], 1)\n",
    "data_v1 = np.delete(data_v1, np.s_[0:30], 1)\n",
    "print(data_v1.shape)\n"
   ]
  },
  {
   "cell_type": "code",
   "execution_count": 26,
   "metadata": {
    "collapsed": false
   },
   "outputs": [
    {
     "name": "stdout",
     "output_type": "stream",
     "text": [
      "240\n",
      "(8, 4)\n"
     ]
    }
   ],
   "source": [
    "def show_spectral_curve(data_label, data):\n",
    "    data_band_n = data_v1.shape[1]\n",
    "    print(data_band_n)\n",
    "\n",
    "    colormap = plt.cm.rainbow(np.linspace(0, 1, data_label[-1]+1))\n",
    "    print(colormap.shape)\n",
    "\n",
    "    plt.clf()\n",
    "    plt.ion()\n",
    "\n",
    "    legend_elements = [Line2D([0], [0], marker='o', color='w', label='0511',\n",
    "                              markerfacecolor=colormap[0], markersize=15),\n",
    "                       Line2D([0], [0], marker='o', color='w', label='0514',\n",
    "                              markerfacecolor=colormap[1], markersize=15),\n",
    "                       Line2D([0], [0], marker='o', color='w', label='0516',\n",
    "                              markerfacecolor=colormap[2], markersize=15),\n",
    "                       Line2D([0], [0], marker='o', color='w', label='0521',\n",
    "                              markerfacecolor=colormap[3], markersize=15),\n",
    "                       Line2D([0], [0], marker='o', color='w', label='0523',\n",
    "                              markerfacecolor=colormap[4], markersize=15),\n",
    "                       Line2D([0], [0], marker='o', color='w', label='0528',\n",
    "                              markerfacecolor=colormap[5], markersize=15),\n",
    "                       Line2D([0], [0], marker='o', color='w', label='0530',\n",
    "                              markerfacecolor=colormap[6], markersize=15),\n",
    "                       Line2D([0], [0], marker='o', color='w', label='0601',\n",
    "                              markerfacecolor=colormap[7], markersize=15)]\n",
    "    plt.legend(handles=legend_elements)\n",
    "\n",
    "    plt.xlim(-10,300)\n",
    "    plt.ylim(-3,1.5)\n",
    "    plt.xticks(np.arange(0, 300, 15))\n",
    "\n",
    "    for i in range(data_n):\n",
    "        plt.plot(np.arange(30,data_band_n+30,1),data[i],color=colormap[data_label[i]])\n",
    "        # plt.pause(0.001)\n",
    "\n",
    "    plt.show()\n",
    "\n",
    "show_spectral_curve(data_label, data_v1)"
   ]
  },
  {
   "cell_type": "markdown",
   "metadata": {
    "collapsed": false
   },
   "source": [
    "# t-SNE\n"
   ]
  },
  {
   "cell_type": "code",
   "execution_count": 33,
   "metadata": {
    "collapsed": false
   },
   "outputs": [
    {
     "name": "stdout",
     "output_type": "stream",
     "text": [
      "perplexity interval = 15-24\n",
      "15/24\t"
     ]
    },
    {
     "name": "stdout",
     "output_type": "stream",
     "text": [
      "16/24\t"
     ]
    },
    {
     "name": "stdout",
     "output_type": "stream",
     "text": [
      "17/24\t"
     ]
    },
    {
     "name": "stdout",
     "output_type": "stream",
     "text": [
      "18/24\t"
     ]
    },
    {
     "name": "stdout",
     "output_type": "stream",
     "text": [
      "19/24\t"
     ]
    },
    {
     "name": "stdout",
     "output_type": "stream",
     "text": [
      "20/24\t"
     ]
    },
    {
     "name": "stdout",
     "output_type": "stream",
     "text": [
      "21/24\t"
     ]
    },
    {
     "name": "stdout",
     "output_type": "stream",
     "text": [
      "22/24\t"
     ]
    },
    {
     "name": "stdout",
     "output_type": "stream",
     "text": [
      "23/24\t"
     ]
    },
    {
     "name": "stdout",
     "output_type": "stream",
     "text": [
      "24/24\t"
     ]
    },
    {
     "name": "stdout",
     "output_type": "stream",
     "text": [
      "\n",
      "Exec.: 0:00:35.233588\n",
      "t-sne successfull\n"
     ]
    }
   ],
   "source": [
    "n_components = 2\n",
    "perplexity = 11\n",
    "learning_rate = 150\n",
    "n_iter = 3000\n",
    "\n",
    "early_exaggeration = 20\n",
    "n_iter_without_progress = 300\n",
    "min_grad_norm = 1e-3\n",
    "metric = 'euclidean'\n",
    "init = 'random'\n",
    "verbose = 1\n",
    "\n",
    "per_s = 15\n",
    "per_e = 25\n",
    "\n",
    "data_embedded_arr = np.zeros((per_e-per_s,data_n,2),np.float32)\n",
    "print('perplexity interval = {}-{}'.format(per_s, per_e-1))\n",
    "ST = datetime.datetime.now()\n",
    "\n",
    "for per_i in range(per_s, per_e):\n",
    "    print('{}/{}'.format(per_i, per_e-1),end='\\t')\n",
    "    data_embedded_arr[per_i-per_s] = TSNE(perplexity=per_i, learning_rate=learning_rate, n_iter=n_iter).fit_transform(data_v1)\n",
    "\n",
    "ET = datetime.datetime.now()\n",
    "print(\"\\nExec.:\",ET-ST)\n",
    "print(\"t-sne successfull\")\n",
    "    # data_embedded = TSNE(perplexity=perplexity, learning_rate=learning_rate, n_iter=n_iter).fit_transform(data)\n",
    "\n"
   ]
  },
  {
   "cell_type": "code",
   "execution_count": 34,
   "metadata": {
    "collapsed": false
   },
   "outputs": [],
   "source": [
    "plt.clf()"
   ]
  },
  {
   "cell_type": "code",
   "execution_count": 35,
   "metadata": {
    "collapsed": false
   },
   "outputs": [
    {
     "name": "stderr",
     "output_type": "stream",
     "text": [
      "/home/shawn/anaconda3/envs/tf-gpu/lib/python3.7/site-packages/ipykernel_launcher.py:6: MatplotlibDeprecationWarning: Adding an axes using the same arguments as a previous axes currently reuses the earlier instance.  In a future version, a new instance will always be created and returned.  Meanwhile, this warning can be suppressed, and the future behavior ensured, by passing a unique label to each axes instance.\n",
      "  \n"
     ]
    }
   ],
   "source": [
    "# show data\n",
    "colormap = plt.cm.rainbow(np.linspace(0, 1, data_label[-1]+1))\n",
    "\n",
    "rotation=[1,4,5,6,3,2]\n",
    "for per_i in range(per_s, per_e):\n",
    "    plt.subplot(2,3,rotation[(per_i-per_s)%6])\n",
    "    plt.cla()\n",
    "\n",
    "    legend_elements = [Line2D([0], [0], marker='o', color='w', label='0511',\n",
    "                              markerfacecolor=colormap[0], markersize=15),\n",
    "                       Line2D([0], [0], marker='o', color='w', label='0514',\n",
    "                              markerfacecolor=colormap[1], markersize=15),\n",
    "                       Line2D([0], [0], marker='o', color='w', label='0516',\n",
    "                              markerfacecolor=colormap[2], markersize=15),\n",
    "                       Line2D([0], [0], marker='o', color='w', label='0521',\n",
    "                              markerfacecolor=colormap[3], markersize=15),\n",
    "                       Line2D([0], [0], marker='o', color='w', label='0523',\n",
    "                              markerfacecolor=colormap[4], markersize=15),\n",
    "                       Line2D([0], [0], marker='o', color='w', label='0528',\n",
    "                              markerfacecolor=colormap[5], markersize=15),\n",
    "                       Line2D([0], [0], marker='o', color='w', label='0530',\n",
    "                              markerfacecolor=colormap[6], markersize=15),\n",
    "                       Line2D([0], [0], marker='o', color='w', label='0601',\n",
    "                              markerfacecolor=colormap[7], markersize=15)]\n",
    "\n",
    "    plt.legend(handles=legend_elements)\n",
    "    for i in range(data_n):\n",
    "        plt.title('perplexity='+str(per_i))\n",
    "        plt.scatter(data_embedded_arr[per_i-per_s][i][0], data_embedded_arr[per_i-per_s][i][1], color=colormap[data_label[i]])\n",
    "    plt.show\n",
    "    plt.pause(0.5)"
   ]
  },
  {
   "cell_type": "code",
   "execution_count": null,
   "metadata": {
    "collapsed": false
   },
   "outputs": [],
   "source": [
    "print(data_embedded_arr.shape)\n",
    "print(type(data_embedded_arr[0][0][0]))"
   ]
  },
  {
   "cell_type": "markdown",
   "metadata": {
    "collapsed": false
   },
   "source": [
    "# test\n"
   ]
  },
  {
   "cell_type": "code",
   "execution_count": null,
   "metadata": {
    "collapsed": false
   },
   "outputs": [],
   "source": [
    "print(data[1].shape)\n",
    "print(data.shape)\n",
    "plt.plot(np.arange(0,300,dtype=np.int16), data[3])"
   ]
  },
  {
   "cell_type": "code",
   "execution_count": null,
   "metadata": {
    "collapsed": false
   },
   "outputs": [],
   "source": []
  }
 ],
 "metadata": {
  "kernelspec": {
   "argv": [
    "python",
    "-m",
    "ipykernel_launcher",
    "-f",
    "{connection_file}"
   ],
   "display_name": "Python 3",
   "env": null,
   "interrupt_mode": "signal",
   "language": "python",
   "metadata": null,
   "name": "python3"
  },
  "name": "71_tSNE_for_spectral_curve_A_shawn.ipynb"
 },
 "nbformat": 4,
 "nbformat_minor": 4
}
