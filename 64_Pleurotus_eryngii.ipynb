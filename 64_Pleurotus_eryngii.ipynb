{
 "cells": [
  {
   "cell_type": "code",
   "execution_count": null,
   "metadata": {
    "collapsed": false
   },
   "outputs": [],
   "source": [
    "import numpy as np\n",
    "import cv2\n",
    "import glob\n",
    "import matplotlib.pyplot as plt\n",
    "import matplotlib.animation as animation\n",
    "import time\n",
    "import sys\n",
    "import gc\n",
    "import tensorflow as tf\n",
    "from random import randint\n",
    "from sklearn.decomposition import PCA\n",
    "from sklearn.preprocessing import StandardScaler\n",
    "from sklearn import manifold, datasets\n",
    "from IPython.display import clear_output\n"
   ]
  },
  {
   "cell_type": "code",
   "execution_count": null,
   "metadata": {
    "collapsed": false
   },
   "outputs": [],
   "source": [
    "# read mask\n",
    "mask = np.array(cv2.imread('mask.png'))/255\n",
    "mask[mask>0] = 1\n",
    "print(mask.shape)\n",
    "plt.imshow(mask,plt.cm.gray)\n",
    "plt.axis(\"off\");plt.show()\n",
    "\n",
    "plt.imshow(mask[20:-85,120:-100],plt.cm.gray)\n",
    "plt.axis(\"off\");plt.show()\n",
    "\n",
    "## check mask's white is 1\n",
    "# temp = mask\n",
    "# temp[temp==1] = 0\n",
    "# plt.imshow(mask,plt.cm.gray)\n",
    "# plt.axis(\"off\");plt.show()"
   ]
  },
  {
   "cell_type": "markdown",
   "metadata": {
    "collapsed": false
   },
   "source": [
    "# read file for `white` picture"
   ]
  },
  {
   "cell_type": "code",
   "execution_count": null,
   "metadata": {
    "collapsed": false
   },
   "outputs": [],
   "source": [
    "def read_while_file():\n",
    "    print(\"reading data of white...\")\n",
    "    file_path='d:/Special_topic/pleurotus_eryngii/white/*'\n",
    "    file_name = glob.glob(file_path)\n",
    "    file_num = len(file_name)\n",
    "\n",
    "    data = np.zeros((file_num,375,420,3),dtype=np.uint8)\n",
    "\n",
    "    for i in range(file_num):\n",
    "        data[i] = (cv2.imread(file_name[i]) * mask )[20:-85,120:-100]\n",
    "\n",
    "    ## plot image for white data\n",
    "    # plt.figure(figsize=(10,5))\n",
    "    # for i in range(file_num):\n",
    "    #     plt.subplot(3,3,i+1)\n",
    "    #     plt.axis(\"off\")\n",
    "    #     plt.title(file_name[i])\n",
    "    #     plt.imshow(cv2.cvtColor(data[i], cv2.COLOR_BGR2RGB))\n",
    "    # plt.show()\n",
    "\n",
    "    print(\"reading data of white sucessful\\n\")\n",
    "    return data\n",
    "\n",
    "\n",
    "white_data = read_while_file()\n"
   ]
  },
  {
   "cell_type": "markdown",
   "metadata": {
    "collapsed": false
   },
   "source": [
    "# read file for `data` picture"
   ]
  },
  {
   "cell_type": "code",
   "execution_count": null,
   "metadata": {
    "collapsed": false
   },
   "outputs": [],
   "source": [
    "def read_data_file():\n",
    "    print(\"reading data....\")\n",
    "\n",
    "    ## read file path\n",
    "    ## file path 1030 1104 1108 1118 1122\n",
    "    file_path='d:/Special_topic/pleurotus_eryngii/*'\n",
    "    folder_name = glob.glob(file_path)[:5]\n",
    "    file_name=[]\n",
    "    for folder_name in folder_name:\n",
    "        count = 0\n",
    "        for fname in glob.glob(folder_name+\"/*\"):\n",
    "            file_name.append(fname)\n",
    "            count+=1\n",
    "            if(count==9*5):\n",
    "                pass\n",
    "                # break\n",
    "    print(\"file_name number: \",len(file_name))\n",
    "    print(\"data all Group number: \",len(file_name)//9)\n",
    "\n",
    "    data_Gnum = len(file_name)//9\n",
    "    print(\"data_Gnum = \", data_Gnum)\n",
    "\n",
    "    ## [data_Gnum][NumOfPicture][picture(480*640*wave)]\n",
    "    data_black = np.zeros((data_Gnum,375,420,9),dtype=np.uint8)\n",
    "    data       = np.zeros((data_Gnum,375,420,18),dtype=np.uint8)\n",
    "    print(\"data_black.shpae = \",data_black.shape)\n",
    "    print(\"data.shpae = \",data.shape)\n",
    "    collected = gc.collect()\n",
    "    print(\"Garbage collector: collected %d objects.\" % (collected))\n",
    "\n",
    "    print(\"processing group\")\n",
    "    for group in range(data_Gnum):\n",
    "        print(\"{}/{}\".format(group+1,data_Gnum),end=\"\\t\")\n",
    "\n",
    "        for black in range(3):\n",
    "            img = cv2.imread(file_name[group*9+black]) * mask\n",
    "            data_black[group][:,:,black*3:black*3+3] = img[20:-85,120:-100]\n",
    "\n",
    "        for LED in range(6):\n",
    "            img = cv2.imread(file_name[group*9+3+LED]) * mask\n",
    "            data[group][:,:,LED*3:LED*3+3] = img[20:-85,120:-100]\n",
    "\n",
    "    gc.collect()\n",
    "    print(\"\\nreading data sucessful\\n\")\n",
    "    return data, data_black, data_Gnum\n",
    "\n",
    "#=========================================================\n",
    "data, data_black, data_Gnum = read_data_file()\n",
    "print(\"data.type = \",type(data[0][0][0][0]))\n",
    "print(\"data max = \", np.amax(data))\n",
    "print(\"data max = \", np.amin(data))\n",
    "\n"
   ]
  },
  {
   "cell_type": "code",
   "execution_count": null,
   "metadata": {
    "collapsed": false
   },
   "outputs": [],
   "source": [
    "# solve div0 question\n",
    "\n",
    "# def div0( a, b ):\n",
    "#     \"\"\" ignore / 0, div0( [-1, 0, 1], 0 ) -> [0, 0, 0] \"\"\"\n",
    "#     with np.errstate(divide='ignore', invalid='ignore'):\n",
    "#         c = np.divide(a,b)\n",
    "#         c[ ~ np.isfinite( c )] = 0  # -inf inf NaN\n",
    "#     return c\n",
    "\n",
    "def div0(a,b):\n",
    "    b[b==0] = -1\n",
    "    c = a/b\n",
    "    c[c<0] = 0\n",
    "    return c\n",
    "\n",
    "def print_info(img):\n",
    "    print(\"max =\",np.amax(img))\n",
    "    print(\"min =\",np.amin(img))\n",
    "    print(\"mean=\",np.mean(img))\n",
    "\n",
    "a = np.array([1.,0.,0.], dtype='float')\n",
    "b = np.array([0.,1.,0.], dtype='float')\n",
    "c = div0(a,b)\n",
    "print(div0(a,b))"
   ]
  },
  {
   "cell_type": "markdown",
   "metadata": {
    "collapsed": false
   },
   "source": [
    "# calculate reflectivity"
   ]
  },
  {
   "cell_type": "code",
   "execution_count": null,
   "metadata": {
    "collapsed": false
   },
   "outputs": [],
   "source": [
    "## initialization\n",
    "# [data_Gnum][NumOfPicture(LED)][picture(480*640*3)]\n",
    "data = data.astype('float')\n",
    "white_data = white_data.astype('float')\n",
    "reflectivity = np.zeros_like(data, dtype='float')\n",
    "print(\"reflectivity.shape=\", reflectivity.shape)\n",
    "print()\n",
    "\n",
    "dark_30 = white_data[2]\n",
    "dark_40 = white_data[0]\n",
    "dark_100= white_data[1]\n",
    "# print(\"dark_100.shape=\",dark_100.shape)\n",
    "\n",
    "LED1_white = white_data[3]\n",
    "LED2_white = white_data[4]\n",
    "LED3_white = white_data[5]\n",
    "LED4_white = white_data[5]\n",
    "LED5_white = white_data[7]\n",
    "LED6_white = white_data[8]\n",
    "# print(\"LED6_white.shape=\",LED6_whdef array_divide(a,b):\n",
    "\n",
    "print(type(dark_30[0][0][0]))\n"
   ]
  },
  {
   "cell_type": "code",
   "execution_count": null,
   "metadata": {
    "collapsed": false
   },
   "outputs": [],
   "source": [
    "# deal reflectivity\n",
    "for Gnum in range(data_Gnum):\n",
    "    LED = np.zeros((6,375,420,3),dtype=np.float)\n",
    "    for i in range(6):\n",
    "        LED[i] = data[Gnum][:,:,i*3:i*3+3]\n",
    "\n",
    "    reflectivity[Gnum][:,:,0:3]   = div0((LED[0]-dark_40) , (LED1_white-dark_40))\n",
    "    reflectivity[Gnum][:,:,3:6]   = div0((LED[1]-dark_30) , (LED2_white-dark_30))\n",
    "    reflectivity[Gnum][:,:,6:9]   = div0((LED[2]-dark_30) , (LED3_white-dark_30))\n",
    "    reflectivity[Gnum][:,:,9:12]  = div0((LED[3]-dark_30) , (LED4_white-dark_30))\n",
    "    reflectivity[Gnum][:,:,12:15] = div0((LED[4]-dark_30) , (LED5_white-dark_30))\n",
    "    reflectivity[Gnum][:,:,15:]   = div0((LED[5]-dark_100), (LED6_white-dark_100))\n",
    "    gc.collect()\n",
    "\n",
    "    print(\"{}/{}\\t\".format(Gnum, data_Gnum),end=\"\")\n",
    "\n",
    "reflectivity[reflectivity<0] = 0\n",
    "reflectivity[reflectivity>1] = 1\n",
    "print(\"\\nprocess sucessful\\n\")\n"
   ]
  },
  {
   "cell_type": "code",
   "execution_count": null,
   "metadata": {
    "collapsed": false
   },
   "outputs": [],
   "source": [
    "del LED\n",
    "del white_data, LED1_white, LED2_white, LED3_white, LED4_white, LED5_white, LED6_white\n",
    "del dark_100, dark_30, dark_40\n",
    "del data, data_black\n",
    "%whos"
   ]
  },
  {
   "cell_type": "code",
   "execution_count": null,
   "metadata": {
    "collapsed": false
   },
   "outputs": [],
   "source": [
    "def set_figure_size():\n",
    "    plt.figure(figsize=(20,10))\n",
    "\n",
    "# [data_Gnum][NumOfPicture(LED)][picture(480*640*3)]\n",
    "for Gnum in range(data_Gnum):\n",
    "    print(\" group {} ==================================\".format(Gnum))\n",
    "\n",
    "    set_figure_size()\n",
    "    figure_index = 0\n",
    "    for col in range(6):\n",
    "        for row in range(3):\n",
    "            plt.subplot(3,6,col+1+row*6)\n",
    "            plt.axis(\"off\")\n",
    "            plt.title(\"LED{}\".format(figure_index))\n",
    "\n",
    "            # plt.imshow(data[Gnum][:,:,figure_index], plt.cm.gray, vmax=1.0)\n",
    "            plt.imshow(reflectivity[Gnum][:,:,figure_index], plt.cm.gray, vmax=1.0)\n",
    "            figure_index += 1\n",
    "    plt.show()\n",
    "    break\n"
   ]
  },
  {
   "cell_type": "markdown",
   "metadata": {
    "collapsed": false
   },
   "source": [
    "# del data witch we don't want"
   ]
  },
  {
   "cell_type": "code",
   "execution_count": null,
   "metadata": {
    "collapsed": false
   },
   "outputs": [],
   "source": [
    "reflectivity_process = reflectivity\n",
    "del reflectivity\n",
    "reflectivity_process = np.delete(reflectivity_process,9,3)\n",
    "reflectivity_process = np.delete(reflectivity_process,6,3)\n",
    "reflectivity_process = np.delete(reflectivity_process,4,3)\n",
    "reflectivity_process = np.delete(reflectivity_process,3,3)\n",
    "reflectivity_process = np.delete(reflectivity_process,1,3)\n",
    "\n",
    "def set_figure_size():\n",
    "    plt.figure(figsize=(20,10))\n",
    "\n",
    "# [data_Gnum][NumOfPicture(LED)][picture(480*640*3)]\n",
    "for Gnum in range(data_Gnum):\n",
    "    if(Gnum==1):\n",
    "        break\n",
    "\n",
    "    print(\" group {} ==================================\".format(Gnum))\n",
    "    set_figure_size()\n",
    "    figure_index = 0\n",
    "    for col in range(6):\n",
    "        for row in range(3):\n",
    "            if(figure_index==13):\n",
    "                break\n",
    "            plt.subplot(3,6,col+1+row*6)\n",
    "            plt.axis(\"off\")\n",
    "            plt.title(\"LED{}\".format(figure_index))\n",
    "            plt.imshow(reflectivity_process[Gnum][:,:,figure_index], plt.cm.gray, vmax=1.0)\n",
    "            figure_index += 1\n",
    "    plt.show()\n"
   ]
  },
  {
   "cell_type": "code",
   "execution_count": null,
   "metadata": {
    "collapsed": false
   },
   "outputs": [],
   "source": [
    "# let data to be a spectral curve\n",
    "print(reflectivity_process.shape)\n",
    "reflectivity_process = reflectivity_process.transpose(0,3,1,2)\n",
    "print(reflectivity_process.shape)\n",
    "(group,band,x,y) = reflectivity_process.shape\n",
    "reflectivity_process = reflectivity_process.reshape(group,band,x*y)\n",
    "print(reflectivity_process.shape)"
   ]
  },
  {
   "cell_type": "code",
   "execution_count": null,
   "metadata": {
    "collapsed": false
   },
   "outputs": [],
   "source": [
    "mask_s = mask[20:-85,120:-100,0].reshape((1,375*420)) # mask_s = mask strip\n",
    "print(mask_s.shape)"
   ]
  },
  {
   "cell_type": "code",
   "execution_count": null,
   "metadata": {
    "collapsed": false
   },
   "outputs": [],
   "source": [
    "print(mask_s[0][9800])\n",
    "print(np.linspace(1,13,13))\n",
    "print(np.sum(np.linspace(1,13,13)))\n",
    "\n"
   ]
  },
  {
   "cell_type": "code",
   "execution_count": null,
   "metadata": {
    "collapsed": false
   },
   "outputs": [],
   "source": [
    "total_point = np.count_nonzero(mask_s>0)\n",
    "print(total_point)\n",
    "reflectivity_p_s = np.zeros((data_Gnum,13),np.float)\n",
    "print(reflectivity_p_s.shape)\n",
    "\n",
    "print(\"process...\")\n",
    "for data_G in range(data_Gnum):\n",
    "    for band in range(13):\n",
    "        total = 0\n",
    "        value = np.sum(reflectivity_process[data_G][band])/total_point\n",
    "        reflectivity_p_s[data_G][band] = value\n",
    "    print(\"{}/{}\".format(data_G,data_Gnum),end='  ')\n"
   ]
  },
  {
   "cell_type": "code",
   "execution_count": null,
   "metadata": {
    "collapsed": false
   },
   "outputs": [],
   "source": [
    "colormap = plt.cm.rainbow(np.linspace(0, 1, data_Gnum))\n",
    "plt.ion()\n",
    "for data_G in range(data_Gnum):\n",
    "    plt.plot(np.linspace(1,13,13),reflectivity_p_s[data_G],color=colormap[data_G])\n",
    "    plt.pause(0.07)\n",
    "    # plt.clf()\n",
    "\n",
    "for data_G in range(data_Gnum):\n",
    "    plt.plot(np.linspace(1,13,13),reflectivity_p_s[data_G],color=colormap[data_G])\n",
    "plt.show()"
   ]
  },
  {
   "cell_type": "markdown",
   "metadata": {
    "collapsed": false
   },
   "source": [
    "# t-SNE"
   ]
  },
  {
   "cell_type": "code",
   "execution_count": null,
   "metadata": {
    "collapsed": false
   },
   "outputs": [],
   "source": [
    "for i in range(1, 3):\n",
    "    print(i)"
   ]
  },
  {
   "cell_type": "code",
   "execution_count": null,
   "metadata": {
    "collapsed": false
   },
   "outputs": [],
   "source": [
    "n_components = 2\n",
    "perplexity = 43\n",
    "early_exaggeration = 12.0\n",
    "learning_rate = 20\n",
    "n_iter = 400000\n",
    "n_iter_without_progress = 300\n",
    "min_grad_norm = 1e-07\n",
    "metric = 'euclidean'\n",
    "init = 'pca'\n",
    "verbose = 1\n",
    "random_state = None\n",
    "method = 'barnes_hut'\n",
    "angle = 0.5\n",
    "n_jobs = None\n",
    "\n",
    "range_ = 1\n",
    "start = 30\n",
    "tSNE_data_n = np.zeros((range_,144,2))\n",
    "for i in range(start,start+range_):\n",
    "    tsne = manifold.TSNE(n_components=n_components, perplexity=perplexity, early_exaggeration=early_exaggeration,\\\n",
    "                        learning_rate=learning_rate, n_iter=n_iter, n_iter_without_progress=n_iter_without_progress,\\\n",
    "                        min_grad_norm=min_grad_norm, metric=metric, init=init, verbose=verbose,\\\n",
    "                        random_state=random_state, method=method, angle= angle, n_jobs=n_jobs)\n",
    "    tSNE_data = tsne.fit_transform(reflectivity_p_s)\n",
    "    file_name = \"t-SNE_144_n{}_per{}_lr{}_iter{}\".format(n_components,perplexity,learning_rate,n_iter)\n",
    "\n",
    "    print(\"\\nOrg data dimension is {}\\n\\\n",
    "    Embedded data dimension is {}\".format(reflectivity_p_s.shape, tSNE_data.shape))\n",
    "\n",
    "    '''嵌入空间可视化'''\n",
    "    data_min, data_max = tSNE_data.min(0), tSNE_data.max(0)\n",
    "    data_norm = (tSNE_data - data_min) / (data_max - data_min)  # 归一化\n",
    "\n"
   ]
  },
  {
   "cell_type": "code",
   "execution_count": null,
   "metadata": {
    "collapsed": false
   },
   "outputs": [],
   "source": [
    "colormap = plt.cm.rainbow(np.linspace(0, 1, data_Gnum))\n",
    "plt.ion()\n",
    "for data_G in range(data_Gnum):\n",
    "    for i in range(data_norm.shape[0]):\n",
    "        plt.text(data_norm[i, 0], data_norm[i, 1], str(i), color=colormap[i],\n",
    "                fontdict={'weight': 'bold', 'size': 9})\n",
    "    plt.xticks([]); plt.yticks([]);\n",
    "    plt.clf()\n",
    "\n"
   ]
  },
  {
   "cell_type": "markdown",
   "metadata": {
    "collapsed": false
   },
   "source": [
    "# 2d\n",
    "%matplotlib inline\n",
    "colormap = plt.cm.rainbow(np.linspace(0, 1, data_norm.shape[0]))\n",
    "plt.figure(figsize=(9, 9))\n",
    "for i in range(data_norm.shape[0]):\n",
    "    plt.text(data_norm[i, 0], data_norm[i, 1], str(i), color=colormap[i],\n",
    "             fontdict={'weight': 'bold', 'size': 9})\n",
    "plt.xticks([]); plt.yticks([]);\n",
    "plt.savefig('d:/Special_topic/program/t-SNE_result/{}.png'.format(file_name))\n",
    "plt.show()"
   ]
  },
  {
   "cell_type": "markdown",
   "metadata": {
    "collapsed": false
   },
   "source": [
    "# 3D\n",
    "%matplotlib qt\n",
    "colormap = plt.cm.rainbow(np.linspace(0, 1, data_norm.shape[0]))\n",
    "plt.figure(figsize=(12, 12))\n",
    "ax = plt.subplot(111, projection='3d')\n",
    "for i in range(data_norm.shape[0]):\n",
    "    ax.text(data_norm[i,0], data_norm[i,1], data_norm[i,2],str(i), color=colormap[i])\n",
    "    # ax.scatter(data_norm[i,0], data_norm[i,1], data_norm[i,2],str(i), cmap=colormap[i])\n",
    "\n",
    "plt.savefig('d:/Special_topic/program/t-SNE_result/{}.png'.format(file_name))\n",
    "plt.show()\n"
   ]
  }
 ],
 "metadata": {
  "kernelspec": {
   "argv": [
    "C:/Users/Shawn/anaconda3/envs/tf-gpu\\python.exe",
    "-m",
    "ipykernel_launcher",
    "-f",
    "{connection_file}"
   ],
   "display_name": "Python 3",
   "env": null,
   "interrupt_mode": "signal",
   "language": "python",
   "metadata": null,
   "name": "python3"
  },
  "language_info": {
   "codemirror_mode": {
    "name": "ipython",
    "version": 3
   },
   "file_extension": ".py",
   "mimetype": "text/x-python",
   "name": "python",
   "nbconvert_exporter": "python",
   "pygments_lexer": "ipython3",
   "version": "3.7.7"
  },
  "name": "64_Pleurotus_eryngii.ipynb"
 },
 "nbformat": 4,
 "nbformat_minor": 4
}
